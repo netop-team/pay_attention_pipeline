{
 "cells": [
  {
   "cell_type": "markdown",
   "metadata": {},
   "source": [
    "# Example - generation with GUIDE\n",
    "\n",
    "In this notebook, we show how to use generation with GUIDE and compare the performance with an example to the base model"
   ]
  },
  {
   "cell_type": "code",
   "execution_count": 1,
   "metadata": {},
   "outputs": [],
   "source": [
    "%load_ext autoreload\n",
    "%autoreload 2"
   ]
  },
  {
   "cell_type": "code",
   "execution_count": 2,
   "metadata": {},
   "outputs": [],
   "source": [
    "import os\n",
    "while \"examples\" in os.getcwd():\n",
    "    os.chdir(\"..\")\n",
    "\n",
    "# from pipeline import \n",
    "from transformers import pipeline\n",
    "from transformers.pipelines import PIPELINE_REGISTRY\n",
    "from transformers import AutoModelForCausalLM\n",
    "from transformers import AutoModel, AutoTokenizer, BitsAndBytesConfig\n",
    "\n",
    "from pay_attention_pipeline import PayAttentionPipeline\n",
    "import torch\n",
    "\n",
    "import matplotlib.pyplot as plt"
   ]
  },
  {
   "cell_type": "code",
   "execution_count": 3,
   "metadata": {},
   "outputs": [
    {
     "data": {
      "text/plain": [
       "('pay-attention',\n",
       " {'impl': pipeline.pay_attention_pipeline.PayAttentionPipeline,\n",
       "  'pt': (transformers.models.auto.modeling_auto.AutoModelForCausalLM,),\n",
       "  'tf': (),\n",
       "  'default': {'model': {'pt': ('mistralai/Mistral-7B-Instruct-v0.1',\n",
       "     '1b62ab7')}},\n",
       "  'type': 'text'},\n",
       " None)"
      ]
     },
     "execution_count": 3,
     "metadata": {},
     "output_type": "execute_result"
    }
   ],
   "source": [
    "PIPELINE_REGISTRY.check_task(\"pay-attention\")"
   ]
  },
  {
   "cell_type": "markdown",
   "metadata": {},
   "source": [
    "## Loading generative model\n",
    "\n",
    "We recommend using only Mistral or Llama models for now, due to specific implementation details in HuggingFace."
   ]
  },
  {
   "cell_type": "code",
   "execution_count": 4,
   "metadata": {},
   "outputs": [
    {
     "data": {
      "application/vnd.jupyter.widget-view+json": {
       "model_id": "c0fcedefceb34e79bf9668ac7f9ec736",
       "version_major": 2,
       "version_minor": 0
      },
      "text/plain": [
       "Loading checkpoint shards:   0%|          | 0/2 [00:00<?, ?it/s]"
      ]
     },
     "metadata": {},
     "output_type": "display_data"
    }
   ],
   "source": [
    "quantization_config = BitsAndBytesConfig(\n",
    "    load_in_4bit=True,\n",
    "    bnb_4bit_quant_type=\"nf4\",\n",
    "    bnb_4bit_use_double_quant=True,\n",
    "    bnb_4bit_compute_dtype=torch.bfloat16\n",
    ")\n",
    "\n",
    "\n",
    "tokenizer = AutoTokenizer.from_pretrained(\n",
    "    \"mistralai/Mistral-7B-Instruct-v0.1\",\n",
    "    cache_dir = \"/Data\"    \n",
    ")\n",
    "\n",
    "base_model = AutoModelForCausalLM.from_pretrained(\n",
    "    \"mistralai/Mistral-7B-Instruct-v0.1\",\n",
    "    quantization_config = quantization_config,\n",
    "    device_map=\"auto\",\n",
    "    attn_implementation=\"eager\",\n",
    "    cache_dir = \"/Data\" \n",
    ")"
   ]
  },
  {
   "cell_type": "markdown",
   "metadata": {},
   "source": [
    "## Loading pipeline"
   ]
  },
  {
   "cell_type": "code",
   "execution_count": 6,
   "metadata": {},
   "outputs": [],
   "source": [
    "pipe= pipeline(\n",
    "    \"pay-attention\", \n",
    "    model = base_model,\n",
    "    tokenizer = tokenizer, \n",
    "    model_kwargs=dict(cache_dir = \"/Data\"),\n",
    ")"
   ]
  },
  {
   "cell_type": "markdown",
   "metadata": {},
   "source": [
    "## Prompt\n",
    "\n",
    "The prompt was chosen to stay within the model's context length of 4096 tokens while being large enough to trigger potential hallucinations by the model."
   ]
  },
  {
   "cell_type": "code",
   "execution_count": 12,
   "metadata": {},
   "outputs": [],
   "source": [
    "# extract from Harry Potter and the Sorcerer's Stone's book\n",
    "prompt = '''\n",
    "Harry Potter and the Sorcerer's Stone\n",
    "CHAPTER ONE\n",
    "THE BOY WHO LIVED\n",
    "Mr. and Mrs. Dursley, of number four, Privet Drive, were proud to say\n",
    "that they were perfectly normal, thank you very much. They were the last\n",
    "people you'd expect to be involved in anything strange or mysterious,\n",
    "because they just didn't hold with such nonsense.\n",
    "Mr. Dursley was the director of a firm called Grunnings, which made\n",
    "drills. He was a big, beefy man with hardly any neck, although he did\n",
    "have a very large mustache. Mrs. Dursley was thin and blonde and had\n",
    "nearly twice the usual amount of neck, which came in very useful as she\n",
    "spent so much of her time craning over garden fences, spying on the\n",
    "neighbors. The Dursleys had a small son called Dudley and in their\n",
    "opinion there was no finer boy anywhere.\n",
    "The Dursleys had everything they wanted, but they also had a secret, and\n",
    "their greatest fear was that somebody would discover it. They didn't\n",
    "think they could bear it if anyone found out about the Potters. Mrs.\n",
    "Potter was Mrs. Dursley's sister, but they hadn't met for several years;\n",
    "in fact, Mrs. Dursley pretended she didn't have a sister, because her\n",
    "sister and her good-for-nothing husband were as unDursleyish as it was\n",
    "possible to be. The Dursleys shuddered to think what the neighbors would\n",
    "say if the Potters arrived in the street. The Dursleys knew that the\n",
    "Potters had a small son, too, but they had never even seen him. This boy\n",
    "was another good reason for keeping the Potters away; they didn't want\n",
    "Dudley mixing with a child like that.\n",
    "When Mr. and Mrs. Dursley woke up on the dull, gray Tuesday our story\n",
    "starts, there was nothing about the cloudy sky outside to suggest that\n",
    "strange and mysterious things would soon be happening all over the\n",
    "country. Mr. Dursley hummed as he picked out his most boring tie for\n",
    "work, and Mrs. Dursley gossiped away happily as she wrestled a screaming\n",
    "Dudley into his high chair.\n",
    "None of them noticed a large, tawny owl flutter past the window.\n",
    "At half past eight, Mr. Dursley picked up his briefcase, pecked Mrs.\n",
    "Dursley on the cheek, and tried to kiss Dudley good-bye but missed,\n",
    "2\n",
    "because Dudley was now having a tantrum and throwing his cereal at the\n",
    "walls. \"Little tyke,\" chortled Mr. Dursley as he left the house. He got\n",
    "into his car and backed out of number four's drive.\n",
    "It was on the corner of the street that he noticed the first sign of\n",
    "something peculiar -- a cat reading a map. For a second, Mr. Dursley\n",
    "didn't realize what he had seen -- then he jerked his head around to\n",
    "look again. There was a tabby cat standing on the corner of Privet\n",
    "Drive, but there wasn't a map in sight. What could he have been thinking\n",
    "of? It must have been a trick of the light. Mr. Dursley blinked and\n",
    "stared at the cat. It stared back. As Mr. Dursley drove around the\n",
    "corner and up the road, he watched the cat in his mirror. It was now\n",
    "reading the sign that said Privet Drive -- no, looking at the sign; cats\n",
    "couldn't read maps or signs. Mr. Dursley gave himself a little shake and\n",
    "put the cat out of his mind. As he drove toward town he thought of\n",
    "nothing except a large order of drills he was hoping to get that day.\n",
    "But on the edge of town, drills were driven out of his mind by something\n",
    "else. As he sat in the usual morning traffic jam, he couldn't help\n",
    "noticing that there seemed to be a lot of strangely dressed people\n",
    "about. People in cloaks. Mr. Dursley couldn't bear people who dressed in\n",
    "funny clothes -- the getups you saw on young people! He supposed this\n",
    "was some stupid new fashion. He drummed his fingers on the steering\n",
    "wheel and his eyes fell on a huddle of these weirdos standing quite\n",
    "close by. They were whispering excitedly together. Mr. Dursley was\n",
    "enraged to see that a couple of them weren't young at all; why, that man\n",
    "had to be older than he was, and wearing an emerald-green cloak! The\n",
    "nerve of him! But then it struck Mr. Dursley that this was probably some\n",
    "silly stunt -- these people were obviously collecting for something...\n",
    "yes, that would be it. The traffic moved on and a few minutes later, Mr.\n",
    "Dursley arrived in the Grunnings parking lot, his mind back on drills.\n",
    "Mr. Dursley always sat with his back to the window in his office on the\n",
    "ninth floor. If he hadn't, he might have found it harder to concentrate\n",
    "on drills that morning. He didn't see the owls swoop ing past in broad\n",
    "daylight, though people down in the street did; they pointed and gazed\n",
    "open- mouthed as owl after owl sped overhead. Most of them had never\n",
    "seen an owl even at nighttime. Mr. Dursley, however, had a perfectly\n",
    "normal, owl-free morning. He yelled at five different people. He made\n",
    "several important telephone calls and shouted a bit more. He was in a\n",
    "very good mood until lunchtime, when he thought he'd stretch his legs\n",
    "and walk across the road to buy himself a bun from the bakery.\n",
    "3\n",
    "He'd forgotten all about the people in cloaks until he passed a group of\n",
    "them next to the baker's. He eyed them angrily as he passed. He didn't\n",
    "know why, but they made him uneasy. This bunch were whispering\n",
    "excitedly, too, and he couldn't see a single collecting tin. It was on\n",
    "his way back past them, clutching a large doughnut in a bag, that he\n",
    "caught a few words of what they were saying.\n",
    "\"The Potters, that's right, that's what I heard yes, their son, Harry\"\n",
    "Mr. Dursley stopped dead. Fear flooded him. He looked back at the\n",
    "whisperers as if he wanted to say something to them, but thought better\n",
    "of it.\n",
    "He dashed back across the road, hurried up to his office, snapped at his\n",
    "secretary not to disturb him, seized his telephone, and had almost\n",
    "finished dialing his home number when he changed his mind. He put the\n",
    "receiver back down and stroked his mustache, thinking... no, he was\n",
    "being stupid. Potter wasn't such an unusual name. He was sure there were\n",
    "lots of people called Potter who had a son called Harry. Come to think\n",
    "of it, he wasn't even sure his nephew was called Harry. He'd never even\n",
    "seen the boy. It might have been Harvey. Or Harold. There was no point\n",
    "in worrying Mrs. Dursley; she always got so upset at any mention of her\n",
    "sister. He didn't blame her -- if he'd had a sister like that... but all\n",
    "the same, those people in cloaks...\n",
    "He found it a lot harder to concentrate on drills that afternoon and\n",
    "when he left the building at five o'clock, he was still so worried that\n",
    "he walked straight into someone just outside the door.\n",
    "\"Sorry,\" he grunted, as the tiny old man stumbled and almost fell. It\n",
    "was a few seconds before Mr. Dursley realized that the man was wearing a\n",
    "violet cloak. He didn't seem at all upset at being almost knocked to the\n",
    "ground. On the contrary, his face split into a wide smile and he said in\n",
    "a squeaky voice that made passersby stare, \"Don't be sorry, my dear sir,\n",
    "for nothing could upset me today! Rejoice, for You-Know-Who has gone at\n",
    "last! Even Muggles like yourself should be celebrating, this happy,\n",
    "happy day!\"\n",
    "And the old man hugged Mr. Dursley around the middle and walked off.\n",
    "Mr. Dursley stood rooted to the spot. He had been hugged by a complete\n",
    "stranger. He also thought he had been called a Muggle, whatever that\n",
    "was. He was rattled. He hurried to his car and set off for home, hoping\n",
    "4\n",
    "he was imagining things, which he had never hoped before, because he\n",
    "didn't approve of imagination.\n",
    "As he pulled into the driveway of number four, the first thing he saw --\n",
    "and it didn't improve his mood -- was the tabby cat he'd spotted that\n",
    "morning. It was now sitting on his garden wall. He was sure it was the\n",
    "same one; it had the same markings around its eyes.\n",
    "\"Shoo!\" said Mr. Dursley loudly. The cat didn't move. It just gave him a\n",
    "stern look. Was this normal cat behavior? Mr. Dursley wondered. Trying\n",
    "to pull himself together, he let himself into the house. He was still\n",
    "determined not to mention anything to his wife.\n",
    "Mrs. Dursley had had a nice, normal day. She told him over dinner all\n",
    "about Mrs. Next Door's problems with her daughter and how Dudley had\n",
    "learned a new word (\"Won't!\"). Mr. Dursley tried to act normally. When\n",
    "Dudley had been put to bed, he went into the living room in time to\n",
    "catch the last report on the evening news:\n",
    "\"And finally, bird-watchers everywhere have reported that the nation's\n",
    "owls have been behaving very unusually today. Although owls normally\n",
    "hunt at night and are hardly ever seen in daylight, there have been\n",
    "hundreds of sightings of these birds flying in every direction since\n",
    "sunrise. Experts are unable to explain why the owls have suddenly\n",
    "changed their sleeping pattern.\" The newscaster allowed himself a grin.\n",
    "\"Most mysterious. And now, over to Jim McGuffin with the weather. Going\n",
    "to be any more showers of owls tonight, Jim?\"\n",
    "\"Well, Ted,\" said the weatherman, \"I don't know about that, but it's not\n",
    "only the owls that have been acting oddly today. Viewers as far apart as\n",
    "Kent, Yorkshire, and Dundee have been phoning in to tell me that instead\n",
    "of the rain I promised yesterday, they've had a downpour of shooting\n",
    "stars! Perhaps people have been celebrating Bonfire Night early -- it's\n",
    "not until next week, folks! But I can promise a wet night tonight.\"\n",
    "Mr. Dursley sat frozen in his armchair. Shooting stars all over Britain?\n",
    "Owls flying by daylight? Mysterious people in cloaks all over the place?\n",
    "And a whisper, a whisper about the Potters...\n",
    "Mrs. Dursley came into the living room carrying two cups of tea. It was\n",
    "no good. He'd have to say something to her. He cleared his throat\n",
    "nervously. \"Er -- Petunia, dear -- you haven't heard from your sister\n",
    "lately, have you?\"\n",
    "5\n",
    "As he had expected, Mrs. Dursley looked shocked and angry. After all,\n",
    "they normally pretended she didn't have a sister.\n",
    "\"No,\" she said sharply. \"Why?\"\n",
    "\"Funny stuff on the news,\" Mr. Dursley mumbled. \"Owls... shooting\n",
    "stars... and there were a lot of funny-looking people in town today...\"\n",
    "\"So?\" snapped Mrs. Dursley.\n",
    "\"Well, I just thought... maybe... it was something to do with... you\n",
    "know... her crowd.\"\n",
    "Mrs. Dursley sipped her tea through pursed lips. Mr. Dursley wondered\n",
    "whether he dared tell her he'd heard the name \"Potter.\" He decided he\n",
    "didn't dare. Instead he said, as casually as he could, \"Their son --\n",
    "he'd be about Dudley's age now, wouldn't he?\"\n",
    "\"I suppose so,\" said Mrs. Dursley stiffly.\n",
    "\"What's his name again? Howard, isn't it?\"\n",
    "\"Harry. Nasty, common name, if you ask me.\"\n",
    "\"Oh, yes,\" said Mr. Dursley, his heart sinking horribly. \"Yes, I quite\n",
    "agree.\"\n",
    "He didn't say another word on the subject as they went upstairs to bed.\n",
    "While Mrs. Dursley was in the bathroom, Mr. Dursley crept to the bedroom\n",
    "window and peered down into the front garden. The cat was still there.\n",
    "It was staring down Privet Drive as though it were waiting for\n",
    "something.\n",
    "Was he imagining things? Could all this have anything to do with the\n",
    "Potters? If it did... if it got out that they were related to a pair of\n",
    "-- well, he didn't think he could bear it.\n",
    "The Dursleys got into bed. Mrs. Dursley fell asleep quickly but Mr.\n",
    "Dursley lay awake, turning it all over in his mind. His last, comforting\n",
    "thought before he fell asleep was that even if the Potters were\n",
    "involved, there was no reason for them to come near him and Mrs.\n",
    "Dursley. The Potters knew very well what he and Petunia thought about\n",
    "6\n",
    "them and their kind.... He couldn't see how he and Petunia could get\n",
    "mixed up in anything that might be going on -- he yawned and turned over\n",
    "-- it couldn't affect them....\n",
    "How very wrong he was.\n",
    "Mr. Dursley might have been drifting into an uneasy sleep, but the cat\n",
    "on the wall outside was showing no sign of sleepiness. It was sitting as\n",
    "still as a statue, its eyes fixed unblinkingly on the far corner of\n",
    "Privet Drive. It didn't so much as quiver when a car door slammed on the\n",
    "next street, nor when two owls swooped overhead. In fact, it was nearly\n",
    "midnight before the cat moved at all.\n",
    "A man appeared on the corner the cat had been watching, appeared so\n",
    "suddenly and silently you'd have thought he'd just popped out of the\n",
    "ground. The cat's tail twitched and its eyes narrowed.\n",
    "Nothing like this man had ever been seen on Privet Drive. He was tall,\n",
    "thin, and very old, judging by the silver of his hair and beard, which\n",
    "were both long enough to tuck into his belt. He was wearing long robes,\n",
    "a purple cloak that swept the ground, and high-heeled, buckled boots.\n",
    "His blue eyes were light, bright, and sparkling behind half-moon\n",
    "spectacles and his nose was very long and crooked, as though it had been\n",
    "broken at least twice. This man's name was Albus Dumbledore.\n",
    "Albus Dumbledore didn't seem to realize that he had just arrived in a\n",
    "street where everything from his name to his boots was unwelcome. He was\n",
    "busy rummaging in his cloak, looking for something. But he did seem to\n",
    "realize he was being watched, because he looked up suddenly at the cat,\n",
    "which was still staring at him from the other end of the street. For\n",
    "some reason, the sight of the cat seemed to amuse him. He chuckled and\n",
    "muttered, \"I should have known.\"\n",
    "He found what he was looking for in his inside pocket. It seemed to be a\n",
    "silver cigarette lighter. He flicked it open, held it up in the air, and\n",
    "clicked it. The nearest street lamp went out with a little pop. He\n",
    "clicked it again -- the next lamp flickered into darkness. Twelve times\n",
    "he clicked the Put-Outer, until the only lights left on the whole street\n",
    "were two tiny pinpricks in the distance, which were the eyes of the cat\n",
    "watching him. If anyone looked out of their window now, even beady-eyed\n",
    "Mrs. Dursley, they wouldn't be able to see anything that was happening\n",
    "down on the pavement. Dumbledore slipped the Put-Outer back inside his\n",
    "cloak and set off down the street toward number four, where he sat down\n",
    "7\n",
    "on the wall next to the cat. He didn't look at it, but after a moment he\n",
    "spoke to it.\n",
    "\"Fancy seeing you here, Professor McGonagall.\"\n",
    "He turned to smile at the tabby, but it had gone. Instead he was smiling\n",
    "at a rather severe-looking woman who was wearing square glasses exactly\n",
    "the shape of the markings the cat had had around its eyes. She, too, was\n",
    "wearing a cloak, an emerald one. Her black hair was drawn into a tight\n",
    "bun. She looked distinctly ruffled.\n",
    "\"How did you know it was me?\" she asked.\n",
    "\"My dear Professor, I 've never seen a cat sit so stiffly.\"\n",
    "\"You'd be stiff if you'd been sitting on a brick wall all day,\" said\n",
    "Professor McGonagall.\n",
    "\"All day? When you could have been celebrating? I must have passed a\n",
    "dozen feasts and parties on my way here.\"\n",
    "Professor McGonagall sniffed angrily.\n",
    "\n",
    "'''"
   ]
  },
  {
   "cell_type": "code",
   "execution_count": 13,
   "metadata": {},
   "outputs": [
    {
     "data": {
      "text/plain": [
       "3981"
      ]
     },
     "execution_count": 13,
     "metadata": {},
     "output_type": "execute_result"
    }
   ],
   "source": [
    "context_length = len(tokenizer(prompt)['input_ids'])\n",
    "context_length"
   ]
  },
  {
   "cell_type": "code",
   "execution_count": 21,
   "metadata": {},
   "outputs": [
    {
     "data": {
      "text/plain": [
       "MistralAttention(\n",
       "  (q_proj): Linear4bit(in_features=4096, out_features=4096, bias=False)\n",
       "  (k_proj): Linear4bit(in_features=4096, out_features=1024, bias=False)\n",
       "  (v_proj): Linear4bit(in_features=4096, out_features=1024, bias=False)\n",
       "  (o_proj): Linear4bit(in_features=4096, out_features=4096, bias=False)\n",
       "  (rotary_emb): MistralRotaryEmbedding()\n",
       ")"
      ]
     },
     "execution_count": 21,
     "metadata": {},
     "output_type": "execute_result"
    }
   ],
   "source": [
    "base_model.model.layers[0].self_attn"
   ]
  },
  {
   "cell_type": "code",
   "execution_count": 22,
   "metadata": {},
   "outputs": [
    {
     "name": "stderr",
     "output_type": "stream",
     "text": [
      "The attention mask and the pad token id were not set. As a consequence, you may observe unexpected behavior. Please pass your input's `attention_mask` to obtain reliable results.\n",
      "Setting `pad_token_id` to `eos_token_id`:2 for open-end generation.\n"
     ]
    },
    {
     "name": "stdout",
     "output_type": "stream",
     "text": [
      "> \u001b[0;32m/users/eleves-a/2022/pedro.silva/Desktop/pay_attention_pipeline/src/GUIDE.py\u001b[0m(381)\u001b[0;36mchange_and_fetch_attention\u001b[0;34m()\u001b[0m\n",
      "\u001b[0;32m    379 \u001b[0;31m        \u001b[0;32mimport\u001b[0m \u001b[0mpdb\u001b[0m\u001b[0;34m\u001b[0m\u001b[0;34m\u001b[0m\u001b[0m\n",
      "\u001b[0m\u001b[0;32m    380 \u001b[0;31m        \u001b[0mpdb\u001b[0m\u001b[0;34m.\u001b[0m\u001b[0mset_trace\u001b[0m\u001b[0;34m(\u001b[0m\u001b[0;34m)\u001b[0m\u001b[0;34m\u001b[0m\u001b[0;34m\u001b[0m\u001b[0m\n",
      "\u001b[0m\u001b[0;32m--> 381 \u001b[0;31m        \u001b[0mattn_weights\u001b[0m \u001b[0;34m=\u001b[0m \u001b[0mattn_weights\u001b[0m \u001b[0;34m+\u001b[0m \u001b[0mcausal_mask\u001b[0m\u001b[0;34m\u001b[0m\u001b[0;34m\u001b[0m\u001b[0m\n",
      "\u001b[0m\u001b[0;32m    382 \u001b[0;31m\u001b[0;34m\u001b[0m\u001b[0m\n",
      "\u001b[0m\u001b[0;32m    383 \u001b[0;31m        \u001b[0;31m# upcast attention to fp32\u001b[0m\u001b[0;34m\u001b[0m\u001b[0;34m\u001b[0m\u001b[0m\n",
      "\u001b[0m\n",
      "*** NameError: name 'past_key_values' is not defined\n",
      "*** NameError: name 'past_key_values' is not defined\n",
      "*** NameError: name 'past_key_values' is not defined\n",
      "*** NameError: name 'past_key_values' is not defined\n",
      "*** NameError: name 'past_key_values' is not defined\n",
      "*** NameError: name 'past_key_values' is not defined\n",
      "*** NameError: name 'past_key_values' is not defined\n",
      "*** NameError: name 'past_key_values' is not defined\n",
      "*** NameError: name 'past_key_values' is not defined\n",
      "*** NameError: name 'past_key_values' is not defined\n",
      "*** NameError: name 'past_key_values' is not defined\n",
      "*** NameError: name 'past_key_values' is not defined\n",
      "DynamicCache()\n",
      "[tensor([[[[-0.5078,  0.1260,  0.6758,  ..., -1.6250, -2.1562, -2.1875],\n",
      "          [ 5.1406, -3.8047, -2.1387,  ...,  2.2031,  0.7456, -0.0135],\n",
      "          [ 2.5020, -5.0625,  1.5020,  ...,  2.3906,  1.4521,  0.5815],\n",
      "          ...,\n",
      "          [-0.3398,  3.3867, -2.2578,  ...,  1.6719, -1.0625, -1.1953],\n",
      "          [ 6.8086,  0.2266,  0.4131,  ...,  2.1387, -0.5713, -0.5835],\n",
      "          [ 2.9004, -1.8145,  1.6445,  ...,  0.8066, -0.7139, -1.1113]],\n",
      "\n",
      "         [[ 0.0693,  0.0703,  0.0728,  ...,  3.5625, -3.6875,  1.7578],\n",
      "          [ 0.1208, -0.7803,  0.0262,  ..., -4.4062,  4.2812, -1.6562],\n",
      "          [ 0.0171, -0.1357,  0.1580,  ..., -3.2031,  3.1562, -1.1318],\n",
      "          ...,\n",
      "          [-0.1035,  0.2742, -0.1677,  ..., -4.2773,  4.4414,  0.2031],\n",
      "          [ 0.0330, -0.1531,  0.1375,  ..., -3.0879,  3.2031,  0.2842],\n",
      "          [ 0.2974, -0.4812,  0.1812,  ..., -2.7402,  2.8496,  0.1602]],\n",
      "\n",
      "         [[ 0.1982, -0.1426,  0.1484,  ..., -0.8828, -0.9180,  0.8906],\n",
      "          [ 0.0342,  2.7012, -2.0430,  ...,  1.9062,  1.8203, -1.7188],\n",
      "          [ 2.1543,  1.5127, -1.2344,  ...,  1.4922,  1.4453, -1.3594],\n",
      "          ...,\n",
      "          [-3.4102, -1.8809, -1.8750,  ...,  2.2266,  2.2148, -2.0957],\n",
      "          [-2.0957, -0.0425, -1.4121,  ...,  1.7598,  1.7559, -1.6533],\n",
      "          [ 0.3975,  1.5771, -0.5381,  ...,  1.6914,  1.6865, -1.5713]],\n",
      "\n",
      "         ...,\n",
      "\n",
      "         [[ 0.0515,  0.0461, -0.0659,  ...,  1.8984, -2.1875,  1.6562],\n",
      "          [-1.2119,  0.0222,  0.2708,  ..., -1.4844,  2.5938, -1.1406],\n",
      "          [-0.9526,  0.0894, -0.0948,  ..., -1.6553,  2.5000, -1.5303],\n",
      "          ...,\n",
      "          [ 0.4111,  0.5234,  0.4541,  ...,  0.3330,  3.0059,  0.3442],\n",
      "          [-0.3462,  0.3213, -0.1594,  ...,  0.0264,  3.1406, -0.1064],\n",
      "          [-0.8022,  0.1814,  0.1002,  ...,  0.1172,  1.3389,  0.2917]],\n",
      "\n",
      "         [[ 0.0703, -0.0099, -0.1299,  ..., -1.2188, -1.2891, -1.9062],\n",
      "          [ 0.8906, -0.8984, -0.7070,  ...,  2.2031,  2.5625,  2.7031],\n",
      "          [ 1.0322, -1.2324, -0.3276,  ...,  1.1475,  1.4062,  2.0625],\n",
      "          ...,\n",
      "          [-0.1255,  1.3828, -1.1230,  ...,  1.3398,  1.9980,  1.3623],\n",
      "          [ 1.1572,  1.4639, -0.5967,  ..., -0.1255,  0.8193,  0.9956],\n",
      "          [ 0.7373,  0.1594,  0.6777,  ...,  1.6494,  1.8398,  1.3027]],\n",
      "\n",
      "         [[ 0.1836,  0.1572,  0.0752,  ...,  0.9219, -0.7578, -0.9336],\n",
      "          [-4.3281, -3.3320, -0.8062,  ..., -0.5151, -2.0625,  0.7886],\n",
      "          [-0.3086, -1.9102,  2.3613,  ..., -0.6011, -1.8750,  0.8433],\n",
      "          ...,\n",
      "          [-0.3496,  2.3574, -1.1797,  ...,  1.0762, -1.9961, -0.4883],\n",
      "          [-4.6875, -1.5615,  1.9131,  ...,  0.8330, -1.8037, -0.2661],\n",
      "          [-2.5762, -2.0820,  1.5869,  ...,  0.8809, -1.7822, -0.4417]]]],\n",
      "       device='cuda:0', dtype=torch.float16)]\n",
      "tensor([[[[-0.5078,  0.1260,  0.6758,  ..., -1.6250, -2.1562, -2.1875],\n",
      "          [ 5.1406, -3.8047, -2.1387,  ...,  2.2031,  0.7456, -0.0135],\n",
      "          [ 2.5020, -5.0625,  1.5020,  ...,  2.3906,  1.4521,  0.5815],\n",
      "          ...,\n",
      "          [-0.3398,  3.3867, -2.2578,  ...,  1.6719, -1.0625, -1.1953],\n",
      "          [ 6.8086,  0.2266,  0.4131,  ...,  2.1387, -0.5713, -0.5835],\n",
      "          [ 2.9004, -1.8145,  1.6445,  ...,  0.8066, -0.7139, -1.1113]],\n",
      "\n",
      "         [[ 0.0693,  0.0703,  0.0728,  ...,  3.5625, -3.6875,  1.7578],\n",
      "          [ 0.1208, -0.7803,  0.0262,  ..., -4.4062,  4.2812, -1.6562],\n",
      "          [ 0.0171, -0.1357,  0.1580,  ..., -3.2031,  3.1562, -1.1318],\n",
      "          ...,\n",
      "          [-0.1035,  0.2742, -0.1677,  ..., -4.2773,  4.4414,  0.2031],\n",
      "          [ 0.0330, -0.1531,  0.1375,  ..., -3.0879,  3.2031,  0.2842],\n",
      "          [ 0.2974, -0.4812,  0.1812,  ..., -2.7402,  2.8496,  0.1602]],\n",
      "\n",
      "         [[ 0.1982, -0.1426,  0.1484,  ..., -0.8828, -0.9180,  0.8906],\n",
      "          [ 0.0342,  2.7012, -2.0430,  ...,  1.9062,  1.8203, -1.7188],\n",
      "          [ 2.1543,  1.5127, -1.2344,  ...,  1.4922,  1.4453, -1.3594],\n",
      "          ...,\n",
      "          [-3.4102, -1.8809, -1.8750,  ...,  2.2266,  2.2148, -2.0957],\n",
      "          [-2.0957, -0.0425, -1.4121,  ...,  1.7598,  1.7559, -1.6533],\n",
      "          [ 0.3975,  1.5771, -0.5381,  ...,  1.6914,  1.6865, -1.5713]],\n",
      "\n",
      "         ...,\n",
      "\n",
      "         [[ 0.0515,  0.0461, -0.0659,  ...,  1.8984, -2.1875,  1.6562],\n",
      "          [-1.2119,  0.0222,  0.2708,  ..., -1.4844,  2.5938, -1.1406],\n",
      "          [-0.9526,  0.0894, -0.0948,  ..., -1.6553,  2.5000, -1.5303],\n",
      "          ...,\n",
      "          [ 0.4111,  0.5234,  0.4541,  ...,  0.3330,  3.0059,  0.3442],\n",
      "          [-0.3462,  0.3213, -0.1594,  ...,  0.0264,  3.1406, -0.1064],\n",
      "          [-0.8022,  0.1814,  0.1002,  ...,  0.1172,  1.3389,  0.2917]],\n",
      "\n",
      "         [[ 0.0703, -0.0099, -0.1299,  ..., -1.2188, -1.2891, -1.9062],\n",
      "          [ 0.8906, -0.8984, -0.7070,  ...,  2.2031,  2.5625,  2.7031],\n",
      "          [ 1.0322, -1.2324, -0.3276,  ...,  1.1475,  1.4062,  2.0625],\n",
      "          ...,\n",
      "          [-0.1255,  1.3828, -1.1230,  ...,  1.3398,  1.9980,  1.3623],\n",
      "          [ 1.1572,  1.4639, -0.5967,  ..., -0.1255,  0.8193,  0.9956],\n",
      "          [ 0.7373,  0.1594,  0.6777,  ...,  1.6494,  1.8398,  1.3027]],\n",
      "\n",
      "         [[ 0.1836,  0.1572,  0.0752,  ...,  0.9219, -0.7578, -0.9336],\n",
      "          [-4.3281, -3.3320, -0.8062,  ..., -0.5151, -2.0625,  0.7886],\n",
      "          [-0.3086, -1.9102,  2.3613,  ..., -0.6011, -1.8750,  0.8433],\n",
      "          ...,\n",
      "          [-0.3496,  2.3574, -1.1797,  ...,  1.0762, -1.9961, -0.4883],\n",
      "          [-4.6875, -1.5615,  1.9131,  ...,  0.8330, -1.8037, -0.2661],\n",
      "          [-2.5762, -2.0820,  1.5869,  ...,  0.8809, -1.7822, -0.4417]]]],\n",
      "       device='cuda:0', dtype=torch.float16)\n",
      "torch.Size([1, 8, 7984, 128])\n",
      "torch.Size([1, 8, 7984, 128])\n",
      "*** IndexError: list index out of range\n",
      "*** IndexError: list index out of range\n",
      "*** IndexError: list index out of range\n",
      "*** IndexError: list index out of range\n",
      "*** IndexError: list index out of range\n",
      "*** IndexError: list index out of range\n",
      "*** IndexError: list index out of range\n",
      "*** IndexError: list index out of range\n",
      "*** IndexError: list index out of range\n"
     ]
    }
   ],
   "source": [
    "\n",
    "message = [{'role': \"user\", \"content\":\"Summarize in French\" + prompt}]\n",
    "normal_output = pipe(message, max_new_tokens = 100)"
   ]
  },
  {
   "cell_type": "code",
   "execution_count": null,
   "metadata": {},
   "outputs": [
    {
     "data": {
      "text/plain": [
       "[{'role': 'user',\n",
       "  'content': 'Summarize in French\\nHarry Potter and the Sorcerer\\'s Stone\\nCHAPTER ONE\\nTHE BOY WHO LIVED\\nMr. and Mrs. Dursley, of number four, Privet Drive, were proud to say\\nthat they were perfectly normal, thank you very much. They were the last\\npeople you\\'d expect to be involved in anything strange or mysterious,\\nbecause they just didn\\'t hold with such nonsense.\\nMr. Dursley was the director of a firm called Grunnings, which made\\ndrills. He was a big, beefy man with hardly any neck, although he did\\nhave a very large mustache. Mrs. Dursley was thin and blonde and had\\nnearly twice the usual amount of neck, which came in very useful as she\\nspent so much of her time craning over garden fences, spying on the\\nneighbors. The Dursleys had a small son called Dudley and in their\\nopinion there was no finer boy anywhere.\\nThe Dursleys had everything they wanted, but they also had a secret, and\\ntheir greatest fear was that somebody would discover it. They didn\\'t\\nthink they could bear it if anyone found out about the Potters. Mrs.\\nPotter was Mrs. Dursley\\'s sister, but they hadn\\'t met for several years;\\nin fact, Mrs. Dursley pretended she didn\\'t have a sister, because her\\nsister and her good-for-nothing husband were as unDursleyish as it was\\npossible to be. The Dursleys shuddered to think what the neighbors would\\nsay if the Potters arrived in the street. The Dursleys knew that the\\nPotters had a small son, too, but they had never even seen him. This boy\\nwas another good reason for keeping the Potters away; they didn\\'t want\\nDudley mixing with a child like that.\\nWhen Mr. and Mrs. Dursley woke up on the dull, gray Tuesday our story\\nstarts, there was nothing about the cloudy sky outside to suggest that\\nstrange and mysterious things would soon be happening all over the\\ncountry. Mr. Dursley hummed as he picked out his most boring tie for\\nwork, and Mrs. Dursley gossiped away happily as she wrestled a screaming\\nDudley into his high chair.\\nNone of them noticed a large, tawny owl flutter past the window.\\nAt half past eight, Mr. Dursley picked up his briefcase, pecked Mrs.\\nDursley on the cheek, and tried to kiss Dudley good-bye but missed,\\n2\\nbecause Dudley was now having a tantrum and throwing his cereal at the\\nwalls. \"Little tyke,\" chortled Mr. Dursley as he left the house. He got\\ninto his car and backed out of number four\\'s drive.\\nIt was on the corner of the street that he noticed the first sign of\\nsomething peculiar -- a cat reading a map. For a second, Mr. Dursley\\ndidn\\'t realize what he had seen -- then he jerked his head around to\\nlook again. There was a tabby cat standing on the corner of Privet\\nDrive, but there wasn\\'t a map in sight. What could he have been thinking\\nof? It must have been a trick of the light. Mr. Dursley blinked and\\nstared at the cat. It stared back. As Mr. Dursley drove around the\\ncorner and up the road, he watched the cat in his mirror. It was now\\nreading the sign that said Privet Drive -- no, looking at the sign; cats\\ncouldn\\'t read maps or signs. Mr. Dursley gave himself a little shake and\\nput the cat out of his mind. As he drove toward town he thought of\\nnothing except a large order of drills he was hoping to get that day.\\nBut on the edge of town, drills were driven out of his mind by something\\nelse. As he sat in the usual morning traffic jam, he couldn\\'t help\\nnoticing that there seemed to be a lot of strangely dressed people\\nabout. People in cloaks. Mr. Dursley couldn\\'t bear people who dressed in\\nfunny clothes -- the getups you saw on young people! He supposed this\\nwas some stupid new fashion. He drummed his fingers on the steering\\nwheel and his eyes fell on a huddle of these weirdos standing quite\\nclose by. They were whispering excitedly together. Mr. Dursley was\\nenraged to see that a couple of them weren\\'t young at all; why, that man\\nhad to be older than he was, and wearing an emerald-green cloak! The\\nnerve of him! But then it struck Mr. Dursley that this was probably some\\nsilly stunt -- these people were obviously collecting for something...\\nyes, that would be it. The traffic moved on and a few minutes later, Mr.\\nDursley arrived in the Grunnings parking lot, his mind back on drills.\\nMr. Dursley always sat with his back to the window in his office on the\\nninth floor. If he hadn\\'t, he might have found it harder to concentrate\\non drills that morning. He didn\\'t see the owls swoop ing past in broad\\ndaylight, though people down in the street did; they pointed and gazed\\nopen- mouthed as owl after owl sped overhead. Most of them had never\\nseen an owl even at nighttime. Mr. Dursley, however, had a perfectly\\nnormal, owl-free morning. He yelled at five different people. He made\\nseveral important telephone calls and shouted a bit more. He was in a\\nvery good mood until lunchtime, when he thought he\\'d stretch his legs\\nand walk across the road to buy himself a bun from the bakery.\\n3\\nHe\\'d forgotten all about the people in cloaks until he passed a group of\\nthem next to the baker\\'s. He eyed them angrily as he passed. He didn\\'t\\nknow why, but they made him uneasy. This bunch were whispering\\nexcitedly, too, and he couldn\\'t see a single collecting tin. It was on\\nhis way back past them, clutching a large doughnut in a bag, that he\\ncaught a few words of what they were saying.\\n\"The Potters, that\\'s right, that\\'s what I heard yes, their son, Harry\"\\nMr. Dursley stopped dead. Fear flooded him. He looked back at the\\nwhisperers as if he wanted to say something to them, but thought better\\nof it.\\nHe dashed back across the road, hurried up to his office, snapped at his\\nsecretary not to disturb him, seized his telephone, and had almost\\nfinished dialing his home number when he changed his mind. He put the\\nreceiver back down and stroked his mustache, thinking... no, he was\\nbeing stupid. Potter wasn\\'t such an unusual name. He was sure there were\\nlots of people called Potter who had a son called Harry. Come to think\\nof it, he wasn\\'t even sure his nephew was called Harry. He\\'d never even\\nseen the boy. It might have been Harvey. Or Harold. There was no point\\nin worrying Mrs. Dursley; she always got so upset at any mention of her\\nsister. He didn\\'t blame her -- if he\\'d had a sister like that... but all\\nthe same, those people in cloaks...\\nHe found it a lot harder to concentrate on drills that afternoon and\\nwhen he left the building at five o\\'clock, he was still so worried that\\nhe walked straight into someone just outside the door.\\n\"Sorry,\" he grunted, as the tiny old man stumbled and almost fell. It\\nwas a few seconds before Mr. Dursley realized that the man was wearing a\\nviolet cloak. He didn\\'t seem at all upset at being almost knocked to the\\nground. On the contrary, his face split into a wide smile and he said in\\na squeaky voice that made passersby stare, \"Don\\'t be sorry, my dear sir,\\nfor nothing could upset me today! Rejoice, for You-Know-Who has gone at\\nlast! Even Muggles like yourself should be celebrating, this happy,\\nhappy day!\"\\nAnd the old man hugged Mr. Dursley around the middle and walked off.\\nMr. Dursley stood rooted to the spot. He had been hugged by a complete\\nstranger. He also thought he had been called a Muggle, whatever that\\nwas. He was rattled. He hurried to his car and set off for home, hoping\\n4\\nhe was imagining things, which he had never hoped before, because he\\ndidn\\'t approve of imagination.\\nAs he pulled into the driveway of number four, the first thing he saw --\\nand it didn\\'t improve his mood -- was the tabby cat he\\'d spotted that\\nmorning. It was now sitting on his garden wall. He was sure it was the\\nsame one; it had the same markings around its eyes.\\n\"Shoo!\" said Mr. Dursley loudly. The cat didn\\'t move. It just gave him a\\nstern look. Was this normal cat behavior? Mr. Dursley wondered. Trying\\nto pull himself together, he let himself into the house. He was still\\ndetermined not to mention anything to his wife.\\nMrs. Dursley had had a nice, normal day. She told him over dinner all\\nabout Mrs. Next Door\\'s problems with her daughter and how Dudley had\\nlearned a new word (\"Won\\'t!\"). Mr. Dursley tried to act normally. When\\nDudley had been put to bed, he went into the living room in time to\\ncatch the last report on the evening news:\\n\"And finally, bird-watchers everywhere have reported that the nation\\'s\\nowls have been behaving very unusually today. Although owls normally\\nhunt at night and are hardly ever seen in daylight, there have been\\nhundreds of sightings of these birds flying in every direction since\\nsunrise. Experts are unable to explain why the owls have suddenly\\nchanged their sleeping pattern.\" The newscaster allowed himself a grin.\\n\"Most mysterious. And now, over to Jim McGuffin with the weather. Going\\nto be any more showers of owls tonight, Jim?\"\\n\"Well, Ted,\" said the weatherman, \"I don\\'t know about that, but it\\'s not\\nonly the owls that have been acting oddly today. Viewers as far apart as\\nKent, Yorkshire, and Dundee have been phoning in to tell me that instead\\nof the rain I promised yesterday, they\\'ve had a downpour of shooting\\nstars! Perhaps people have been celebrating Bonfire Night early -- it\\'s\\nnot until next week, folks! But I can promise a wet night tonight.\"\\nMr. Dursley sat frozen in his armchair. Shooting stars all over Britain?\\nOwls flying by daylight? Mysterious people in cloaks all over the place?\\nAnd a whisper, a whisper about the Potters...\\nMrs. Dursley came into the living room carrying two cups of tea. It was\\nno good. He\\'d have to say something to her. He cleared his throat\\nnervously. \"Er -- Petunia, dear -- you haven\\'t heard from your sister\\nlately, have you?\"\\n5\\nAs he had expected, Mrs. Dursley looked shocked and angry. After all,\\nthey normally pretended she didn\\'t have a sister.\\n\"No,\" she said sharply. \"Why?\"\\n\"Funny stuff on the news,\" Mr. Dursley mumbled. \"Owls... shooting\\nstars... and there were a lot of funny-looking people in town today...\"\\n\"So?\" snapped Mrs. Dursley.\\n\"Well, I just thought... maybe... it was something to do with... you\\nknow... her crowd.\"\\nMrs. Dursley sipped her tea through pursed lips. Mr. Dursley wondered\\nwhether he dared tell her he\\'d heard the name \"Potter.\" He decided he\\ndidn\\'t dare. Instead he said, as casually as he could, \"Their son --\\nhe\\'d be about Dudley\\'s age now, wouldn\\'t he?\"\\n\"I suppose so,\" said Mrs. Dursley stiffly.\\n\"What\\'s his name again? Howard, isn\\'t it?\"\\n\"Harry. Nasty, common name, if you ask me.\"\\n\"Oh, yes,\" said Mr. Dursley, his heart sinking horribly. \"Yes, I quite\\nagree.\"\\nHe didn\\'t say another word on the subject as they went upstairs to bed.\\nWhile Mrs. Dursley was in the bathroom, Mr. Dursley crept to the bedroom\\nwindow and peered down into the front garden. The cat was still there.\\nIt was staring down Privet Drive as though it were waiting for\\nsomething.\\nWas he imagining things? Could all this have anything to do with the\\nPotters? If it did... if it got out that they were related to a pair of\\n-- well, he didn\\'t think he could bear it.\\nThe Dursleys got into bed. Mrs. Dursley fell asleep quickly but Mr.\\nDursley lay awake, turning it all over in his mind. His last, comforting\\nthought before he fell asleep was that even if the Potters were\\ninvolved, there was no reason for them to come near him and Mrs.\\nDursley. The Potters knew very well what he and Petunia thought about\\n6\\nthem and their kind.... He couldn\\'t see how he and Petunia could get\\nmixed up in anything that might be going on -- he yawned and turned over\\n-- it couldn\\'t affect them....\\nHow very wrong he was.\\nMr. Dursley might have been drifting into an uneasy sleep, but the cat\\non the wall outside was showing no sign of sleepiness. It was sitting as\\nstill as a statue, its eyes fixed unblinkingly on the far corner of\\nPrivet Drive. It didn\\'t so much as quiver when a car door slammed on the\\nnext street, nor when two owls swooped overhead. In fact, it was nearly\\nmidnight before the cat moved at all.\\nA man appeared on the corner the cat had been watching, appeared so\\nsuddenly and silently you\\'d have thought he\\'d just popped out of the\\nground. The cat\\'s tail twitched and its eyes narrowed.\\nNothing like this man had ever been seen on Privet Drive. He was tall,\\nthin, and very old, judging by the silver of his hair and beard, which\\nwere both long enough to tuck into his belt. He was wearing long robes,\\na purple cloak that swept the ground, and high-heeled, buckled boots.\\nHis blue eyes were light, bright, and sparkling behind half-moon\\nspectacles and his nose was very long and crooked, as though it had been\\nbroken at least twice. This man\\'s name was Albus Dumbledore.\\nAlbus Dumbledore didn\\'t seem to realize that he had just arrived in a\\nstreet where everything from his name to his boots was unwelcome. He was\\nbusy rummaging in his cloak, looking for something. But he did seem to\\nrealize he was being watched, because he looked up suddenly at the cat,\\nwhich was still staring at him from the other end of the street. For\\nsome reason, the sight of the cat seemed to amuse him. He chuckled and\\nmuttered, \"I should have known.\"\\nHe found what he was looking for in his inside pocket. It seemed to be a\\nsilver cigarette lighter. He flicked it open, held it up in the air, and\\nclicked it. The nearest street lamp went out with a little pop. He\\nclicked it again -- the next lamp flickered into darkness. Twelve times\\nhe clicked the Put-Outer, until the only lights left on the whole street\\nwere two tiny pinpricks in the distance, which were the eyes of the cat\\nwatching him. If anyone looked out of their window now, even beady-eyed\\nMrs. Dursley, they wouldn\\'t be able to see anything that was happening\\ndown on the pavement. Dumbledore slipped the Put-Outer back inside his\\ncloak and set off down the street toward number four, where he sat down\\n7\\non the wall next to the cat. He didn\\'t look at it, but after a moment he\\nspoke to it.\\n\"Fancy seeing you here, Professor McGonagall.\"\\nHe turned to smile at the tabby, but it had gone. Instead he was smiling\\nat a rather severe-looking woman who was wearing square glasses exactly\\nthe shape of the markings the cat had had around its eyes. She, too, was\\nwearing a cloak, an emerald one. Her black hair was drawn into a tight\\nbun. She looked distinctly ruffled.\\n\"How did you know it was me?\" she asked.\\n\"My dear Professor, I \\'ve never seen a cat sit so stiffly.\"\\n\"You\\'d be stiff if you\\'d been sitting on a brick wall all day,\" said\\nProfessor McGonagall.\\n\"All day? When you could have been celebrating? I must have passed a\\ndozen feasts and parties on my way here.\"\\nProfessor McGonagall sniffed angrily.\\n\\n'},\n",
       " {'role': 'assistant',\n",
       "  'content': \" The Boy Who Lived\\n\\nChapter One: The Boy Who Lived\\n\\nMr. and Mrs. Dursley, of number four, Privet Drive, were proud to say that they were perfectly normal, thank you very much. They were the last people you'd expect to be involved in anything strange or mysterious, because they just didn't hold with such nonsense. Mr. Dursley was the director of a firm called Grunnings, which made drills.\"}]"
      ]
     },
     "execution_count": 8,
     "metadata": {},
     "output_type": "execute_result"
    }
   ],
   "source": [
    "normal_output[0]['generated_text']"
   ]
  },
  {
   "cell_type": "markdown",
   "metadata": {},
   "source": [
    "Note that the output is not in French, and does not summarize the text. It's basically repeating the beggining of the prompt\n",
    "\n",
    "Let's proceed with generation using GUIDE, applying all three levels of enhancement."
   ]
  },
  {
   "cell_type": "code",
   "execution_count": 9,
   "metadata": {},
   "outputs": [
    {
     "name": "stderr",
     "output_type": "stream",
     "text": [
      "The attention mask and the pad token id were not set. As a consequence, you may observe unexpected behavior. Please pass your input's `attention_mask` to obtain reliable results.\n",
      "Setting `pad_token_id` to `eos_token_id`:2 for open-end generation.\n"
     ]
    },
    {
     "name": "stdout",
     "output_type": "stream",
     "text": [
      "Applying level 1 enhancement to the prompt. Delta = 0.5\n",
      "Inserting special attention on 'Summarize in French'\n"
     ]
    }
   ],
   "source": [
    "message_1 = [{'role': 'user', 'content': \"<!-> Summarize in French <-!>\" + prompt}]\n",
    "out_1 = pipe(message_1, max_new_tokens = 100)"
   ]
  },
  {
   "cell_type": "code",
   "execution_count": 10,
   "metadata": {},
   "outputs": [
    {
     "data": {
      "text/plain": [
       "[{'generated_text': [{'role': 'user',\n",
       "    'content': '<!-> Summarize in French <-!>\\nHarry Potter and the Sorcerer\\'s Stone\\nCHAPTER ONE\\nTHE BOY WHO LIVED\\nMr. and Mrs. Dursley, of number four, Privet Drive, were proud to say\\nthat they were perfectly normal, thank you very much. They were the last\\npeople you\\'d expect to be involved in anything strange or mysterious,\\nbecause they just didn\\'t hold with such nonsense.\\nMr. Dursley was the director of a firm called Grunnings, which made\\ndrills. He was a big, beefy man with hardly any neck, although he did\\nhave a very large mustache. Mrs. Dursley was thin and blonde and had\\nnearly twice the usual amount of neck, which came in very useful as she\\nspent so much of her time craning over garden fences, spying on the\\nneighbors. The Dursleys had a small son called Dudley and in their\\nopinion there was no finer boy anywhere.\\nThe Dursleys had everything they wanted, but they also had a secret, and\\ntheir greatest fear was that somebody would discover it. They didn\\'t\\nthink they could bear it if anyone found out about the Potters. Mrs.\\nPotter was Mrs. Dursley\\'s sister, but they hadn\\'t met for several years;\\nin fact, Mrs. Dursley pretended she didn\\'t have a sister, because her\\nsister and her good-for-nothing husband were as unDursleyish as it was\\npossible to be. The Dursleys shuddered to think what the neighbors would\\nsay if the Potters arrived in the street. The Dursleys knew that the\\nPotters had a small son, too, but they had never even seen him. This boy\\nwas another good reason for keeping the Potters away; they didn\\'t want\\nDudley mixing with a child like that.\\nWhen Mr. and Mrs. Dursley woke up on the dull, gray Tuesday our story\\nstarts, there was nothing about the cloudy sky outside to suggest that\\nstrange and mysterious things would soon be happening all over the\\ncountry. Mr. Dursley hummed as he picked out his most boring tie for\\nwork, and Mrs. Dursley gossiped away happily as she wrestled a screaming\\nDudley into his high chair.\\nNone of them noticed a large, tawny owl flutter past the window.\\nAt half past eight, Mr. Dursley picked up his briefcase, pecked Mrs.\\nDursley on the cheek, and tried to kiss Dudley good-bye but missed,\\n2\\nbecause Dudley was now having a tantrum and throwing his cereal at the\\nwalls. \"Little tyke,\" chortled Mr. Dursley as he left the house. He got\\ninto his car and backed out of number four\\'s drive.\\nIt was on the corner of the street that he noticed the first sign of\\nsomething peculiar -- a cat reading a map. For a second, Mr. Dursley\\ndidn\\'t realize what he had seen -- then he jerked his head around to\\nlook again. There was a tabby cat standing on the corner of Privet\\nDrive, but there wasn\\'t a map in sight. What could he have been thinking\\nof? It must have been a trick of the light. Mr. Dursley blinked and\\nstared at the cat. It stared back. As Mr. Dursley drove around the\\ncorner and up the road, he watched the cat in his mirror. It was now\\nreading the sign that said Privet Drive -- no, looking at the sign; cats\\ncouldn\\'t read maps or signs. Mr. Dursley gave himself a little shake and\\nput the cat out of his mind. As he drove toward town he thought of\\nnothing except a large order of drills he was hoping to get that day.\\nBut on the edge of town, drills were driven out of his mind by something\\nelse. As he sat in the usual morning traffic jam, he couldn\\'t help\\nnoticing that there seemed to be a lot of strangely dressed people\\nabout. People in cloaks. Mr. Dursley couldn\\'t bear people who dressed in\\nfunny clothes -- the getups you saw on young people! He supposed this\\nwas some stupid new fashion. He drummed his fingers on the steering\\nwheel and his eyes fell on a huddle of these weirdos standing quite\\nclose by. They were whispering excitedly together. Mr. Dursley was\\nenraged to see that a couple of them weren\\'t young at all; why, that man\\nhad to be older than he was, and wearing an emerald-green cloak! The\\nnerve of him! But then it struck Mr. Dursley that this was probably some\\nsilly stunt -- these people were obviously collecting for something...\\nyes, that would be it. The traffic moved on and a few minutes later, Mr.\\nDursley arrived in the Grunnings parking lot, his mind back on drills.\\nMr. Dursley always sat with his back to the window in his office on the\\nninth floor. If he hadn\\'t, he might have found it harder to concentrate\\non drills that morning. He didn\\'t see the owls swoop ing past in broad\\ndaylight, though people down in the street did; they pointed and gazed\\nopen- mouthed as owl after owl sped overhead. Most of them had never\\nseen an owl even at nighttime. Mr. Dursley, however, had a perfectly\\nnormal, owl-free morning. He yelled at five different people. He made\\nseveral important telephone calls and shouted a bit more. He was in a\\nvery good mood until lunchtime, when he thought he\\'d stretch his legs\\nand walk across the road to buy himself a bun from the bakery.\\n3\\nHe\\'d forgotten all about the people in cloaks until he passed a group of\\nthem next to the baker\\'s. He eyed them angrily as he passed. He didn\\'t\\nknow why, but they made him uneasy. This bunch were whispering\\nexcitedly, too, and he couldn\\'t see a single collecting tin. It was on\\nhis way back past them, clutching a large doughnut in a bag, that he\\ncaught a few words of what they were saying.\\n\"The Potters, that\\'s right, that\\'s what I heard yes, their son, Harry\"\\nMr. Dursley stopped dead. Fear flooded him. He looked back at the\\nwhisperers as if he wanted to say something to them, but thought better\\nof it.\\nHe dashed back across the road, hurried up to his office, snapped at his\\nsecretary not to disturb him, seized his telephone, and had almost\\nfinished dialing his home number when he changed his mind. He put the\\nreceiver back down and stroked his mustache, thinking... no, he was\\nbeing stupid. Potter wasn\\'t such an unusual name. He was sure there were\\nlots of people called Potter who had a son called Harry. Come to think\\nof it, he wasn\\'t even sure his nephew was called Harry. He\\'d never even\\nseen the boy. It might have been Harvey. Or Harold. There was no point\\nin worrying Mrs. Dursley; she always got so upset at any mention of her\\nsister. He didn\\'t blame her -- if he\\'d had a sister like that... but all\\nthe same, those people in cloaks...\\nHe found it a lot harder to concentrate on drills that afternoon and\\nwhen he left the building at five o\\'clock, he was still so worried that\\nhe walked straight into someone just outside the door.\\n\"Sorry,\" he grunted, as the tiny old man stumbled and almost fell. It\\nwas a few seconds before Mr. Dursley realized that the man was wearing a\\nviolet cloak. He didn\\'t seem at all upset at being almost knocked to the\\nground. On the contrary, his face split into a wide smile and he said in\\na squeaky voice that made passersby stare, \"Don\\'t be sorry, my dear sir,\\nfor nothing could upset me today! Rejoice, for You-Know-Who has gone at\\nlast! Even Muggles like yourself should be celebrating, this happy,\\nhappy day!\"\\nAnd the old man hugged Mr. Dursley around the middle and walked off.\\nMr. Dursley stood rooted to the spot. He had been hugged by a complete\\nstranger. He also thought he had been called a Muggle, whatever that\\nwas. He was rattled. He hurried to his car and set off for home, hoping\\n4\\nhe was imagining things, which he had never hoped before, because he\\ndidn\\'t approve of imagination.\\nAs he pulled into the driveway of number four, the first thing he saw --\\nand it didn\\'t improve his mood -- was the tabby cat he\\'d spotted that\\nmorning. It was now sitting on his garden wall. He was sure it was the\\nsame one; it had the same markings around its eyes.\\n\"Shoo!\" said Mr. Dursley loudly. The cat didn\\'t move. It just gave him a\\nstern look. Was this normal cat behavior? Mr. Dursley wondered. Trying\\nto pull himself together, he let himself into the house. He was still\\ndetermined not to mention anything to his wife.\\nMrs. Dursley had had a nice, normal day. She told him over dinner all\\nabout Mrs. Next Door\\'s problems with her daughter and how Dudley had\\nlearned a new word (\"Won\\'t!\"). Mr. Dursley tried to act normally. When\\nDudley had been put to bed, he went into the living room in time to\\ncatch the last report on the evening news:\\n\"And finally, bird-watchers everywhere have reported that the nation\\'s\\nowls have been behaving very unusually today. Although owls normally\\nhunt at night and are hardly ever seen in daylight, there have been\\nhundreds of sightings of these birds flying in every direction since\\nsunrise. Experts are unable to explain why the owls have suddenly\\nchanged their sleeping pattern.\" The newscaster allowed himself a grin.\\n\"Most mysterious. And now, over to Jim McGuffin with the weather. Going\\nto be any more showers of owls tonight, Jim?\"\\n\"Well, Ted,\" said the weatherman, \"I don\\'t know about that, but it\\'s not\\nonly the owls that have been acting oddly today. Viewers as far apart as\\nKent, Yorkshire, and Dundee have been phoning in to tell me that instead\\nof the rain I promised yesterday, they\\'ve had a downpour of shooting\\nstars! Perhaps people have been celebrating Bonfire Night early -- it\\'s\\nnot until next week, folks! But I can promise a wet night tonight.\"\\nMr. Dursley sat frozen in his armchair. Shooting stars all over Britain?\\nOwls flying by daylight? Mysterious people in cloaks all over the place?\\nAnd a whisper, a whisper about the Potters...\\nMrs. Dursley came into the living room carrying two cups of tea. It was\\nno good. He\\'d have to say something to her. He cleared his throat\\nnervously. \"Er -- Petunia, dear -- you haven\\'t heard from your sister\\nlately, have you?\"\\n5\\nAs he had expected, Mrs. Dursley looked shocked and angry. After all,\\nthey normally pretended she didn\\'t have a sister.\\n\"No,\" she said sharply. \"Why?\"\\n\"Funny stuff on the news,\" Mr. Dursley mumbled. \"Owls... shooting\\nstars... and there were a lot of funny-looking people in town today...\"\\n\"So?\" snapped Mrs. Dursley.\\n\"Well, I just thought... maybe... it was something to do with... you\\nknow... her crowd.\"\\nMrs. Dursley sipped her tea through pursed lips. Mr. Dursley wondered\\nwhether he dared tell her he\\'d heard the name \"Potter.\" He decided he\\ndidn\\'t dare. Instead he said, as casually as he could, \"Their son --\\nhe\\'d be about Dudley\\'s age now, wouldn\\'t he?\"\\n\"I suppose so,\" said Mrs. Dursley stiffly.\\n\"What\\'s his name again? Howard, isn\\'t it?\"\\n\"Harry. Nasty, common name, if you ask me.\"\\n\"Oh, yes,\" said Mr. Dursley, his heart sinking horribly. \"Yes, I quite\\nagree.\"\\nHe didn\\'t say another word on the subject as they went upstairs to bed.\\nWhile Mrs. Dursley was in the bathroom, Mr. Dursley crept to the bedroom\\nwindow and peered down into the front garden. The cat was still there.\\nIt was staring down Privet Drive as though it were waiting for\\nsomething.\\nWas he imagining things? Could all this have anything to do with the\\nPotters? If it did... if it got out that they were related to a pair of\\n-- well, he didn\\'t think he could bear it.\\nThe Dursleys got into bed. Mrs. Dursley fell asleep quickly but Mr.\\nDursley lay awake, turning it all over in his mind. His last, comforting\\nthought before he fell asleep was that even if the Potters were\\ninvolved, there was no reason for them to come near him and Mrs.\\nDursley. The Potters knew very well what he and Petunia thought about\\n6\\nthem and their kind.... He couldn\\'t see how he and Petunia could get\\nmixed up in anything that might be going on -- he yawned and turned over\\n-- it couldn\\'t affect them....\\nHow very wrong he was.\\nMr. Dursley might have been drifting into an uneasy sleep, but the cat\\non the wall outside was showing no sign of sleepiness. It was sitting as\\nstill as a statue, its eyes fixed unblinkingly on the far corner of\\nPrivet Drive. It didn\\'t so much as quiver when a car door slammed on the\\nnext street, nor when two owls swooped overhead. In fact, it was nearly\\nmidnight before the cat moved at all.\\nA man appeared on the corner the cat had been watching, appeared so\\nsuddenly and silently you\\'d have thought he\\'d just popped out of the\\nground. The cat\\'s tail twitched and its eyes narrowed.\\nNothing like this man had ever been seen on Privet Drive. He was tall,\\nthin, and very old, judging by the silver of his hair and beard, which\\nwere both long enough to tuck into his belt. He was wearing long robes,\\na purple cloak that swept the ground, and high-heeled, buckled boots.\\nHis blue eyes were light, bright, and sparkling behind half-moon\\nspectacles and his nose was very long and crooked, as though it had been\\nbroken at least twice. This man\\'s name was Albus Dumbledore.\\nAlbus Dumbledore didn\\'t seem to realize that he had just arrived in a\\nstreet where everything from his name to his boots was unwelcome. He was\\nbusy rummaging in his cloak, looking for something. But he did seem to\\nrealize he was being watched, because he looked up suddenly at the cat,\\nwhich was still staring at him from the other end of the street. For\\nsome reason, the sight of the cat seemed to amuse him. He chuckled and\\nmuttered, \"I should have known.\"\\nHe found what he was looking for in his inside pocket. It seemed to be a\\nsilver cigarette lighter. He flicked it open, held it up in the air, and\\nclicked it. The nearest street lamp went out with a little pop. He\\nclicked it again -- the next lamp flickered into darkness. Twelve times\\nhe clicked the Put-Outer, until the only lights left on the whole street\\nwere two tiny pinpricks in the distance, which were the eyes of the cat\\nwatching him. If anyone looked out of their window now, even beady-eyed\\nMrs. Dursley, they wouldn\\'t be able to see anything that was happening\\ndown on the pavement. Dumbledore slipped the Put-Outer back inside his\\ncloak and set off down the street toward number four, where he sat down\\n7\\non the wall next to the cat. He didn\\'t look at it, but after a moment he\\nspoke to it.\\n\"Fancy seeing you here, Professor McGonagall.\"\\nHe turned to smile at the tabby, but it had gone. Instead he was smiling\\nat a rather severe-looking woman who was wearing square glasses exactly\\nthe shape of the markings the cat had had around its eyes. She, too, was\\nwearing a cloak, an emerald one. Her black hair was drawn into a tight\\nbun. She looked distinctly ruffled.\\n\"How did you know it was me?\" she asked.\\n\"My dear Professor, I \\'ve never seen a cat sit so stiffly.\"\\n\"You\\'d be stiff if you\\'d been sitting on a brick wall all day,\" said\\nProfessor McGonagall.\\n\"All day? When you could have been celebrating? I must have passed a\\ndozen feasts and parties on my way here.\"\\nProfessor McGonagall sniffed angrily.\\n\\n'},\n",
       "   {'role': 'assistant',\n",
       "    'content': \" Le livre de Harry Potter et la Sorcière's Pierre est le premier tome de la série de romans fantastiques de J.K. Rowling. Il s'ouvre sur une scène où Mr. et Mrs. Dursley, les parents de Harry, se préparent pour le travail et le soir. Ils ne sont pas habitués à la magie et craignent que leur fils ne soit pas un enfant normal.\\n\"}]}]"
      ]
     },
     "execution_count": 10,
     "metadata": {},
     "output_type": "execute_result"
    }
   ],
   "source": [
    "out_1"
   ]
  },
  {
   "cell_type": "code",
   "execution_count": 11,
   "metadata": {},
   "outputs": [
    {
     "name": "stderr",
     "output_type": "stream",
     "text": [
      "The attention mask and the pad token id were not set. As a consequence, you may observe unexpected behavior. Please pass your input's `attention_mask` to obtain reliable results.\n",
      "Setting `pad_token_id` to `eos_token_id`:2 for open-end generation.\n"
     ]
    },
    {
     "name": "stdout",
     "output_type": "stream",
     "text": [
      "Applying level 2 enhancement to the prompt. Delta = 1.0\n",
      "Inserting special attention on 'Summarize in French'\n"
     ]
    }
   ],
   "source": [
    "message_2 = [{'role': 'user', 'content': \"<!!-> Summarize in French <-!!>\" + prompt}]\n",
    "out_2 = pipe(message_2, max_new_tokens = 100)"
   ]
  },
  {
   "cell_type": "code",
   "execution_count": 12,
   "metadata": {},
   "outputs": [
    {
     "data": {
      "text/plain": [
       "[{'generated_text': [{'role': 'user',\n",
       "    'content': '<!!-> Summarize in French <-!!>\\nHarry Potter and the Sorcerer\\'s Stone\\nCHAPTER ONE\\nTHE BOY WHO LIVED\\nMr. and Mrs. Dursley, of number four, Privet Drive, were proud to say\\nthat they were perfectly normal, thank you very much. They were the last\\npeople you\\'d expect to be involved in anything strange or mysterious,\\nbecause they just didn\\'t hold with such nonsense.\\nMr. Dursley was the director of a firm called Grunnings, which made\\ndrills. He was a big, beefy man with hardly any neck, although he did\\nhave a very large mustache. Mrs. Dursley was thin and blonde and had\\nnearly twice the usual amount of neck, which came in very useful as she\\nspent so much of her time craning over garden fences, spying on the\\nneighbors. The Dursleys had a small son called Dudley and in their\\nopinion there was no finer boy anywhere.\\nThe Dursleys had everything they wanted, but they also had a secret, and\\ntheir greatest fear was that somebody would discover it. They didn\\'t\\nthink they could bear it if anyone found out about the Potters. Mrs.\\nPotter was Mrs. Dursley\\'s sister, but they hadn\\'t met for several years;\\nin fact, Mrs. Dursley pretended she didn\\'t have a sister, because her\\nsister and her good-for-nothing husband were as unDursleyish as it was\\npossible to be. The Dursleys shuddered to think what the neighbors would\\nsay if the Potters arrived in the street. The Dursleys knew that the\\nPotters had a small son, too, but they had never even seen him. This boy\\nwas another good reason for keeping the Potters away; they didn\\'t want\\nDudley mixing with a child like that.\\nWhen Mr. and Mrs. Dursley woke up on the dull, gray Tuesday our story\\nstarts, there was nothing about the cloudy sky outside to suggest that\\nstrange and mysterious things would soon be happening all over the\\ncountry. Mr. Dursley hummed as he picked out his most boring tie for\\nwork, and Mrs. Dursley gossiped away happily as she wrestled a screaming\\nDudley into his high chair.\\nNone of them noticed a large, tawny owl flutter past the window.\\nAt half past eight, Mr. Dursley picked up his briefcase, pecked Mrs.\\nDursley on the cheek, and tried to kiss Dudley good-bye but missed,\\n2\\nbecause Dudley was now having a tantrum and throwing his cereal at the\\nwalls. \"Little tyke,\" chortled Mr. Dursley as he left the house. He got\\ninto his car and backed out of number four\\'s drive.\\nIt was on the corner of the street that he noticed the first sign of\\nsomething peculiar -- a cat reading a map. For a second, Mr. Dursley\\ndidn\\'t realize what he had seen -- then he jerked his head around to\\nlook again. There was a tabby cat standing on the corner of Privet\\nDrive, but there wasn\\'t a map in sight. What could he have been thinking\\nof? It must have been a trick of the light. Mr. Dursley blinked and\\nstared at the cat. It stared back. As Mr. Dursley drove around the\\ncorner and up the road, he watched the cat in his mirror. It was now\\nreading the sign that said Privet Drive -- no, looking at the sign; cats\\ncouldn\\'t read maps or signs. Mr. Dursley gave himself a little shake and\\nput the cat out of his mind. As he drove toward town he thought of\\nnothing except a large order of drills he was hoping to get that day.\\nBut on the edge of town, drills were driven out of his mind by something\\nelse. As he sat in the usual morning traffic jam, he couldn\\'t help\\nnoticing that there seemed to be a lot of strangely dressed people\\nabout. People in cloaks. Mr. Dursley couldn\\'t bear people who dressed in\\nfunny clothes -- the getups you saw on young people! He supposed this\\nwas some stupid new fashion. He drummed his fingers on the steering\\nwheel and his eyes fell on a huddle of these weirdos standing quite\\nclose by. They were whispering excitedly together. Mr. Dursley was\\nenraged to see that a couple of them weren\\'t young at all; why, that man\\nhad to be older than he was, and wearing an emerald-green cloak! The\\nnerve of him! But then it struck Mr. Dursley that this was probably some\\nsilly stunt -- these people were obviously collecting for something...\\nyes, that would be it. The traffic moved on and a few minutes later, Mr.\\nDursley arrived in the Grunnings parking lot, his mind back on drills.\\nMr. Dursley always sat with his back to the window in his office on the\\nninth floor. If he hadn\\'t, he might have found it harder to concentrate\\non drills that morning. He didn\\'t see the owls swoop ing past in broad\\ndaylight, though people down in the street did; they pointed and gazed\\nopen- mouthed as owl after owl sped overhead. Most of them had never\\nseen an owl even at nighttime. Mr. Dursley, however, had a perfectly\\nnormal, owl-free morning. He yelled at five different people. He made\\nseveral important telephone calls and shouted a bit more. He was in a\\nvery good mood until lunchtime, when he thought he\\'d stretch his legs\\nand walk across the road to buy himself a bun from the bakery.\\n3\\nHe\\'d forgotten all about the people in cloaks until he passed a group of\\nthem next to the baker\\'s. He eyed them angrily as he passed. He didn\\'t\\nknow why, but they made him uneasy. This bunch were whispering\\nexcitedly, too, and he couldn\\'t see a single collecting tin. It was on\\nhis way back past them, clutching a large doughnut in a bag, that he\\ncaught a few words of what they were saying.\\n\"The Potters, that\\'s right, that\\'s what I heard yes, their son, Harry\"\\nMr. Dursley stopped dead. Fear flooded him. He looked back at the\\nwhisperers as if he wanted to say something to them, but thought better\\nof it.\\nHe dashed back across the road, hurried up to his office, snapped at his\\nsecretary not to disturb him, seized his telephone, and had almost\\nfinished dialing his home number when he changed his mind. He put the\\nreceiver back down and stroked his mustache, thinking... no, he was\\nbeing stupid. Potter wasn\\'t such an unusual name. He was sure there were\\nlots of people called Potter who had a son called Harry. Come to think\\nof it, he wasn\\'t even sure his nephew was called Harry. He\\'d never even\\nseen the boy. It might have been Harvey. Or Harold. There was no point\\nin worrying Mrs. Dursley; she always got so upset at any mention of her\\nsister. He didn\\'t blame her -- if he\\'d had a sister like that... but all\\nthe same, those people in cloaks...\\nHe found it a lot harder to concentrate on drills that afternoon and\\nwhen he left the building at five o\\'clock, he was still so worried that\\nhe walked straight into someone just outside the door.\\n\"Sorry,\" he grunted, as the tiny old man stumbled and almost fell. It\\nwas a few seconds before Mr. Dursley realized that the man was wearing a\\nviolet cloak. He didn\\'t seem at all upset at being almost knocked to the\\nground. On the contrary, his face split into a wide smile and he said in\\na squeaky voice that made passersby stare, \"Don\\'t be sorry, my dear sir,\\nfor nothing could upset me today! Rejoice, for You-Know-Who has gone at\\nlast! Even Muggles like yourself should be celebrating, this happy,\\nhappy day!\"\\nAnd the old man hugged Mr. Dursley around the middle and walked off.\\nMr. Dursley stood rooted to the spot. He had been hugged by a complete\\nstranger. He also thought he had been called a Muggle, whatever that\\nwas. He was rattled. He hurried to his car and set off for home, hoping\\n4\\nhe was imagining things, which he had never hoped before, because he\\ndidn\\'t approve of imagination.\\nAs he pulled into the driveway of number four, the first thing he saw --\\nand it didn\\'t improve his mood -- was the tabby cat he\\'d spotted that\\nmorning. It was now sitting on his garden wall. He was sure it was the\\nsame one; it had the same markings around its eyes.\\n\"Shoo!\" said Mr. Dursley loudly. The cat didn\\'t move. It just gave him a\\nstern look. Was this normal cat behavior? Mr. Dursley wondered. Trying\\nto pull himself together, he let himself into the house. He was still\\ndetermined not to mention anything to his wife.\\nMrs. Dursley had had a nice, normal day. She told him over dinner all\\nabout Mrs. Next Door\\'s problems with her daughter and how Dudley had\\nlearned a new word (\"Won\\'t!\"). Mr. Dursley tried to act normally. When\\nDudley had been put to bed, he went into the living room in time to\\ncatch the last report on the evening news:\\n\"And finally, bird-watchers everywhere have reported that the nation\\'s\\nowls have been behaving very unusually today. Although owls normally\\nhunt at night and are hardly ever seen in daylight, there have been\\nhundreds of sightings of these birds flying in every direction since\\nsunrise. Experts are unable to explain why the owls have suddenly\\nchanged their sleeping pattern.\" The newscaster allowed himself a grin.\\n\"Most mysterious. And now, over to Jim McGuffin with the weather. Going\\nto be any more showers of owls tonight, Jim?\"\\n\"Well, Ted,\" said the weatherman, \"I don\\'t know about that, but it\\'s not\\nonly the owls that have been acting oddly today. Viewers as far apart as\\nKent, Yorkshire, and Dundee have been phoning in to tell me that instead\\nof the rain I promised yesterday, they\\'ve had a downpour of shooting\\nstars! Perhaps people have been celebrating Bonfire Night early -- it\\'s\\nnot until next week, folks! But I can promise a wet night tonight.\"\\nMr. Dursley sat frozen in his armchair. Shooting stars all over Britain?\\nOwls flying by daylight? Mysterious people in cloaks all over the place?\\nAnd a whisper, a whisper about the Potters...\\nMrs. Dursley came into the living room carrying two cups of tea. It was\\nno good. He\\'d have to say something to her. He cleared his throat\\nnervously. \"Er -- Petunia, dear -- you haven\\'t heard from your sister\\nlately, have you?\"\\n5\\nAs he had expected, Mrs. Dursley looked shocked and angry. After all,\\nthey normally pretended she didn\\'t have a sister.\\n\"No,\" she said sharply. \"Why?\"\\n\"Funny stuff on the news,\" Mr. Dursley mumbled. \"Owls... shooting\\nstars... and there were a lot of funny-looking people in town today...\"\\n\"So?\" snapped Mrs. Dursley.\\n\"Well, I just thought... maybe... it was something to do with... you\\nknow... her crowd.\"\\nMrs. Dursley sipped her tea through pursed lips. Mr. Dursley wondered\\nwhether he dared tell her he\\'d heard the name \"Potter.\" He decided he\\ndidn\\'t dare. Instead he said, as casually as he could, \"Their son --\\nhe\\'d be about Dudley\\'s age now, wouldn\\'t he?\"\\n\"I suppose so,\" said Mrs. Dursley stiffly.\\n\"What\\'s his name again? Howard, isn\\'t it?\"\\n\"Harry. Nasty, common name, if you ask me.\"\\n\"Oh, yes,\" said Mr. Dursley, his heart sinking horribly. \"Yes, I quite\\nagree.\"\\nHe didn\\'t say another word on the subject as they went upstairs to bed.\\nWhile Mrs. Dursley was in the bathroom, Mr. Dursley crept to the bedroom\\nwindow and peered down into the front garden. The cat was still there.\\nIt was staring down Privet Drive as though it were waiting for\\nsomething.\\nWas he imagining things? Could all this have anything to do with the\\nPotters? If it did... if it got out that they were related to a pair of\\n-- well, he didn\\'t think he could bear it.\\nThe Dursleys got into bed. Mrs. Dursley fell asleep quickly but Mr.\\nDursley lay awake, turning it all over in his mind. His last, comforting\\nthought before he fell asleep was that even if the Potters were\\ninvolved, there was no reason for them to come near him and Mrs.\\nDursley. The Potters knew very well what he and Petunia thought about\\n6\\nthem and their kind.... He couldn\\'t see how he and Petunia could get\\nmixed up in anything that might be going on -- he yawned and turned over\\n-- it couldn\\'t affect them....\\nHow very wrong he was.\\nMr. Dursley might have been drifting into an uneasy sleep, but the cat\\non the wall outside was showing no sign of sleepiness. It was sitting as\\nstill as a statue, its eyes fixed unblinkingly on the far corner of\\nPrivet Drive. It didn\\'t so much as quiver when a car door slammed on the\\nnext street, nor when two owls swooped overhead. In fact, it was nearly\\nmidnight before the cat moved at all.\\nA man appeared on the corner the cat had been watching, appeared so\\nsuddenly and silently you\\'d have thought he\\'d just popped out of the\\nground. The cat\\'s tail twitched and its eyes narrowed.\\nNothing like this man had ever been seen on Privet Drive. He was tall,\\nthin, and very old, judging by the silver of his hair and beard, which\\nwere both long enough to tuck into his belt. He was wearing long robes,\\na purple cloak that swept the ground, and high-heeled, buckled boots.\\nHis blue eyes were light, bright, and sparkling behind half-moon\\nspectacles and his nose was very long and crooked, as though it had been\\nbroken at least twice. This man\\'s name was Albus Dumbledore.\\nAlbus Dumbledore didn\\'t seem to realize that he had just arrived in a\\nstreet where everything from his name to his boots was unwelcome. He was\\nbusy rummaging in his cloak, looking for something. But he did seem to\\nrealize he was being watched, because he looked up suddenly at the cat,\\nwhich was still staring at him from the other end of the street. For\\nsome reason, the sight of the cat seemed to amuse him. He chuckled and\\nmuttered, \"I should have known.\"\\nHe found what he was looking for in his inside pocket. It seemed to be a\\nsilver cigarette lighter. He flicked it open, held it up in the air, and\\nclicked it. The nearest street lamp went out with a little pop. He\\nclicked it again -- the next lamp flickered into darkness. Twelve times\\nhe clicked the Put-Outer, until the only lights left on the whole street\\nwere two tiny pinpricks in the distance, which were the eyes of the cat\\nwatching him. If anyone looked out of their window now, even beady-eyed\\nMrs. Dursley, they wouldn\\'t be able to see anything that was happening\\ndown on the pavement. Dumbledore slipped the Put-Outer back inside his\\ncloak and set off down the street toward number four, where he sat down\\n7\\non the wall next to the cat. He didn\\'t look at it, but after a moment he\\nspoke to it.\\n\"Fancy seeing you here, Professor McGonagall.\"\\nHe turned to smile at the tabby, but it had gone. Instead he was smiling\\nat a rather severe-looking woman who was wearing square glasses exactly\\nthe shape of the markings the cat had had around its eyes. She, too, was\\nwearing a cloak, an emerald one. Her black hair was drawn into a tight\\nbun. She looked distinctly ruffled.\\n\"How did you know it was me?\" she asked.\\n\"My dear Professor, I \\'ve never seen a cat sit so stiffly.\"\\n\"You\\'d be stiff if you\\'d been sitting on a brick wall all day,\" said\\nProfessor McGonagall.\\n\"All day? When you could have been celebrating? I must have passed a\\ndozen feasts and parties on my way here.\"\\nProfessor McGonagall sniffed angrily.\\n\\n'},\n",
       "   {'role': 'assistant',\n",
       "    'content': \" Le livre de Harry Potter et la Sorcière's Pierre est le premier tome de la série de romans fantastiques de J.K. Rowling. Il s'ouvre sur une scène où Mr. et Mrs. Dursley, les parents de Harry, se préparent pour le travail et le soir. Ils ne sont pas des personnes ordinaires, car ils sont des non-magiques qui vivent dans une rue de Londres.\"}]}]"
      ]
     },
     "execution_count": 12,
     "metadata": {},
     "output_type": "execute_result"
    }
   ],
   "source": [
    "out_2"
   ]
  },
  {
   "cell_type": "code",
   "execution_count": 13,
   "metadata": {},
   "outputs": [
    {
     "name": "stderr",
     "output_type": "stream",
     "text": [
      "The attention mask and the pad token id were not set. As a consequence, you may observe unexpected behavior. Please pass your input's `attention_mask` to obtain reliable results.\n",
      "Setting `pad_token_id` to `eos_token_id`:2 for open-end generation.\n"
     ]
    },
    {
     "name": "stdout",
     "output_type": "stream",
     "text": [
      "Applying level 3 enhancement to the prompt. Delta = 2.0\n",
      "Inserting special attention on 'Summarize in French'\n"
     ]
    }
   ],
   "source": [
    "message_3 = [{'role': 'user', 'content': \"<!!!-> Summarize in French <-!!!>\" + prompt}]\n",
    "out_3 = pipe(message_3, max_new_tokens = 100)"
   ]
  },
  {
   "cell_type": "code",
   "execution_count": 14,
   "metadata": {},
   "outputs": [
    {
     "data": {
      "text/plain": [
       "[{'generated_text': [{'role': 'user',\n",
       "    'content': '<!!!-> Summarize in French <-!!!>\\nHarry Potter and the Sorcerer\\'s Stone\\nCHAPTER ONE\\nTHE BOY WHO LIVED\\nMr. and Mrs. Dursley, of number four, Privet Drive, were proud to say\\nthat they were perfectly normal, thank you very much. They were the last\\npeople you\\'d expect to be involved in anything strange or mysterious,\\nbecause they just didn\\'t hold with such nonsense.\\nMr. Dursley was the director of a firm called Grunnings, which made\\ndrills. He was a big, beefy man with hardly any neck, although he did\\nhave a very large mustache. Mrs. Dursley was thin and blonde and had\\nnearly twice the usual amount of neck, which came in very useful as she\\nspent so much of her time craning over garden fences, spying on the\\nneighbors. The Dursleys had a small son called Dudley and in their\\nopinion there was no finer boy anywhere.\\nThe Dursleys had everything they wanted, but they also had a secret, and\\ntheir greatest fear was that somebody would discover it. They didn\\'t\\nthink they could bear it if anyone found out about the Potters. Mrs.\\nPotter was Mrs. Dursley\\'s sister, but they hadn\\'t met for several years;\\nin fact, Mrs. Dursley pretended she didn\\'t have a sister, because her\\nsister and her good-for-nothing husband were as unDursleyish as it was\\npossible to be. The Dursleys shuddered to think what the neighbors would\\nsay if the Potters arrived in the street. The Dursleys knew that the\\nPotters had a small son, too, but they had never even seen him. This boy\\nwas another good reason for keeping the Potters away; they didn\\'t want\\nDudley mixing with a child like that.\\nWhen Mr. and Mrs. Dursley woke up on the dull, gray Tuesday our story\\nstarts, there was nothing about the cloudy sky outside to suggest that\\nstrange and mysterious things would soon be happening all over the\\ncountry. Mr. Dursley hummed as he picked out his most boring tie for\\nwork, and Mrs. Dursley gossiped away happily as she wrestled a screaming\\nDudley into his high chair.\\nNone of them noticed a large, tawny owl flutter past the window.\\nAt half past eight, Mr. Dursley picked up his briefcase, pecked Mrs.\\nDursley on the cheek, and tried to kiss Dudley good-bye but missed,\\n2\\nbecause Dudley was now having a tantrum and throwing his cereal at the\\nwalls. \"Little tyke,\" chortled Mr. Dursley as he left the house. He got\\ninto his car and backed out of number four\\'s drive.\\nIt was on the corner of the street that he noticed the first sign of\\nsomething peculiar -- a cat reading a map. For a second, Mr. Dursley\\ndidn\\'t realize what he had seen -- then he jerked his head around to\\nlook again. There was a tabby cat standing on the corner of Privet\\nDrive, but there wasn\\'t a map in sight. What could he have been thinking\\nof? It must have been a trick of the light. Mr. Dursley blinked and\\nstared at the cat. It stared back. As Mr. Dursley drove around the\\ncorner and up the road, he watched the cat in his mirror. It was now\\nreading the sign that said Privet Drive -- no, looking at the sign; cats\\ncouldn\\'t read maps or signs. Mr. Dursley gave himself a little shake and\\nput the cat out of his mind. As he drove toward town he thought of\\nnothing except a large order of drills he was hoping to get that day.\\nBut on the edge of town, drills were driven out of his mind by something\\nelse. As he sat in the usual morning traffic jam, he couldn\\'t help\\nnoticing that there seemed to be a lot of strangely dressed people\\nabout. People in cloaks. Mr. Dursley couldn\\'t bear people who dressed in\\nfunny clothes -- the getups you saw on young people! He supposed this\\nwas some stupid new fashion. He drummed his fingers on the steering\\nwheel and his eyes fell on a huddle of these weirdos standing quite\\nclose by. They were whispering excitedly together. Mr. Dursley was\\nenraged to see that a couple of them weren\\'t young at all; why, that man\\nhad to be older than he was, and wearing an emerald-green cloak! The\\nnerve of him! But then it struck Mr. Dursley that this was probably some\\nsilly stunt -- these people were obviously collecting for something...\\nyes, that would be it. The traffic moved on and a few minutes later, Mr.\\nDursley arrived in the Grunnings parking lot, his mind back on drills.\\nMr. Dursley always sat with his back to the window in his office on the\\nninth floor. If he hadn\\'t, he might have found it harder to concentrate\\non drills that morning. He didn\\'t see the owls swoop ing past in broad\\ndaylight, though people down in the street did; they pointed and gazed\\nopen- mouthed as owl after owl sped overhead. Most of them had never\\nseen an owl even at nighttime. Mr. Dursley, however, had a perfectly\\nnormal, owl-free morning. He yelled at five different people. He made\\nseveral important telephone calls and shouted a bit more. He was in a\\nvery good mood until lunchtime, when he thought he\\'d stretch his legs\\nand walk across the road to buy himself a bun from the bakery.\\n3\\nHe\\'d forgotten all about the people in cloaks until he passed a group of\\nthem next to the baker\\'s. He eyed them angrily as he passed. He didn\\'t\\nknow why, but they made him uneasy. This bunch were whispering\\nexcitedly, too, and he couldn\\'t see a single collecting tin. It was on\\nhis way back past them, clutching a large doughnut in a bag, that he\\ncaught a few words of what they were saying.\\n\"The Potters, that\\'s right, that\\'s what I heard yes, their son, Harry\"\\nMr. Dursley stopped dead. Fear flooded him. He looked back at the\\nwhisperers as if he wanted to say something to them, but thought better\\nof it.\\nHe dashed back across the road, hurried up to his office, snapped at his\\nsecretary not to disturb him, seized his telephone, and had almost\\nfinished dialing his home number when he changed his mind. He put the\\nreceiver back down and stroked his mustache, thinking... no, he was\\nbeing stupid. Potter wasn\\'t such an unusual name. He was sure there were\\nlots of people called Potter who had a son called Harry. Come to think\\nof it, he wasn\\'t even sure his nephew was called Harry. He\\'d never even\\nseen the boy. It might have been Harvey. Or Harold. There was no point\\nin worrying Mrs. Dursley; she always got so upset at any mention of her\\nsister. He didn\\'t blame her -- if he\\'d had a sister like that... but all\\nthe same, those people in cloaks...\\nHe found it a lot harder to concentrate on drills that afternoon and\\nwhen he left the building at five o\\'clock, he was still so worried that\\nhe walked straight into someone just outside the door.\\n\"Sorry,\" he grunted, as the tiny old man stumbled and almost fell. It\\nwas a few seconds before Mr. Dursley realized that the man was wearing a\\nviolet cloak. He didn\\'t seem at all upset at being almost knocked to the\\nground. On the contrary, his face split into a wide smile and he said in\\na squeaky voice that made passersby stare, \"Don\\'t be sorry, my dear sir,\\nfor nothing could upset me today! Rejoice, for You-Know-Who has gone at\\nlast! Even Muggles like yourself should be celebrating, this happy,\\nhappy day!\"\\nAnd the old man hugged Mr. Dursley around the middle and walked off.\\nMr. Dursley stood rooted to the spot. He had been hugged by a complete\\nstranger. He also thought he had been called a Muggle, whatever that\\nwas. He was rattled. He hurried to his car and set off for home, hoping\\n4\\nhe was imagining things, which he had never hoped before, because he\\ndidn\\'t approve of imagination.\\nAs he pulled into the driveway of number four, the first thing he saw --\\nand it didn\\'t improve his mood -- was the tabby cat he\\'d spotted that\\nmorning. It was now sitting on his garden wall. He was sure it was the\\nsame one; it had the same markings around its eyes.\\n\"Shoo!\" said Mr. Dursley loudly. The cat didn\\'t move. It just gave him a\\nstern look. Was this normal cat behavior? Mr. Dursley wondered. Trying\\nto pull himself together, he let himself into the house. He was still\\ndetermined not to mention anything to his wife.\\nMrs. Dursley had had a nice, normal day. She told him over dinner all\\nabout Mrs. Next Door\\'s problems with her daughter and how Dudley had\\nlearned a new word (\"Won\\'t!\"). Mr. Dursley tried to act normally. When\\nDudley had been put to bed, he went into the living room in time to\\ncatch the last report on the evening news:\\n\"And finally, bird-watchers everywhere have reported that the nation\\'s\\nowls have been behaving very unusually today. Although owls normally\\nhunt at night and are hardly ever seen in daylight, there have been\\nhundreds of sightings of these birds flying in every direction since\\nsunrise. Experts are unable to explain why the owls have suddenly\\nchanged their sleeping pattern.\" The newscaster allowed himself a grin.\\n\"Most mysterious. And now, over to Jim McGuffin with the weather. Going\\nto be any more showers of owls tonight, Jim?\"\\n\"Well, Ted,\" said the weatherman, \"I don\\'t know about that, but it\\'s not\\nonly the owls that have been acting oddly today. Viewers as far apart as\\nKent, Yorkshire, and Dundee have been phoning in to tell me that instead\\nof the rain I promised yesterday, they\\'ve had a downpour of shooting\\nstars! Perhaps people have been celebrating Bonfire Night early -- it\\'s\\nnot until next week, folks! But I can promise a wet night tonight.\"\\nMr. Dursley sat frozen in his armchair. Shooting stars all over Britain?\\nOwls flying by daylight? Mysterious people in cloaks all over the place?\\nAnd a whisper, a whisper about the Potters...\\nMrs. Dursley came into the living room carrying two cups of tea. It was\\nno good. He\\'d have to say something to her. He cleared his throat\\nnervously. \"Er -- Petunia, dear -- you haven\\'t heard from your sister\\nlately, have you?\"\\n5\\nAs he had expected, Mrs. Dursley looked shocked and angry. After all,\\nthey normally pretended she didn\\'t have a sister.\\n\"No,\" she said sharply. \"Why?\"\\n\"Funny stuff on the news,\" Mr. Dursley mumbled. \"Owls... shooting\\nstars... and there were a lot of funny-looking people in town today...\"\\n\"So?\" snapped Mrs. Dursley.\\n\"Well, I just thought... maybe... it was something to do with... you\\nknow... her crowd.\"\\nMrs. Dursley sipped her tea through pursed lips. Mr. Dursley wondered\\nwhether he dared tell her he\\'d heard the name \"Potter.\" He decided he\\ndidn\\'t dare. Instead he said, as casually as he could, \"Their son --\\nhe\\'d be about Dudley\\'s age now, wouldn\\'t he?\"\\n\"I suppose so,\" said Mrs. Dursley stiffly.\\n\"What\\'s his name again? Howard, isn\\'t it?\"\\n\"Harry. Nasty, common name, if you ask me.\"\\n\"Oh, yes,\" said Mr. Dursley, his heart sinking horribly. \"Yes, I quite\\nagree.\"\\nHe didn\\'t say another word on the subject as they went upstairs to bed.\\nWhile Mrs. Dursley was in the bathroom, Mr. Dursley crept to the bedroom\\nwindow and peered down into the front garden. The cat was still there.\\nIt was staring down Privet Drive as though it were waiting for\\nsomething.\\nWas he imagining things? Could all this have anything to do with the\\nPotters? If it did... if it got out that they were related to a pair of\\n-- well, he didn\\'t think he could bear it.\\nThe Dursleys got into bed. Mrs. Dursley fell asleep quickly but Mr.\\nDursley lay awake, turning it all over in his mind. His last, comforting\\nthought before he fell asleep was that even if the Potters were\\ninvolved, there was no reason for them to come near him and Mrs.\\nDursley. The Potters knew very well what he and Petunia thought about\\n6\\nthem and their kind.... He couldn\\'t see how he and Petunia could get\\nmixed up in anything that might be going on -- he yawned and turned over\\n-- it couldn\\'t affect them....\\nHow very wrong he was.\\nMr. Dursley might have been drifting into an uneasy sleep, but the cat\\non the wall outside was showing no sign of sleepiness. It was sitting as\\nstill as a statue, its eyes fixed unblinkingly on the far corner of\\nPrivet Drive. It didn\\'t so much as quiver when a car door slammed on the\\nnext street, nor when two owls swooped overhead. In fact, it was nearly\\nmidnight before the cat moved at all.\\nA man appeared on the corner the cat had been watching, appeared so\\nsuddenly and silently you\\'d have thought he\\'d just popped out of the\\nground. The cat\\'s tail twitched and its eyes narrowed.\\nNothing like this man had ever been seen on Privet Drive. He was tall,\\nthin, and very old, judging by the silver of his hair and beard, which\\nwere both long enough to tuck into his belt. He was wearing long robes,\\na purple cloak that swept the ground, and high-heeled, buckled boots.\\nHis blue eyes were light, bright, and sparkling behind half-moon\\nspectacles and his nose was very long and crooked, as though it had been\\nbroken at least twice. This man\\'s name was Albus Dumbledore.\\nAlbus Dumbledore didn\\'t seem to realize that he had just arrived in a\\nstreet where everything from his name to his boots was unwelcome. He was\\nbusy rummaging in his cloak, looking for something. But he did seem to\\nrealize he was being watched, because he looked up suddenly at the cat,\\nwhich was still staring at him from the other end of the street. For\\nsome reason, the sight of the cat seemed to amuse him. He chuckled and\\nmuttered, \"I should have known.\"\\nHe found what he was looking for in his inside pocket. It seemed to be a\\nsilver cigarette lighter. He flicked it open, held it up in the air, and\\nclicked it. The nearest street lamp went out with a little pop. He\\nclicked it again -- the next lamp flickered into darkness. Twelve times\\nhe clicked the Put-Outer, until the only lights left on the whole street\\nwere two tiny pinpricks in the distance, which were the eyes of the cat\\nwatching him. If anyone looked out of their window now, even beady-eyed\\nMrs. Dursley, they wouldn\\'t be able to see anything that was happening\\ndown on the pavement. Dumbledore slipped the Put-Outer back inside his\\ncloak and set off down the street toward number four, where he sat down\\n7\\non the wall next to the cat. He didn\\'t look at it, but after a moment he\\nspoke to it.\\n\"Fancy seeing you here, Professor McGonagall.\"\\nHe turned to smile at the tabby, but it had gone. Instead he was smiling\\nat a rather severe-looking woman who was wearing square glasses exactly\\nthe shape of the markings the cat had had around its eyes. She, too, was\\nwearing a cloak, an emerald one. Her black hair was drawn into a tight\\nbun. She looked distinctly ruffled.\\n\"How did you know it was me?\" she asked.\\n\"My dear Professor, I \\'ve never seen a cat sit so stiffly.\"\\n\"You\\'d be stiff if you\\'d been sitting on a brick wall all day,\" said\\nProfessor McGonagall.\\n\"All day? When you could have been celebrating? I must have passed a\\ndozen feasts and parties on my way here.\"\\nProfessor McGonagall sniffed angrily.\\n\\n'},\n",
       "   {'role': 'assistant',\n",
       "    'content': ' Le livre \"Harry Potter et le Sorcerer\\'s Stone\" est le premier tome de la série de romans fantastiques de J.K. Rowling. Il s\\'agit d\\'une histoire d\\'aventure et de découverte, qui se déroule dans un monde où les sorciens et les sorcières existent et où les humains sont ignorant des pouvoirs magiques.\\n\\nLe livre commence'}]}]"
      ]
     },
     "execution_count": 14,
     "metadata": {},
     "output_type": "execute_result"
    }
   ],
   "source": [
    "out_3"
   ]
  },
  {
   "cell_type": "markdown",
   "metadata": {},
   "source": [
    "Now the output is more adapted to our instruction"
   ]
  },
  {
   "cell_type": "markdown",
   "metadata": {},
   "source": [
    "## Customizing GUIDE\n",
    "\n",
    "By default, the initial enhancement values are set to `[0.5, 1, 2]`, though these may vary depending on the task. You can adjust the enhancement values as needed.\n",
    "\n",
    "Next, we'll attempt to disrupt the model's output using $\\Delta = 10$."
   ]
  },
  {
   "cell_type": "code",
   "execution_count": 53,
   "metadata": {},
   "outputs": [],
   "source": [
    "dumb_pipe = pipeline(\n",
    "    \"pay-attention\", \n",
    "    model = base_model,\n",
    "    tokenizer = tokenizer, \n",
    "    model_kwargs=dict(cache_dir = \"/Data\"),\n",
    "    **dict(delta_mid = 9)\n",
    ")"
   ]
  },
  {
   "cell_type": "code",
   "execution_count": 40,
   "metadata": {},
   "outputs": [],
   "source": [
    "prompt = \"Paris is the capital and largest city of France. With an official estimated population of 2,102,650 residents in January 2023 in an area of more than 105 km2 Paris is the fourth-largest city in the European Union and the 30th most densely populated city in the world in 2022. Since the 17th century, Paris has been one of the world's major centres of finance, diplomacy, commerce, culture, fashion, and gastronomy. For its leading role in the arts and sciences, as well as its early and extensive system of street lighting, in the 19th century, it became known as the City of Light.\""
   ]
  },
  {
   "cell_type": "code",
   "execution_count": 41,
   "metadata": {},
   "outputs": [
    {
     "data": {
      "text/plain": [
       "{<AttentionLevels.LEVEL_1: 1>: 4.5,\n",
       " <AttentionLevels.LEVEL_2: 2>: 9,\n",
       " <AttentionLevels.LEVEL_3: 3>: 18}"
      ]
     },
     "execution_count": 41,
     "metadata": {},
     "output_type": "execute_result"
    }
   ],
   "source": [
    "dumb_pipe.levels"
   ]
  },
  {
   "cell_type": "code",
   "execution_count": 56,
   "metadata": {},
   "outputs": [
    {
     "name": "stderr",
     "output_type": "stream",
     "text": [
      "The attention mask and the pad token id were not set. As a consequence, you may observe unexpected behavior. Please pass your input's `attention_mask` to obtain reliable results.\n",
      "Setting `pad_token_id` to `eos_token_id`:2 for open-end generation.\n"
     ]
    },
    {
     "name": "stdout",
     "output_type": "stream",
     "text": [
      "Applying level 2 enhancement to the prompt. Delta = 9\n",
      "Inserting special attention on 'Rewrite in French'\n"
     ]
    }
   ],
   "source": [
    "message = [{'role': 'user', 'content': \"<!!-> Rewrite in French <-!!>\\n\" + prompt}]\n",
    "out = dumb_pipe(message, max_new_tokens = 100, )"
   ]
  },
  {
   "cell_type": "code",
   "execution_count": 57,
   "metadata": {},
   "outputs": [
    {
     "data": {
      "text/plain": [
       "[{'generated_text': [{'role': 'user',\n",
       "    'content': \"<!!-> Rewrite in French <-!!>\\nParis is the capital and largest city of France. With an official estimated population of 2,102,650 residents in January 2023 in an area of more than 105 km2 Paris is the fourth-largest city in the European Union and the 30th most densely populated city in the world in 2022. Since the 17th century, Paris has been one of the world's major centres of finance, diplomacy, commerce, culture, fashion, and gastronomy. For its leading role in the arts and sciences, as well as its early and extensive system of street lighting, in the 19th century, it became known as the City of Light.\"},\n",
       "   {'role': 'assistant',\n",
       "    'content': '\\n\\n1. 19th century, 19th century, 19th century, 19th century, 19th century, 19th century, 19th century, 19th century, 19th century, 19th century, 19th century, 19th century, 19th century, 19th century, 19th century, 19th century,'}]}]"
      ]
     },
     "execution_count": 57,
     "metadata": {},
     "output_type": "execute_result"
    }
   ],
   "source": [
    "out"
   ]
  },
  {
   "cell_type": "code",
   "execution_count": null,
   "metadata": {},
   "outputs": [],
   "source": []
  }
 ],
 "metadata": {
  "kernelspec": {
   "display_name": "Python 3",
   "language": "python",
   "name": "python3"
  },
  "language_info": {
   "codemirror_mode": {
    "name": "ipython",
    "version": 3
   },
   "file_extension": ".py",
   "mimetype": "text/x-python",
   "name": "python",
   "nbconvert_exporter": "python",
   "pygments_lexer": "ipython3",
   "version": "3.11.9"
  }
 },
 "nbformat": 4,
 "nbformat_minor": 2
}
