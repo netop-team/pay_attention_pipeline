{
 "cells": [
  {
   "cell_type": "markdown",
   "metadata": {},
   "source": [
    "# Example - generation with GUIDE and other models\n",
    "\n",
    "In this notebook, we show how to use generation with GUIDE with other models such as Llama and Qwen"
   ]
  },
  {
   "cell_type": "code",
   "execution_count": 1,
   "metadata": {},
   "outputs": [],
   "source": [
    "%load_ext autoreload\n",
    "%autoreload 2"
   ]
  },
  {
   "cell_type": "code",
   "execution_count": 2,
   "metadata": {},
   "outputs": [],
   "source": [
    "import os\n",
    "while \"examples\" in os.getcwd():\n",
    "    os.chdir(\"..\")\n",
    "\n",
    "# from pipeline import \n",
    "from transformers import pipeline\n",
    "from transformers.pipelines import PIPELINE_REGISTRY\n",
    "from transformers import AutoModelForCausalLM\n",
    "from transformers import AutoModel, AutoTokenizer, BitsAndBytesConfig\n",
    "\n",
    "from pipeline.pay_attention_pipeline import PayAttentionPipeline, AttentionLevels\n",
    "import torch\n",
    "\n",
    "import matplotlib.pyplot as plt"
   ]
  },
  {
   "cell_type": "markdown",
   "metadata": {},
   "source": [
    "## Verifying that the pipeline is registered"
   ]
  },
  {
   "cell_type": "code",
   "execution_count": 3,
   "metadata": {},
   "outputs": [
    {
     "data": {
      "text/plain": [
       "('pay-attention',\n",
       " {'impl': pipeline.pay_attention_pipeline.PayAttentionPipeline,\n",
       "  'pt': (transformers.models.auto.modeling_auto.AutoModelForCausalLM,),\n",
       "  'tf': (),\n",
       "  'default': {'model': {'pt': ('mistralai/Mistral-7B-Instruct-v0.1',\n",
       "     '1b62ab7')}},\n",
       "  'type': 'text'},\n",
       " None)"
      ]
     },
     "execution_count": 3,
     "metadata": {},
     "output_type": "execute_result"
    }
   ],
   "source": [
    "PIPELINE_REGISTRY.check_task(\"pay-attention\")"
   ]
  },
  {
   "cell_type": "markdown",
   "metadata": {},
   "source": [
    "## Loading generative model\n",
    "\n",
    "We recommend using only Mistral or Llama models for now, due to specific implementation details in HuggingFace."
   ]
  },
  {
   "cell_type": "code",
   "execution_count": 4,
   "metadata": {},
   "outputs": [
    {
     "name": "stderr",
     "output_type": "stream",
     "text": [
      "`config.hidden_act` is ignored, you should use `config.hidden_activation` instead.\n",
      "Gemma's activation function will be set to `gelu_pytorch_tanh`. Please, use\n",
      "`config.hidden_activation` if you want to override this behaviour.\n",
      "See https://github.com/huggingface/transformers/pull/29402 for more details.\n"
     ]
    },
    {
     "data": {
      "application/vnd.jupyter.widget-view+json": {
       "model_id": "03e40437f72040a2993519c439bd07d6",
       "version_major": 2,
       "version_minor": 0
      },
      "text/plain": [
       "Loading checkpoint shards:   0%|          | 0/2 [00:00<?, ?it/s]"
      ]
     },
     "metadata": {},
     "output_type": "display_data"
    }
   ],
   "source": [
    "quantization_config = BitsAndBytesConfig(\n",
    "    load_in_4bit=True,\n",
    "    bnb_4bit_quant_type=\"nf4\",\n",
    "    bnb_4bit_use_double_quant=True,\n",
    "    bnb_4bit_compute_dtype=torch.bfloat16\n",
    ")\n",
    "\n",
    "\n",
    "tokenizer = AutoTokenizer.from_pretrained(\n",
    "    \"meta-llama/Meta-Llama-3-8B-Instruct\",\n",
    "    cache_dir = \"/Data\"    \n",
    ")\n",
    "\n",
    "base_model = AutoModelForCausalLM.from_pretrained(\n",
    "    \"meta-llama/Meta-Llama-3-8B-Instruct\",\n",
    "    quantization_config = quantization_config,\n",
    "    device_map=\"auto\",\n",
    "    attn_implementation=\"eager\",\n",
    "    cache_dir = \"/Data\" \n",
    ")"
   ]
  },
  {
   "cell_type": "markdown",
   "metadata": {},
   "source": [
    "## Loading pipeline"
   ]
  },
  {
   "cell_type": "code",
   "execution_count": 6,
   "metadata": {},
   "outputs": [],
   "source": [
    "pipe= pipeline(\n",
    "    \"pay-attention\", \n",
    "    model = base_model,\n",
    "    tokenizer = tokenizer, \n",
    "    model_kwargs=dict(cache_dir = \"/Data\"),\n",
    ")"
   ]
  },
  {
   "cell_type": "markdown",
   "metadata": {},
   "source": [
    "## Prompt\n",
    "\n",
    "The prompt was chosen to stay within the model's context length of 4096 tokens while being large enough to trigger potential hallucinations by the model."
   ]
  },
  {
   "cell_type": "code",
   "execution_count": 4,
   "metadata": {},
   "outputs": [],
   "source": [
    "# extract from Harry Potter and the Sorcerer's Stone's book\n",
    "prompt = '''\n",
    "Harry Potter and the Sorcerer's Stone\n",
    "CHAPTER ONE\n",
    "THE BOY WHO LIVED\n",
    "Mr. and Mrs. Dursley, of number four, Privet Drive, were proud to say\n",
    "that they were perfectly normal, thank you very much. They were the last\n",
    "people you'd expect to be involved in anything strange or mysterious,\n",
    "because they just didn't hold with such nonsense.\n",
    "Mr. Dursley was the director of a firm called Grunnings, which made\n",
    "drills. He was a big, beefy man with hardly any neck, although he did\n",
    "have a very large mustache. Mrs. Dursley was thin and blonde and had\n",
    "nearly twice the usual amount of neck, which came in very useful as she\n",
    "spent so much of her time craning over garden fences, spying on the\n",
    "neighbors. The Dursleys had a small son called Dudley and in their\n",
    "opinion there was no finer boy anywhere.\n",
    "The Dursleys had everything they wanted, but they also had a secret, and\n",
    "their greatest fear was that somebody would discover it. They didn't\n",
    "think they could bear it if anyone found out about the Potters. Mrs.\n",
    "Potter was Mrs. Dursley's sister, but they hadn't met for several years;\n",
    "in fact, Mrs. Dursley pretended she didn't have a sister, because her\n",
    "sister and her good-for-nothing husband were as unDursleyish as it was\n",
    "possible to be. The Dursleys shuddered to think what the neighbors would\n",
    "say if the Potters arrived in the street. The Dursleys knew that the\n",
    "Potters had a small son, too, but they had never even seen him. This boy\n",
    "was another good reason for keeping the Potters away; they didn't want\n",
    "Dudley mixing with a child like that.\n",
    "When Mr. and Mrs. Dursley woke up on the dull, gray Tuesday our story\n",
    "starts, there was nothing about the cloudy sky outside to suggest that\n",
    "strange and mysterious things would soon be happening all over the\n",
    "country. Mr. Dursley hummed as he picked out his most boring tie for\n",
    "work, and Mrs. Dursley gossiped away happily as she wrestled a screaming\n",
    "Dudley into his high chair.\n",
    "None of them noticed a large, tawny owl flutter past the window.\n",
    "At half past eight, Mr. Dursley picked up his briefcase, pecked Mrs.\n",
    "Dursley on the cheek, and tried to kiss Dudley good-bye but missed,\n",
    "2\n",
    "because Dudley was now having a tantrum and throwing his cereal at the\n",
    "walls. \"Little tyke,\" chortled Mr. Dursley as he left the house. He got\n",
    "into his car and backed out of number four's drive.\n",
    "It was on the corner of the street that he noticed the first sign of\n",
    "something peculiar -- a cat reading a map. For a second, Mr. Dursley\n",
    "didn't realize what he had seen -- then he jerked his head around to\n",
    "look again. There was a tabby cat standing on the corner of Privet\n",
    "Drive, but there wasn't a map in sight. What could he have been thinking\n",
    "of? It must have been a trick of the light. Mr. Dursley blinked and\n",
    "stared at the cat. It stared back. As Mr. Dursley drove around the\n",
    "corner and up the road, he watched the cat in his mirror. It was now\n",
    "reading the sign that said Privet Drive -- no, looking at the sign; cats\n",
    "couldn't read maps or signs. Mr. Dursley gave himself a little shake and\n",
    "put the cat out of his mind. As he drove toward town he thought of\n",
    "nothing except a large order of drills he was hoping to get that day.\n",
    "But on the edge of town, drills were driven out of his mind by something\n",
    "else. As he sat in the usual morning traffic jam, he couldn't help\n",
    "noticing that there seemed to be a lot of strangely dressed people\n",
    "about. People in cloaks. Mr. Dursley couldn't bear people who dressed in\n",
    "funny clothes -- the getups you saw on young people! He supposed this\n",
    "was some stupid new fashion. He drummed his fingers on the steering\n",
    "wheel and his eyes fell on a huddle of these weirdos standing quite\n",
    "close by. They were whispering excitedly together. Mr. Dursley was\n",
    "enraged to see that a couple of them weren't young at all; why, that man\n",
    "had to be older than he was, and wearing an emerald-green cloak! The\n",
    "nerve of him! But then it struck Mr. Dursley that this was probably some\n",
    "silly stunt -- these people were obviously collecting for something...\n",
    "yes, that would be it. The traffic moved on and a few minutes later, Mr.\n",
    "Dursley arrived in the Grunnings parking lot, his mind back on drills.\n",
    "Mr. Dursley always sat with his back to the window in his office on the\n",
    "ninth floor. If he hadn't, he might have found it harder to concentrate\n",
    "on drills that morning. He didn't see the owls swoop ing past in broad\n",
    "daylight, though people down in the street did; they pointed and gazed\n",
    "open- mouthed as owl after owl sped overhead. Most of them had never\n",
    "seen an owl even at nighttime. Mr. Dursley, however, had a perfectly\n",
    "normal, owl-free morning. He yelled at five different people. He made\n",
    "several important telephone calls and shouted a bit more. He was in a\n",
    "very good mood until lunchtime, when he thought he'd stretch his legs\n",
    "and walk across the road to buy himself a bun from the bakery.\n",
    "3\n",
    "He'd forgotten all about the people in cloaks until he passed a group of\n",
    "them next to the baker's. He eyed them angrily as he passed. He didn't\n",
    "know why, but they made him uneasy. This bunch were whispering\n",
    "excitedly, too, and he couldn't see a single collecting tin. It was on\n",
    "his way back past them, clutching a large doughnut in a bag, that he\n",
    "caught a few words of what they were saying.\n",
    "\"The Potters, that's right, that's what I heard yes, their son, Harry\"\n",
    "Mr. Dursley stopped dead. Fear flooded him. He looked back at the\n",
    "whisperers as if he wanted to say something to them, but thought better\n",
    "of it.\n",
    "He dashed back across the road, hurried up to his office, snapped at his\n",
    "secretary not to disturb him, seized his telephone, and had almost\n",
    "finished dialing his home number when he changed his mind. He put the\n",
    "receiver back down and stroked his mustache, thinking... no, he was\n",
    "being stupid. Potter wasn't such an unusual name. He was sure there were\n",
    "lots of people called Potter who had a son called Harry. Come to think\n",
    "of it, he wasn't even sure his nephew was called Harry. He'd never even\n",
    "seen the boy. It might have been Harvey. Or Harold. There was no point\n",
    "in worrying Mrs. Dursley; she always got so upset at any mention of her\n",
    "sister. He didn't blame her -- if he'd had a sister like that... but all\n",
    "the same, those people in cloaks...\n",
    "He found it a lot harder to concentrate on drills that afternoon and\n",
    "when he left the building at five o'clock, he was still so worried that\n",
    "he walked straight into someone just outside the door.\n",
    "\"Sorry,\" he grunted, as the tiny old man stumbled and almost fell. It\n",
    "was a few seconds before Mr. Dursley realized that the man was wearing a\n",
    "violet cloak. He didn't seem at all upset at being almost knocked to the\n",
    "ground. On the contrary, his face split into a wide smile and he said in\n",
    "a squeaky voice that made passersby stare, \"Don't be sorry, my dear sir,\n",
    "for nothing could upset me today! Rejoice, for You-Know-Who has gone at\n",
    "last! Even Muggles like yourself should be celebrating, this happy,\n",
    "happy day!\"\n",
    "And the old man hugged Mr. Dursley around the middle and walked off.\n",
    "Mr. Dursley stood rooted to the spot. He had been hugged by a complete\n",
    "stranger. He also thought he had been called a Muggle, whatever that\n",
    "was. He was rattled. He hurried to his car and set off for home, hoping\n",
    "4\n",
    "he was imagining things, which he had never hoped before, because he\n",
    "didn't approve of imagination.\n",
    "As he pulled into the driveway of number four, the first thing he saw --\n",
    "and it didn't improve his mood -- was the tabby cat he'd spotted that\n",
    "morning. It was now sitting on his garden wall. He was sure it was the\n",
    "same one; it had the same markings around its eyes.\n",
    "\"Shoo!\" said Mr. Dursley loudly. The cat didn't move. It just gave him a\n",
    "stern look. Was this normal cat behavior? Mr. Dursley wondered. Trying\n",
    "to pull himself together, he let himself into the house. He was still\n",
    "determined not to mention anything to his wife.\n",
    "Mrs. Dursley had had a nice, normal day. She told him over dinner all\n",
    "about Mrs. Next Door's problems with her daughter and how Dudley had\n",
    "learned a new word (\"Won't!\"). Mr. Dursley tried to act normally. When\n",
    "Dudley had been put to bed, he went into the living room in time to\n",
    "catch the last report on the evening news:\n",
    "\"And finally, bird-watchers everywhere have reported that the nation's\n",
    "owls have been behaving very unusually today. Although owls normally\n",
    "hunt at night and are hardly ever seen in daylight, there have been\n",
    "hundreds of sightings of these birds flying in every direction since\n",
    "sunrise. Experts are unable to explain why the owls have suddenly\n",
    "changed their sleeping pattern.\" The newscaster allowed himself a grin.\n",
    "\"Most mysterious. And now, over to Jim McGuffin with the weather. Going\n",
    "to be any more showers of owls tonight, Jim?\"\n",
    "\"Well, Ted,\" said the weatherman, \"I don't know about that, but it's not\n",
    "only the owls that have been acting oddly today. Viewers as far apart as\n",
    "Kent, Yorkshire, and Dundee have been phoning in to tell me that instead\n",
    "of the rain I promised yesterday, they've had a downpour of shooting\n",
    "stars! Perhaps people have been celebrating Bonfire Night early -- it's\n",
    "not until next week, folks! But I can promise a wet night tonight.\"\n",
    "Mr. Dursley sat frozen in his armchair. Shooting stars all over Britain?\n",
    "Owls flying by daylight? Mysterious people in cloaks all over the place?\n",
    "And a whisper, a whisper about the Potters...\n",
    "Mrs. Dursley came into the living room carrying two cups of tea. It was\n",
    "no good. He'd have to say something to her. He cleared his throat\n",
    "nervously. \"Er -- Petunia, dear -- you haven't heard from your sister\n",
    "lately, have you?\"\n",
    "5\n",
    "As he had expected, Mrs. Dursley looked shocked and angry. After all,\n",
    "they normally pretended she didn't have a sister.\n",
    "\"No,\" she said sharply. \"Why?\"\n",
    "\"Funny stuff on the news,\" Mr. Dursley mumbled. \"Owls... shooting\n",
    "stars... and there were a lot of funny-looking people in town today...\"\n",
    "\"So?\" snapped Mrs. Dursley.\n",
    "\"Well, I just thought... maybe... it was something to do with... you\n",
    "know... her crowd.\"\n",
    "Mrs. Dursley sipped her tea through pursed lips. Mr. Dursley wondered\n",
    "whether he dared tell her he'd heard the name \"Potter.\" He decided he\n",
    "didn't dare. Instead he said, as casually as he could, \"Their son --\n",
    "he'd be about Dudley's age now, wouldn't he?\"\n",
    "\"I suppose so,\" said Mrs. Dursley stiffly.\n",
    "\"What's his name again? Howard, isn't it?\"\n",
    "\"Harry. Nasty, common name, if you ask me.\"\n",
    "\"Oh, yes,\" said Mr. Dursley, his heart sinking horribly. \"Yes, I quite\n",
    "agree.\"\n",
    "He didn't say another word on the subject as they went upstairs to bed.\n",
    "While Mrs. Dursley was in the bathroom, Mr. Dursley crept to the bedroom\n",
    "window and peered down into the front garden. The cat was still there.\n",
    "It was staring down Privet Drive as though it were waiting for\n",
    "something.\n",
    "Was he imagining things? Could all this have anything to do with the\n",
    "Potters? If it did... if it got out that they were related to a pair of\n",
    "-- well, he didn't think he could bear it.\n",
    "The Dursleys got into bed. Mrs. Dursley fell asleep quickly but Mr.\n",
    "Dursley lay awake, turning it all over in his mind. His last, comforting\n",
    "thought before he fell asleep was that even if the Potters were\n",
    "involved, there was no reason for them to come near him and Mrs.\n",
    "Dursley. The Potters knew very well what he and Petunia thought about\n",
    "6\n",
    "them and their kind.... He couldn't see how he and Petunia could get\n",
    "mixed up in anything that might be going on -- he yawned and turned over\n",
    "-- it couldn't affect them....\n",
    "How very wrong he was.\n",
    "Mr. Dursley might have been drifting into an uneasy sleep, but the cat\n",
    "on the wall outside was showing no sign of sleepiness. It was sitting as\n",
    "still as a statue, its eyes fixed unblinkingly on the far corner of\n",
    "Privet Drive. It didn't so much as quiver when a car door slammed on the\n",
    "next street, nor when two owls swooped overhead. In fact, it was nearly\n",
    "midnight before the cat moved at all.\n",
    "A man appeared on the corner the cat had been watching, appeared so\n",
    "suddenly and silently you'd have thought he'd just popped out of the\n",
    "ground. The cat's tail twitched and its eyes narrowed.\n",
    "Nothing like this man had ever been seen on Privet Drive. He was tall,\n",
    "thin, and very old, judging by the silver of his hair and beard, which\n",
    "were both long enough to tuck into his belt. He was wearing long robes,\n",
    "a purple cloak that swept the ground, and high-heeled, buckled boots.\n",
    "His blue eyes were light, bright, and sparkling behind half-moon\n",
    "spectacles and his nose was very long and crooked, as though it had been\n",
    "broken at least twice. This man's name was Albus Dumbledore.\n",
    "Albus Dumbledore didn't seem to realize that he had just arrived in a\n",
    "street where everything from his name to his boots was unwelcome. He was\n",
    "busy rummaging in his cloak, looking for something. But he did seem to\n",
    "realize he was being watched, because he looked up suddenly at the cat,\n",
    "which was still staring at him from the other end of the street. For\n",
    "some reason, the sight of the cat seemed to amuse him. He chuckled and\n",
    "muttered, \"I should have known.\"\n",
    "He found what he was looking for in his inside pocket. It seemed to be a\n",
    "silver cigarette lighter. He flicked it open, held it up in the air, and\n",
    "clicked it. The nearest street lamp went out with a little pop. He\n",
    "clicked it again -- the next lamp flickered into darkness. Twelve times\n",
    "he clicked the Put-Outer, until the only lights left on the whole street\n",
    "were two tiny pinpricks in the distance, which were the eyes of the cat\n",
    "watching him. If anyone looked out of their window now, even beady-eyed\n",
    "Mrs. Dursley, they wouldn't be able to see anything that was happening\n",
    "down on the pavement. Dumbledore slipped the Put-Outer back inside his\n",
    "cloak and set off down the street toward number four, where he sat down\n",
    "7\n",
    "on the wall next to the cat. He didn't look at it, but after a moment he\n",
    "spoke to it.\n",
    "\"Fancy seeing you here, Professor McGonagall.\"\n",
    "He turned to smile at the tabby, but it had gone. Instead he was smiling\n",
    "at a rather severe-looking woman who was wearing square glasses exactly\n",
    "the shape of the markings the cat had had around its eyes. She, too, was\n",
    "wearing a cloak, an emerald one. Her black hair was drawn into a tight\n",
    "bun. She looked distinctly ruffled.\n",
    "\"How did you know it was me?\" she asked.\n",
    "\"My dear Professor, I 've never seen a cat sit so stiffly.\"\n",
    "\"You'd be stiff if you'd been sitting on a brick wall all day,\" said\n",
    "Professor McGonagall.\n",
    "\"All day? When you could have been celebrating? I must have passed a\n",
    "dozen feasts and parties on my way here.\"\n",
    "Professor McGonagall sniffed angrily.\n",
    "\n",
    "'''"
   ]
  },
  {
   "cell_type": "code",
   "execution_count": 32,
   "metadata": {},
   "outputs": [
    {
     "data": {
      "text/plain": [
       "3682"
      ]
     },
     "execution_count": 32,
     "metadata": {},
     "output_type": "execute_result"
    }
   ],
   "source": [
    "context_length = len(tokenizer(prompt)['input_ids'])\n",
    "context_length"
   ]
  },
  {
   "cell_type": "code",
   "execution_count": null,
   "metadata": {},
   "outputs": [],
   "source": []
  },
  {
   "cell_type": "code",
   "execution_count": 33,
   "metadata": {},
   "outputs": [],
   "source": [
    "\n",
    "message = [{'role': \"user\", \"content\":\"Summarize in French\" + prompt}]\n",
    "normal_output = pipe(message, max_new_tokens = 100)"
   ]
  },
  {
   "cell_type": "code",
   "execution_count": 34,
   "metadata": {},
   "outputs": [
    {
     "data": {
      "text/plain": [
       "[{'role': 'user',\n",
       "  'content': 'Summarize in French\\nHarry Potter and the Sorcerer\\'s Stone\\nCHAPTER ONE\\nTHE BOY WHO LIVED\\nMr. and Mrs. Dursley, of number four, Privet Drive, were proud to say\\nthat they were perfectly normal, thank you very much. They were the last\\npeople you\\'d expect to be involved in anything strange or mysterious,\\nbecause they just didn\\'t hold with such nonsense.\\nMr. Dursley was the director of a firm called Grunnings, which made\\ndrills. He was a big, beefy man with hardly any neck, although he did\\nhave a very large mustache. Mrs. Dursley was thin and blonde and had\\nnearly twice the usual amount of neck, which came in very useful as she\\nspent so much of her time craning over garden fences, spying on the\\nneighbors. The Dursleys had a small son called Dudley and in their\\nopinion there was no finer boy anywhere.\\nThe Dursleys had everything they wanted, but they also had a secret, and\\ntheir greatest fear was that somebody would discover it. They didn\\'t\\nthink they could bear it if anyone found out about the Potters. Mrs.\\nPotter was Mrs. Dursley\\'s sister, but they hadn\\'t met for several years;\\nin fact, Mrs. Dursley pretended she didn\\'t have a sister, because her\\nsister and her good-for-nothing husband were as unDursleyish as it was\\npossible to be. The Dursleys shuddered to think what the neighbors would\\nsay if the Potters arrived in the street. The Dursleys knew that the\\nPotters had a small son, too, but they had never even seen him. This boy\\nwas another good reason for keeping the Potters away; they didn\\'t want\\nDudley mixing with a child like that.\\nWhen Mr. and Mrs. Dursley woke up on the dull, gray Tuesday our story\\nstarts, there was nothing about the cloudy sky outside to suggest that\\nstrange and mysterious things would soon be happening all over the\\ncountry. Mr. Dursley hummed as he picked out his most boring tie for\\nwork, and Mrs. Dursley gossiped away happily as she wrestled a screaming\\nDudley into his high chair.\\nNone of them noticed a large, tawny owl flutter past the window.\\nAt half past eight, Mr. Dursley picked up his briefcase, pecked Mrs.\\nDursley on the cheek, and tried to kiss Dudley good-bye but missed,\\n2\\nbecause Dudley was now having a tantrum and throwing his cereal at the\\nwalls. \"Little tyke,\" chortled Mr. Dursley as he left the house. He got\\ninto his car and backed out of number four\\'s drive.\\nIt was on the corner of the street that he noticed the first sign of\\nsomething peculiar -- a cat reading a map. For a second, Mr. Dursley\\ndidn\\'t realize what he had seen -- then he jerked his head around to\\nlook again. There was a tabby cat standing on the corner of Privet\\nDrive, but there wasn\\'t a map in sight. What could he have been thinking\\nof? It must have been a trick of the light. Mr. Dursley blinked and\\nstared at the cat. It stared back. As Mr. Dursley drove around the\\ncorner and up the road, he watched the cat in his mirror. It was now\\nreading the sign that said Privet Drive -- no, looking at the sign; cats\\ncouldn\\'t read maps or signs. Mr. Dursley gave himself a little shake and\\nput the cat out of his mind. As he drove toward town he thought of\\nnothing except a large order of drills he was hoping to get that day.\\nBut on the edge of town, drills were driven out of his mind by something\\nelse. As he sat in the usual morning traffic jam, he couldn\\'t help\\nnoticing that there seemed to be a lot of strangely dressed people\\nabout. People in cloaks. Mr. Dursley couldn\\'t bear people who dressed in\\nfunny clothes -- the getups you saw on young people! He supposed this\\nwas some stupid new fashion. He drummed his fingers on the steering\\nwheel and his eyes fell on a huddle of these weirdos standing quite\\nclose by. They were whispering excitedly together. Mr. Dursley was\\nenraged to see that a couple of them weren\\'t young at all; why, that man\\nhad to be older than he was, and wearing an emerald-green cloak! The\\nnerve of him! But then it struck Mr. Dursley that this was probably some\\nsilly stunt -- these people were obviously collecting for something...\\nyes, that would be it. The traffic moved on and a few minutes later, Mr.\\nDursley arrived in the Grunnings parking lot, his mind back on drills.\\nMr. Dursley always sat with his back to the window in his office on the\\nninth floor. If he hadn\\'t, he might have found it harder to concentrate\\non drills that morning. He didn\\'t see the owls swoop ing past in broad\\ndaylight, though people down in the street did; they pointed and gazed\\nopen- mouthed as owl after owl sped overhead. Most of them had never\\nseen an owl even at nighttime. Mr. Dursley, however, had a perfectly\\nnormal, owl-free morning. He yelled at five different people. He made\\nseveral important telephone calls and shouted a bit more. He was in a\\nvery good mood until lunchtime, when he thought he\\'d stretch his legs\\nand walk across the road to buy himself a bun from the bakery.\\n3\\nHe\\'d forgotten all about the people in cloaks until he passed a group of\\nthem next to the baker\\'s. He eyed them angrily as he passed. He didn\\'t\\nknow why, but they made him uneasy. This bunch were whispering\\nexcitedly, too, and he couldn\\'t see a single collecting tin. It was on\\nhis way back past them, clutching a large doughnut in a bag, that he\\ncaught a few words of what they were saying.\\n\"The Potters, that\\'s right, that\\'s what I heard yes, their son, Harry\"\\nMr. Dursley stopped dead. Fear flooded him. He looked back at the\\nwhisperers as if he wanted to say something to them, but thought better\\nof it.\\nHe dashed back across the road, hurried up to his office, snapped at his\\nsecretary not to disturb him, seized his telephone, and had almost\\nfinished dialing his home number when he changed his mind. He put the\\nreceiver back down and stroked his mustache, thinking... no, he was\\nbeing stupid. Potter wasn\\'t such an unusual name. He was sure there were\\nlots of people called Potter who had a son called Harry. Come to think\\nof it, he wasn\\'t even sure his nephew was called Harry. He\\'d never even\\nseen the boy. It might have been Harvey. Or Harold. There was no point\\nin worrying Mrs. Dursley; she always got so upset at any mention of her\\nsister. He didn\\'t blame her -- if he\\'d had a sister like that... but all\\nthe same, those people in cloaks...\\nHe found it a lot harder to concentrate on drills that afternoon and\\nwhen he left the building at five o\\'clock, he was still so worried that\\nhe walked straight into someone just outside the door.\\n\"Sorry,\" he grunted, as the tiny old man stumbled and almost fell. It\\nwas a few seconds before Mr. Dursley realized that the man was wearing a\\nviolet cloak. He didn\\'t seem at all upset at being almost knocked to the\\nground. On the contrary, his face split into a wide smile and he said in\\na squeaky voice that made passersby stare, \"Don\\'t be sorry, my dear sir,\\nfor nothing could upset me today! Rejoice, for You-Know-Who has gone at\\nlast! Even Muggles like yourself should be celebrating, this happy,\\nhappy day!\"\\nAnd the old man hugged Mr. Dursley around the middle and walked off.\\nMr. Dursley stood rooted to the spot. He had been hugged by a complete\\nstranger. He also thought he had been called a Muggle, whatever that\\nwas. He was rattled. He hurried to his car and set off for home, hoping\\n4\\nhe was imagining things, which he had never hoped before, because he\\ndidn\\'t approve of imagination.\\nAs he pulled into the driveway of number four, the first thing he saw --\\nand it didn\\'t improve his mood -- was the tabby cat he\\'d spotted that\\nmorning. It was now sitting on his garden wall. He was sure it was the\\nsame one; it had the same markings around its eyes.\\n\"Shoo!\" said Mr. Dursley loudly. The cat didn\\'t move. It just gave him a\\nstern look. Was this normal cat behavior? Mr. Dursley wondered. Trying\\nto pull himself together, he let himself into the house. He was still\\ndetermined not to mention anything to his wife.\\nMrs. Dursley had had a nice, normal day. She told him over dinner all\\nabout Mrs. Next Door\\'s problems with her daughter and how Dudley had\\nlearned a new word (\"Won\\'t!\"). Mr. Dursley tried to act normally. When\\nDudley had been put to bed, he went into the living room in time to\\ncatch the last report on the evening news:\\n\"And finally, bird-watchers everywhere have reported that the nation\\'s\\nowls have been behaving very unusually today. Although owls normally\\nhunt at night and are hardly ever seen in daylight, there have been\\nhundreds of sightings of these birds flying in every direction since\\nsunrise. Experts are unable to explain why the owls have suddenly\\nchanged their sleeping pattern.\" The newscaster allowed himself a grin.\\n\"Most mysterious. And now, over to Jim McGuffin with the weather. Going\\nto be any more showers of owls tonight, Jim?\"\\n\"Well, Ted,\" said the weatherman, \"I don\\'t know about that, but it\\'s not\\nonly the owls that have been acting oddly today. Viewers as far apart as\\nKent, Yorkshire, and Dundee have been phoning in to tell me that instead\\nof the rain I promised yesterday, they\\'ve had a downpour of shooting\\nstars! Perhaps people have been celebrating Bonfire Night early -- it\\'s\\nnot until next week, folks! But I can promise a wet night tonight.\"\\nMr. Dursley sat frozen in his armchair. Shooting stars all over Britain?\\nOwls flying by daylight? Mysterious people in cloaks all over the place?\\nAnd a whisper, a whisper about the Potters...\\nMrs. Dursley came into the living room carrying two cups of tea. It was\\nno good. He\\'d have to say something to her. He cleared his throat\\nnervously. \"Er -- Petunia, dear -- you haven\\'t heard from your sister\\nlately, have you?\"\\n5\\nAs he had expected, Mrs. Dursley looked shocked and angry. After all,\\nthey normally pretended she didn\\'t have a sister.\\n\"No,\" she said sharply. \"Why?\"\\n\"Funny stuff on the news,\" Mr. Dursley mumbled. \"Owls... shooting\\nstars... and there were a lot of funny-looking people in town today...\"\\n\"So?\" snapped Mrs. Dursley.\\n\"Well, I just thought... maybe... it was something to do with... you\\nknow... her crowd.\"\\nMrs. Dursley sipped her tea through pursed lips. Mr. Dursley wondered\\nwhether he dared tell her he\\'d heard the name \"Potter.\" He decided he\\ndidn\\'t dare. Instead he said, as casually as he could, \"Their son --\\nhe\\'d be about Dudley\\'s age now, wouldn\\'t he?\"\\n\"I suppose so,\" said Mrs. Dursley stiffly.\\n\"What\\'s his name again? Howard, isn\\'t it?\"\\n\"Harry. Nasty, common name, if you ask me.\"\\n\"Oh, yes,\" said Mr. Dursley, his heart sinking horribly. \"Yes, I quite\\nagree.\"\\nHe didn\\'t say another word on the subject as they went upstairs to bed.\\nWhile Mrs. Dursley was in the bathroom, Mr. Dursley crept to the bedroom\\nwindow and peered down into the front garden. The cat was still there.\\nIt was staring down Privet Drive as though it were waiting for\\nsomething.\\nWas he imagining things? Could all this have anything to do with the\\nPotters? If it did... if it got out that they were related to a pair of\\n-- well, he didn\\'t think he could bear it.\\nThe Dursleys got into bed. Mrs. Dursley fell asleep quickly but Mr.\\nDursley lay awake, turning it all over in his mind. His last, comforting\\nthought before he fell asleep was that even if the Potters were\\ninvolved, there was no reason for them to come near him and Mrs.\\nDursley. The Potters knew very well what he and Petunia thought about\\n6\\nthem and their kind.... He couldn\\'t see how he and Petunia could get\\nmixed up in anything that might be going on -- he yawned and turned over\\n-- it couldn\\'t affect them....\\nHow very wrong he was.\\nMr. Dursley might have been drifting into an uneasy sleep, but the cat\\non the wall outside was showing no sign of sleepiness. It was sitting as\\nstill as a statue, its eyes fixed unblinkingly on the far corner of\\nPrivet Drive. It didn\\'t so much as quiver when a car door slammed on the\\nnext street, nor when two owls swooped overhead. In fact, it was nearly\\nmidnight before the cat moved at all.\\nA man appeared on the corner the cat had been watching, appeared so\\nsuddenly and silently you\\'d have thought he\\'d just popped out of the\\nground. The cat\\'s tail twitched and its eyes narrowed.\\nNothing like this man had ever been seen on Privet Drive. He was tall,\\nthin, and very old, judging by the silver of his hair and beard, which\\nwere both long enough to tuck into his belt. He was wearing long robes,\\na purple cloak that swept the ground, and high-heeled, buckled boots.\\nHis blue eyes were light, bright, and sparkling behind half-moon\\nspectacles and his nose was very long and crooked, as though it had been\\nbroken at least twice. This man\\'s name was Albus Dumbledore.\\nAlbus Dumbledore didn\\'t seem to realize that he had just arrived in a\\nstreet where everything from his name to his boots was unwelcome. He was\\nbusy rummaging in his cloak, looking for something. But he did seem to\\nrealize he was being watched, because he looked up suddenly at the cat,\\nwhich was still staring at him from the other end of the street. For\\nsome reason, the sight of the cat seemed to amuse him. He chuckled and\\nmuttered, \"I should have known.\"\\nHe found what he was looking for in his inside pocket. It seemed to be a\\nsilver cigarette lighter. He flicked it open, held it up in the air, and\\nclicked it. The nearest street lamp went out with a little pop. He\\nclicked it again -- the next lamp flickered into darkness. Twelve times\\nhe clicked the Put-Outer, until the only lights left on the whole street\\nwere two tiny pinpricks in the distance, which were the eyes of the cat\\nwatching him. If anyone looked out of their window now, even beady-eyed\\nMrs. Dursley, they wouldn\\'t be able to see anything that was happening\\ndown on the pavement. Dumbledore slipped the Put-Outer back inside his\\ncloak and set off down the street toward number four, where he sat down\\n7\\non the wall next to the cat. He didn\\'t look at it, but after a moment he\\nspoke to it.\\n\"Fancy seeing you here, Professor McGonagall.\"\\nHe turned to smile at the tabby, but it had gone. Instead he was smiling\\nat a rather severe-looking woman who was wearing square glasses exactly\\nthe shape of the markings the cat had had around its eyes. She, too, was\\nwearing a cloak, an emerald one. Her black hair was drawn into a tight\\nbun. She looked distinctly ruffled.\\n\"How did you know it was me?\" she asked.\\n\"My dear Professor, I \\'ve never seen a cat sit so stiffly.\"\\n\"You\\'d be stiff if you\\'d been sitting on a brick wall all day,\" said\\nProfessor McGonagall.\\n\"All day? When you could have been celebrating? I must have passed a\\ndozen feasts and parties on my way here.\"\\nProfessor McGonagall sniffed angrily.\\n\\n'},\n",
       " {'role': 'assistant',\n",
       "  'content': '**CHAPITER 1**\\n\\n**MR. DURSLEY**\\n\\nMr. Dursley was a man of routine. He had a job, he had a wife, and he had a dog. He was a man of simple tastes, and he never did anything to deviate from his routine.\\n\\n**THE MORNING**\\n\\nOn a Tuesday morning, Mr. Dursley woke up and went to his office. He sat down in his chair and started to work. But he was not'}]"
      ]
     },
     "execution_count": 34,
     "metadata": {},
     "output_type": "execute_result"
    }
   ],
   "source": [
    "normal_output[0]['generated_text']"
   ]
  },
  {
   "cell_type": "markdown",
   "metadata": {},
   "source": [
    "Note that the output is in French. The behavior of Llama 8B is different from Mistral 7B here because Llama was trained on larger context length\n",
    "\n",
    "Let's proceed with generation using GUIDE, applying all three levels of enhancement."
   ]
  },
  {
   "cell_type": "code",
   "execution_count": 28,
   "metadata": {},
   "outputs": [],
   "source": [
    "pipe= pipeline(\n",
    "    \"pay-attention\", \n",
    "    model = base_model,\n",
    "    tokenizer = tokenizer, \n",
    "    model_kwargs=dict(cache_dir = \"/Data\"),\n",
    "    **dict(delta_mid = 0)\n",
    ")"
   ]
  },
  {
   "cell_type": "code",
   "execution_count": 29,
   "metadata": {},
   "outputs": [
    {
     "name": "stdout",
     "output_type": "stream",
     "text": [
      "Applying level 1 enhancement to the prompt. Delta = 0.0\n",
      "Inserting special attention on 'Summarize in French'\n"
     ]
    }
   ],
   "source": [
    "message_1 = [{'role': 'user', 'content': \"<!-> Summarize in French <-!>\" + prompt}]\n",
    "out_1 = pipe(message_1, max_new_tokens = 100)"
   ]
  },
  {
   "cell_type": "code",
   "execution_count": 30,
   "metadata": {},
   "outputs": [
    {
     "data": {
      "text/plain": [
       "[{'generated_text': [{'role': 'user',\n",
       "    'content': '<!-> Summarize in French <-!>\\nHarry Potter and the Sorcerer\\'s Stone\\nCHAPTER ONE\\nTHE BOY WHO LIVED\\nMr. and Mrs. Dursley, of number four, Privet Drive, were proud to say\\nthat they were perfectly normal, thank you very much. They were the last\\npeople you\\'d expect to be involved in anything strange or mysterious,\\nbecause they just didn\\'t hold with such nonsense.\\nMr. Dursley was the director of a firm called Grunnings, which made\\ndrills. He was a big, beefy man with hardly any neck, although he did\\nhave a very large mustache. Mrs. Dursley was thin and blonde and had\\nnearly twice the usual amount of neck, which came in very useful as she\\nspent so much of her time craning over garden fences, spying on the\\nneighbors. The Dursleys had a small son called Dudley and in their\\nopinion there was no finer boy anywhere.\\nThe Dursleys had everything they wanted, but they also had a secret, and\\ntheir greatest fear was that somebody would discover it. They didn\\'t\\nthink they could bear it if anyone found out about the Potters. Mrs.\\nPotter was Mrs. Dursley\\'s sister, but they hadn\\'t met for several years;\\nin fact, Mrs. Dursley pretended she didn\\'t have a sister, because her\\nsister and her good-for-nothing husband were as unDursleyish as it was\\npossible to be. The Dursleys shuddered to think what the neighbors would\\nsay if the Potters arrived in the street. The Dursleys knew that the\\nPotters had a small son, too, but they had never even seen him. This boy\\nwas another good reason for keeping the Potters away; they didn\\'t want\\nDudley mixing with a child like that.\\nWhen Mr. and Mrs. Dursley woke up on the dull, gray Tuesday our story\\nstarts, there was nothing about the cloudy sky outside to suggest that\\nstrange and mysterious things would soon be happening all over the\\ncountry. Mr. Dursley hummed as he picked out his most boring tie for\\nwork, and Mrs. Dursley gossiped away happily as she wrestled a screaming\\nDudley into his high chair.\\nNone of them noticed a large, tawny owl flutter past the window.\\nAt half past eight, Mr. Dursley picked up his briefcase, pecked Mrs.\\nDursley on the cheek, and tried to kiss Dudley good-bye but missed,\\n2\\nbecause Dudley was now having a tantrum and throwing his cereal at the\\nwalls. \"Little tyke,\" chortled Mr. Dursley as he left the house. He got\\ninto his car and backed out of number four\\'s drive.\\nIt was on the corner of the street that he noticed the first sign of\\nsomething peculiar -- a cat reading a map. For a second, Mr. Dursley\\ndidn\\'t realize what he had seen -- then he jerked his head around to\\nlook again. There was a tabby cat standing on the corner of Privet\\nDrive, but there wasn\\'t a map in sight. What could he have been thinking\\nof? It must have been a trick of the light. Mr. Dursley blinked and\\nstared at the cat. It stared back. As Mr. Dursley drove around the\\ncorner and up the road, he watched the cat in his mirror. It was now\\nreading the sign that said Privet Drive -- no, looking at the sign; cats\\ncouldn\\'t read maps or signs. Mr. Dursley gave himself a little shake and\\nput the cat out of his mind. As he drove toward town he thought of\\nnothing except a large order of drills he was hoping to get that day.\\nBut on the edge of town, drills were driven out of his mind by something\\nelse. As he sat in the usual morning traffic jam, he couldn\\'t help\\nnoticing that there seemed to be a lot of strangely dressed people\\nabout. People in cloaks. Mr. Dursley couldn\\'t bear people who dressed in\\nfunny clothes -- the getups you saw on young people! He supposed this\\nwas some stupid new fashion. He drummed his fingers on the steering\\nwheel and his eyes fell on a huddle of these weirdos standing quite\\nclose by. They were whispering excitedly together. Mr. Dursley was\\nenraged to see that a couple of them weren\\'t young at all; why, that man\\nhad to be older than he was, and wearing an emerald-green cloak! The\\nnerve of him! But then it struck Mr. Dursley that this was probably some\\nsilly stunt -- these people were obviously collecting for something...\\nyes, that would be it. The traffic moved on and a few minutes later, Mr.\\nDursley arrived in the Grunnings parking lot, his mind back on drills.\\nMr. Dursley always sat with his back to the window in his office on the\\nninth floor. If he hadn\\'t, he might have found it harder to concentrate\\non drills that morning. He didn\\'t see the owls swoop ing past in broad\\ndaylight, though people down in the street did; they pointed and gazed\\nopen- mouthed as owl after owl sped overhead. Most of them had never\\nseen an owl even at nighttime. Mr. Dursley, however, had a perfectly\\nnormal, owl-free morning. He yelled at five different people. He made\\nseveral important telephone calls and shouted a bit more. He was in a\\nvery good mood until lunchtime, when he thought he\\'d stretch his legs\\nand walk across the road to buy himself a bun from the bakery.\\n3\\nHe\\'d forgotten all about the people in cloaks until he passed a group of\\nthem next to the baker\\'s. He eyed them angrily as he passed. He didn\\'t\\nknow why, but they made him uneasy. This bunch were whispering\\nexcitedly, too, and he couldn\\'t see a single collecting tin. It was on\\nhis way back past them, clutching a large doughnut in a bag, that he\\ncaught a few words of what they were saying.\\n\"The Potters, that\\'s right, that\\'s what I heard yes, their son, Harry\"\\nMr. Dursley stopped dead. Fear flooded him. He looked back at the\\nwhisperers as if he wanted to say something to them, but thought better\\nof it.\\nHe dashed back across the road, hurried up to his office, snapped at his\\nsecretary not to disturb him, seized his telephone, and had almost\\nfinished dialing his home number when he changed his mind. He put the\\nreceiver back down and stroked his mustache, thinking... no, he was\\nbeing stupid. Potter wasn\\'t such an unusual name. He was sure there were\\nlots of people called Potter who had a son called Harry. Come to think\\nof it, he wasn\\'t even sure his nephew was called Harry. He\\'d never even\\nseen the boy. It might have been Harvey. Or Harold. There was no point\\nin worrying Mrs. Dursley; she always got so upset at any mention of her\\nsister. He didn\\'t blame her -- if he\\'d had a sister like that... but all\\nthe same, those people in cloaks...\\nHe found it a lot harder to concentrate on drills that afternoon and\\nwhen he left the building at five o\\'clock, he was still so worried that\\nhe walked straight into someone just outside the door.\\n\"Sorry,\" he grunted, as the tiny old man stumbled and almost fell. It\\nwas a few seconds before Mr. Dursley realized that the man was wearing a\\nviolet cloak. He didn\\'t seem at all upset at being almost knocked to the\\nground. On the contrary, his face split into a wide smile and he said in\\na squeaky voice that made passersby stare, \"Don\\'t be sorry, my dear sir,\\nfor nothing could upset me today! Rejoice, for You-Know-Who has gone at\\nlast! Even Muggles like yourself should be celebrating, this happy,\\nhappy day!\"\\nAnd the old man hugged Mr. Dursley around the middle and walked off.\\nMr. Dursley stood rooted to the spot. He had been hugged by a complete\\nstranger. He also thought he had been called a Muggle, whatever that\\nwas. He was rattled. He hurried to his car and set off for home, hoping\\n4\\nhe was imagining things, which he had never hoped before, because he\\ndidn\\'t approve of imagination.\\nAs he pulled into the driveway of number four, the first thing he saw --\\nand it didn\\'t improve his mood -- was the tabby cat he\\'d spotted that\\nmorning. It was now sitting on his garden wall. He was sure it was the\\nsame one; it had the same markings around its eyes.\\n\"Shoo!\" said Mr. Dursley loudly. The cat didn\\'t move. It just gave him a\\nstern look. Was this normal cat behavior? Mr. Dursley wondered. Trying\\nto pull himself together, he let himself into the house. He was still\\ndetermined not to mention anything to his wife.\\nMrs. Dursley had had a nice, normal day. She told him over dinner all\\nabout Mrs. Next Door\\'s problems with her daughter and how Dudley had\\nlearned a new word (\"Won\\'t!\"). Mr. Dursley tried to act normally. When\\nDudley had been put to bed, he went into the living room in time to\\ncatch the last report on the evening news:\\n\"And finally, bird-watchers everywhere have reported that the nation\\'s\\nowls have been behaving very unusually today. Although owls normally\\nhunt at night and are hardly ever seen in daylight, there have been\\nhundreds of sightings of these birds flying in every direction since\\nsunrise. Experts are unable to explain why the owls have suddenly\\nchanged their sleeping pattern.\" The newscaster allowed himself a grin.\\n\"Most mysterious. And now, over to Jim McGuffin with the weather. Going\\nto be any more showers of owls tonight, Jim?\"\\n\"Well, Ted,\" said the weatherman, \"I don\\'t know about that, but it\\'s not\\nonly the owls that have been acting oddly today. Viewers as far apart as\\nKent, Yorkshire, and Dundee have been phoning in to tell me that instead\\nof the rain I promised yesterday, they\\'ve had a downpour of shooting\\nstars! Perhaps people have been celebrating Bonfire Night early -- it\\'s\\nnot until next week, folks! But I can promise a wet night tonight.\"\\nMr. Dursley sat frozen in his armchair. Shooting stars all over Britain?\\nOwls flying by daylight? Mysterious people in cloaks all over the place?\\nAnd a whisper, a whisper about the Potters...\\nMrs. Dursley came into the living room carrying two cups of tea. It was\\nno good. He\\'d have to say something to her. He cleared his throat\\nnervously. \"Er -- Petunia, dear -- you haven\\'t heard from your sister\\nlately, have you?\"\\n5\\nAs he had expected, Mrs. Dursley looked shocked and angry. After all,\\nthey normally pretended she didn\\'t have a sister.\\n\"No,\" she said sharply. \"Why?\"\\n\"Funny stuff on the news,\" Mr. Dursley mumbled. \"Owls... shooting\\nstars... and there were a lot of funny-looking people in town today...\"\\n\"So?\" snapped Mrs. Dursley.\\n\"Well, I just thought... maybe... it was something to do with... you\\nknow... her crowd.\"\\nMrs. Dursley sipped her tea through pursed lips. Mr. Dursley wondered\\nwhether he dared tell her he\\'d heard the name \"Potter.\" He decided he\\ndidn\\'t dare. Instead he said, as casually as he could, \"Their son --\\nhe\\'d be about Dudley\\'s age now, wouldn\\'t he?\"\\n\"I suppose so,\" said Mrs. Dursley stiffly.\\n\"What\\'s his name again? Howard, isn\\'t it?\"\\n\"Harry. Nasty, common name, if you ask me.\"\\n\"Oh, yes,\" said Mr. Dursley, his heart sinking horribly. \"Yes, I quite\\nagree.\"\\nHe didn\\'t say another word on the subject as they went upstairs to bed.\\nWhile Mrs. Dursley was in the bathroom, Mr. Dursley crept to the bedroom\\nwindow and peered down into the front garden. The cat was still there.\\nIt was staring down Privet Drive as though it were waiting for\\nsomething.\\nWas he imagining things? Could all this have anything to do with the\\nPotters? If it did... if it got out that they were related to a pair of\\n-- well, he didn\\'t think he could bear it.\\nThe Dursleys got into bed. Mrs. Dursley fell asleep quickly but Mr.\\nDursley lay awake, turning it all over in his mind. His last, comforting\\nthought before he fell asleep was that even if the Potters were\\ninvolved, there was no reason for them to come near him and Mrs.\\nDursley. The Potters knew very well what he and Petunia thought about\\n6\\nthem and their kind.... He couldn\\'t see how he and Petunia could get\\nmixed up in anything that might be going on -- he yawned and turned over\\n-- it couldn\\'t affect them....\\nHow very wrong he was.\\nMr. Dursley might have been drifting into an uneasy sleep, but the cat\\non the wall outside was showing no sign of sleepiness. It was sitting as\\nstill as a statue, its eyes fixed unblinkingly on the far corner of\\nPrivet Drive. It didn\\'t so much as quiver when a car door slammed on the\\nnext street, nor when two owls swooped overhead. In fact, it was nearly\\nmidnight before the cat moved at all.\\nA man appeared on the corner the cat had been watching, appeared so\\nsuddenly and silently you\\'d have thought he\\'d just popped out of the\\nground. The cat\\'s tail twitched and its eyes narrowed.\\nNothing like this man had ever been seen on Privet Drive. He was tall,\\nthin, and very old, judging by the silver of his hair and beard, which\\nwere both long enough to tuck into his belt. He was wearing long robes,\\na purple cloak that swept the ground, and high-heeled, buckled boots.\\nHis blue eyes were light, bright, and sparkling behind half-moon\\nspectacles and his nose was very long and crooked, as though it had been\\nbroken at least twice. This man\\'s name was Albus Dumbledore.\\nAlbus Dumbledore didn\\'t seem to realize that he had just arrived in a\\nstreet where everything from his name to his boots was unwelcome. He was\\nbusy rummaging in his cloak, looking for something. But he did seem to\\nrealize he was being watched, because he looked up suddenly at the cat,\\nwhich was still staring at him from the other end of the street. For\\nsome reason, the sight of the cat seemed to amuse him. He chuckled and\\nmuttered, \"I should have known.\"\\nHe found what he was looking for in his inside pocket. It seemed to be a\\nsilver cigarette lighter. He flicked it open, held it up in the air, and\\nclicked it. The nearest street lamp went out with a little pop. He\\nclicked it again -- the next lamp flickered into darkness. Twelve times\\nhe clicked the Put-Outer, until the only lights left on the whole street\\nwere two tiny pinpricks in the distance, which were the eyes of the cat\\nwatching him. If anyone looked out of their window now, even beady-eyed\\nMrs. Dursley, they wouldn\\'t be able to see anything that was happening\\ndown on the pavement. Dumbledore slipped the Put-Outer back inside his\\ncloak and set off down the street toward number four, where he sat down\\n7\\non the wall next to the cat. He didn\\'t look at it, but after a moment he\\nspoke to it.\\n\"Fancy seeing you here, Professor McGonagall.\"\\nHe turned to smile at the tabby, but it had gone. Instead he was smiling\\nat a rather severe-looking woman who was wearing square glasses exactly\\nthe shape of the markings the cat had had around its eyes. She, too, was\\nwearing a cloak, an emerald one. Her black hair was drawn into a tight\\nbun. She looked distinctly ruffled.\\n\"How did you know it was me?\" she asked.\\n\"My dear Professor, I \\'ve never seen a cat sit so stiffly.\"\\n\"You\\'d be stiff if you\\'d been sitting on a brick wall all day,\" said\\nProfessor McGonagall.\\n\"All day? When you could have been celebrating? I must have passed a\\ndozen feasts and parties on my way here.\"\\nProfessor McGonagall sniffed angrily.\\n\\n'},\n",
       "   {'role': 'assistant',\n",
       "    'content': '\"And you\\'ve never seen a cat that\\'s been sitting on a wall so long,\\nProfessor?\" she asked.\\n\"I\\'ve seen a few, on my way to the Ministry of Magic.\"\\n\"And you\\'ve never seen a cat that\\'s been sitting on a wall so long,\\nProfessor?\" she asked.\\n\"I\\'ve seen a few, on my way to the Ministry of Magic.\"\\nShe looked at him with a cold, calculating gaze'}]}]"
      ]
     },
     "execution_count": 30,
     "metadata": {},
     "output_type": "execute_result"
    }
   ],
   "source": [
    "out_1"
   ]
  },
  {
   "cell_type": "code",
   "execution_count": 12,
   "metadata": {},
   "outputs": [
    {
     "name": "stderr",
     "output_type": "stream",
     "text": [
      "The attention mask and the pad token id were not set. As a consequence, you may observe unexpected behavior. Please pass your input's `attention_mask` to obtain reliable results.\n",
      "Setting `pad_token_id` to `eos_token_id`:128001 for open-end generation.\n"
     ]
    },
    {
     "name": "stdout",
     "output_type": "stream",
     "text": [
      "Applying level 2 enhancement to the prompt. Delta = 1.0\n",
      "Inserting special attention on 'Summarize in French'\n"
     ]
    }
   ],
   "source": [
    "message_2 = [{'role': 'user', 'content': \"<!!-> Summarize in French <-!!>\" + prompt}]\n",
    "out_2 = pipe(message_2, max_new_tokens = 100)"
   ]
  },
  {
   "cell_type": "code",
   "execution_count": 13,
   "metadata": {},
   "outputs": [
    {
     "data": {
      "text/plain": [
       "[{'generated_text': [{'role': 'user',\n",
       "    'content': '<!!-> Summarize in French <-!!>\\nHarry Potter and the Sorcerer\\'s Stone\\nCHAPTER ONE\\nTHE BOY WHO LIVED\\nMr. and Mrs. Dursley, of number four, Privet Drive, were proud to say\\nthat they were perfectly normal, thank you very much. They were the last\\npeople you\\'d expect to be involved in anything strange or mysterious,\\nbecause they just didn\\'t hold with such nonsense.\\nMr. Dursley was the director of a firm called Grunnings, which made\\ndrills. He was a big, beefy man with hardly any neck, although he did\\nhave a very large mustache. Mrs. Dursley was thin and blonde and had\\nnearly twice the usual amount of neck, which came in very useful as she\\nspent so much of her time craning over garden fences, spying on the\\nneighbors. The Dursleys had a small son called Dudley and in their\\nopinion there was no finer boy anywhere.\\nThe Dursleys had everything they wanted, but they also had a secret, and\\ntheir greatest fear was that somebody would discover it. They didn\\'t\\nthink they could bear it if anyone found out about the Potters. Mrs.\\nPotter was Mrs. Dursley\\'s sister, but they hadn\\'t met for several years;\\nin fact, Mrs. Dursley pretended she didn\\'t have a sister, because her\\nsister and her good-for-nothing husband were as unDursleyish as it was\\npossible to be. The Dursleys shuddered to think what the neighbors would\\nsay if the Potters arrived in the street. The Dursleys knew that the\\nPotters had a small son, too, but they had never even seen him. This boy\\nwas another good reason for keeping the Potters away; they didn\\'t want\\nDudley mixing with a child like that.\\nWhen Mr. and Mrs. Dursley woke up on the dull, gray Tuesday our story\\nstarts, there was nothing about the cloudy sky outside to suggest that\\nstrange and mysterious things would soon be happening all over the\\ncountry. Mr. Dursley hummed as he picked out his most boring tie for\\nwork, and Mrs. Dursley gossiped away happily as she wrestled a screaming\\nDudley into his high chair.\\nNone of them noticed a large, tawny owl flutter past the window.\\nAt half past eight, Mr. Dursley picked up his briefcase, pecked Mrs.\\nDursley on the cheek, and tried to kiss Dudley good-bye but missed,\\n2\\nbecause Dudley was now having a tantrum and throwing his cereal at the\\nwalls. \"Little tyke,\" chortled Mr. Dursley as he left the house. He got\\ninto his car and backed out of number four\\'s drive.\\nIt was on the corner of the street that he noticed the first sign of\\nsomething peculiar -- a cat reading a map. For a second, Mr. Dursley\\ndidn\\'t realize what he had seen -- then he jerked his head around to\\nlook again. There was a tabby cat standing on the corner of Privet\\nDrive, but there wasn\\'t a map in sight. What could he have been thinking\\nof? It must have been a trick of the light. Mr. Dursley blinked and\\nstared at the cat. It stared back. As Mr. Dursley drove around the\\ncorner and up the road, he watched the cat in his mirror. It was now\\nreading the sign that said Privet Drive -- no, looking at the sign; cats\\ncouldn\\'t read maps or signs. Mr. Dursley gave himself a little shake and\\nput the cat out of his mind. As he drove toward town he thought of\\nnothing except a large order of drills he was hoping to get that day.\\nBut on the edge of town, drills were driven out of his mind by something\\nelse. As he sat in the usual morning traffic jam, he couldn\\'t help\\nnoticing that there seemed to be a lot of strangely dressed people\\nabout. People in cloaks. Mr. Dursley couldn\\'t bear people who dressed in\\nfunny clothes -- the getups you saw on young people! He supposed this\\nwas some stupid new fashion. He drummed his fingers on the steering\\nwheel and his eyes fell on a huddle of these weirdos standing quite\\nclose by. They were whispering excitedly together. Mr. Dursley was\\nenraged to see that a couple of them weren\\'t young at all; why, that man\\nhad to be older than he was, and wearing an emerald-green cloak! The\\nnerve of him! But then it struck Mr. Dursley that this was probably some\\nsilly stunt -- these people were obviously collecting for something...\\nyes, that would be it. The traffic moved on and a few minutes later, Mr.\\nDursley arrived in the Grunnings parking lot, his mind back on drills.\\nMr. Dursley always sat with his back to the window in his office on the\\nninth floor. If he hadn\\'t, he might have found it harder to concentrate\\non drills that morning. He didn\\'t see the owls swoop ing past in broad\\ndaylight, though people down in the street did; they pointed and gazed\\nopen- mouthed as owl after owl sped overhead. Most of them had never\\nseen an owl even at nighttime. Mr. Dursley, however, had a perfectly\\nnormal, owl-free morning. He yelled at five different people. He made\\nseveral important telephone calls and shouted a bit more. He was in a\\nvery good mood until lunchtime, when he thought he\\'d stretch his legs\\nand walk across the road to buy himself a bun from the bakery.\\n3\\nHe\\'d forgotten all about the people in cloaks until he passed a group of\\nthem next to the baker\\'s. He eyed them angrily as he passed. He didn\\'t\\nknow why, but they made him uneasy. This bunch were whispering\\nexcitedly, too, and he couldn\\'t see a single collecting tin. It was on\\nhis way back past them, clutching a large doughnut in a bag, that he\\ncaught a few words of what they were saying.\\n\"The Potters, that\\'s right, that\\'s what I heard yes, their son, Harry\"\\nMr. Dursley stopped dead. Fear flooded him. He looked back at the\\nwhisperers as if he wanted to say something to them, but thought better\\nof it.\\nHe dashed back across the road, hurried up to his office, snapped at his\\nsecretary not to disturb him, seized his telephone, and had almost\\nfinished dialing his home number when he changed his mind. He put the\\nreceiver back down and stroked his mustache, thinking... no, he was\\nbeing stupid. Potter wasn\\'t such an unusual name. He was sure there were\\nlots of people called Potter who had a son called Harry. Come to think\\nof it, he wasn\\'t even sure his nephew was called Harry. He\\'d never even\\nseen the boy. It might have been Harvey. Or Harold. There was no point\\nin worrying Mrs. Dursley; she always got so upset at any mention of her\\nsister. He didn\\'t blame her -- if he\\'d had a sister like that... but all\\nthe same, those people in cloaks...\\nHe found it a lot harder to concentrate on drills that afternoon and\\nwhen he left the building at five o\\'clock, he was still so worried that\\nhe walked straight into someone just outside the door.\\n\"Sorry,\" he grunted, as the tiny old man stumbled and almost fell. It\\nwas a few seconds before Mr. Dursley realized that the man was wearing a\\nviolet cloak. He didn\\'t seem at all upset at being almost knocked to the\\nground. On the contrary, his face split into a wide smile and he said in\\na squeaky voice that made passersby stare, \"Don\\'t be sorry, my dear sir,\\nfor nothing could upset me today! Rejoice, for You-Know-Who has gone at\\nlast! Even Muggles like yourself should be celebrating, this happy,\\nhappy day!\"\\nAnd the old man hugged Mr. Dursley around the middle and walked off.\\nMr. Dursley stood rooted to the spot. He had been hugged by a complete\\nstranger. He also thought he had been called a Muggle, whatever that\\nwas. He was rattled. He hurried to his car and set off for home, hoping\\n4\\nhe was imagining things, which he had never hoped before, because he\\ndidn\\'t approve of imagination.\\nAs he pulled into the driveway of number four, the first thing he saw --\\nand it didn\\'t improve his mood -- was the tabby cat he\\'d spotted that\\nmorning. It was now sitting on his garden wall. He was sure it was the\\nsame one; it had the same markings around its eyes.\\n\"Shoo!\" said Mr. Dursley loudly. The cat didn\\'t move. It just gave him a\\nstern look. Was this normal cat behavior? Mr. Dursley wondered. Trying\\nto pull himself together, he let himself into the house. He was still\\ndetermined not to mention anything to his wife.\\nMrs. Dursley had had a nice, normal day. She told him over dinner all\\nabout Mrs. Next Door\\'s problems with her daughter and how Dudley had\\nlearned a new word (\"Won\\'t!\"). Mr. Dursley tried to act normally. When\\nDudley had been put to bed, he went into the living room in time to\\ncatch the last report on the evening news:\\n\"And finally, bird-watchers everywhere have reported that the nation\\'s\\nowls have been behaving very unusually today. Although owls normally\\nhunt at night and are hardly ever seen in daylight, there have been\\nhundreds of sightings of these birds flying in every direction since\\nsunrise. Experts are unable to explain why the owls have suddenly\\nchanged their sleeping pattern.\" The newscaster allowed himself a grin.\\n\"Most mysterious. And now, over to Jim McGuffin with the weather. Going\\nto be any more showers of owls tonight, Jim?\"\\n\"Well, Ted,\" said the weatherman, \"I don\\'t know about that, but it\\'s not\\nonly the owls that have been acting oddly today. Viewers as far apart as\\nKent, Yorkshire, and Dundee have been phoning in to tell me that instead\\nof the rain I promised yesterday, they\\'ve had a downpour of shooting\\nstars! Perhaps people have been celebrating Bonfire Night early -- it\\'s\\nnot until next week, folks! But I can promise a wet night tonight.\"\\nMr. Dursley sat frozen in his armchair. Shooting stars all over Britain?\\nOwls flying by daylight? Mysterious people in cloaks all over the place?\\nAnd a whisper, a whisper about the Potters...\\nMrs. Dursley came into the living room carrying two cups of tea. It was\\nno good. He\\'d have to say something to her. He cleared his throat\\nnervously. \"Er -- Petunia, dear -- you haven\\'t heard from your sister\\nlately, have you?\"\\n5\\nAs he had expected, Mrs. Dursley looked shocked and angry. After all,\\nthey normally pretended she didn\\'t have a sister.\\n\"No,\" she said sharply. \"Why?\"\\n\"Funny stuff on the news,\" Mr. Dursley mumbled. \"Owls... shooting\\nstars... and there were a lot of funny-looking people in town today...\"\\n\"So?\" snapped Mrs. Dursley.\\n\"Well, I just thought... maybe... it was something to do with... you\\nknow... her crowd.\"\\nMrs. Dursley sipped her tea through pursed lips. Mr. Dursley wondered\\nwhether he dared tell her he\\'d heard the name \"Potter.\" He decided he\\ndidn\\'t dare. Instead he said, as casually as he could, \"Their son --\\nhe\\'d be about Dudley\\'s age now, wouldn\\'t he?\"\\n\"I suppose so,\" said Mrs. Dursley stiffly.\\n\"What\\'s his name again? Howard, isn\\'t it?\"\\n\"Harry. Nasty, common name, if you ask me.\"\\n\"Oh, yes,\" said Mr. Dursley, his heart sinking horribly. \"Yes, I quite\\nagree.\"\\nHe didn\\'t say another word on the subject as they went upstairs to bed.\\nWhile Mrs. Dursley was in the bathroom, Mr. Dursley crept to the bedroom\\nwindow and peered down into the front garden. The cat was still there.\\nIt was staring down Privet Drive as though it were waiting for\\nsomething.\\nWas he imagining things? Could all this have anything to do with the\\nPotters? If it did... if it got out that they were related to a pair of\\n-- well, he didn\\'t think he could bear it.\\nThe Dursleys got into bed. Mrs. Dursley fell asleep quickly but Mr.\\nDursley lay awake, turning it all over in his mind. His last, comforting\\nthought before he fell asleep was that even if the Potters were\\ninvolved, there was no reason for them to come near him and Mrs.\\nDursley. The Potters knew very well what he and Petunia thought about\\n6\\nthem and their kind.... He couldn\\'t see how he and Petunia could get\\nmixed up in anything that might be going on -- he yawned and turned over\\n-- it couldn\\'t affect them....\\nHow very wrong he was.\\nMr. Dursley might have been drifting into an uneasy sleep, but the cat\\non the wall outside was showing no sign of sleepiness. It was sitting as\\nstill as a statue, its eyes fixed unblinkingly on the far corner of\\nPrivet Drive. It didn\\'t so much as quiver when a car door slammed on the\\nnext street, nor when two owls swooped overhead. In fact, it was nearly\\nmidnight before the cat moved at all.\\nA man appeared on the corner the cat had been watching, appeared so\\nsuddenly and silently you\\'d have thought he\\'d just popped out of the\\nground. The cat\\'s tail twitched and its eyes narrowed.\\nNothing like this man had ever been seen on Privet Drive. He was tall,\\nthin, and very old, judging by the silver of his hair and beard, which\\nwere both long enough to tuck into his belt. He was wearing long robes,\\na purple cloak that swept the ground, and high-heeled, buckled boots.\\nHis blue eyes were light, bright, and sparkling behind half-moon\\nspectacles and his nose was very long and crooked, as though it had been\\nbroken at least twice. This man\\'s name was Albus Dumbledore.\\nAlbus Dumbledore didn\\'t seem to realize that he had just arrived in a\\nstreet where everything from his name to his boots was unwelcome. He was\\nbusy rummaging in his cloak, looking for something. But he did seem to\\nrealize he was being watched, because he looked up suddenly at the cat,\\nwhich was still staring at him from the other end of the street. For\\nsome reason, the sight of the cat seemed to amuse him. He chuckled and\\nmuttered, \"I should have known.\"\\nHe found what he was looking for in his inside pocket. It seemed to be a\\nsilver cigarette lighter. He flicked it open, held it up in the air, and\\nclicked it. The nearest street lamp went out with a little pop. He\\nclicked it again -- the next lamp flickered into darkness. Twelve times\\nhe clicked the Put-Outer, until the only lights left on the whole street\\nwere two tiny pinpricks in the distance, which were the eyes of the cat\\nwatching him. If anyone looked out of their window now, even beady-eyed\\nMrs. Dursley, they wouldn\\'t be able to see anything that was happening\\ndown on the pavement. Dumbledore slipped the Put-Outer back inside his\\ncloak and set off down the street toward number four, where he sat down\\n7\\non the wall next to the cat. He didn\\'t look at it, but after a moment he\\nspoke to it.\\n\"Fancy seeing you here, Professor McGonagall.\"\\nHe turned to smile at the tabby, but it had gone. Instead he was smiling\\nat a rather severe-looking woman who was wearing square glasses exactly\\nthe shape of the markings the cat had had around its eyes. She, too, was\\nwearing a cloak, an emerald one. Her black hair was drawn into a tight\\nbun. She looked distinctly ruffled.\\n\"How did you know it was me?\" she asked.\\n\"My dear Professor, I \\'ve never seen a cat sit so stiffly.\"\\n\"You\\'d be stiff if you\\'d been sitting on a brick wall all day,\" said\\nProfessor McGonagall.\\n\"All day? When you could have been celebrating? I must have passed a\\ndozen feasts and parties on my way here.\"\\nProfessor McGonagall sniffed angrily.\\n\\n'},\n",
       "   {'role': 'assistant',\n",
       "    'content': 'assistant\\n\\nVoici un résumé en français de la première chapitre du livre \"Harry Potter et la Pierre philosophale\" :\\n\\nM. et Mme Dursley, habitants du numéro 4, Privet Drive, sont fiers de dire qu\\'ils sont parfaitement normaux. Ils ne font pas confiance à ce genre de choses étranges ou mystérieuses.\\n\\nM. Dursley est le directeur d\\'une entreprise appelée Grunnings, qui'}]}]"
      ]
     },
     "execution_count": 13,
     "metadata": {},
     "output_type": "execute_result"
    }
   ],
   "source": [
    "out_2"
   ]
  },
  {
   "cell_type": "code",
   "execution_count": 14,
   "metadata": {},
   "outputs": [
    {
     "name": "stderr",
     "output_type": "stream",
     "text": [
      "The attention mask and the pad token id were not set. As a consequence, you may observe unexpected behavior. Please pass your input's `attention_mask` to obtain reliable results.\n",
      "Setting `pad_token_id` to `eos_token_id`:128001 for open-end generation.\n"
     ]
    },
    {
     "name": "stdout",
     "output_type": "stream",
     "text": [
      "Applying level 3 enhancement to the prompt. Delta = 2.0\n",
      "Inserting special attention on 'Summarize in French'\n"
     ]
    }
   ],
   "source": [
    "message_3 = [{'role': 'user', 'content': \"<!!!-> Summarize in French <-!!!>\" + prompt}]\n",
    "out_3 = pipe(message_3, max_new_tokens = 100)"
   ]
  },
  {
   "cell_type": "code",
   "execution_count": 15,
   "metadata": {},
   "outputs": [
    {
     "data": {
      "text/plain": [
       "[{'generated_text': [{'role': 'user',\n",
       "    'content': '<!!!-> Summarize in French <-!!!>\\nHarry Potter and the Sorcerer\\'s Stone\\nCHAPTER ONE\\nTHE BOY WHO LIVED\\nMr. and Mrs. Dursley, of number four, Privet Drive, were proud to say\\nthat they were perfectly normal, thank you very much. They were the last\\npeople you\\'d expect to be involved in anything strange or mysterious,\\nbecause they just didn\\'t hold with such nonsense.\\nMr. Dursley was the director of a firm called Grunnings, which made\\ndrills. He was a big, beefy man with hardly any neck, although he did\\nhave a very large mustache. Mrs. Dursley was thin and blonde and had\\nnearly twice the usual amount of neck, which came in very useful as she\\nspent so much of her time craning over garden fences, spying on the\\nneighbors. The Dursleys had a small son called Dudley and in their\\nopinion there was no finer boy anywhere.\\nThe Dursleys had everything they wanted, but they also had a secret, and\\ntheir greatest fear was that somebody would discover it. They didn\\'t\\nthink they could bear it if anyone found out about the Potters. Mrs.\\nPotter was Mrs. Dursley\\'s sister, but they hadn\\'t met for several years;\\nin fact, Mrs. Dursley pretended she didn\\'t have a sister, because her\\nsister and her good-for-nothing husband were as unDursleyish as it was\\npossible to be. The Dursleys shuddered to think what the neighbors would\\nsay if the Potters arrived in the street. The Dursleys knew that the\\nPotters had a small son, too, but they had never even seen him. This boy\\nwas another good reason for keeping the Potters away; they didn\\'t want\\nDudley mixing with a child like that.\\nWhen Mr. and Mrs. Dursley woke up on the dull, gray Tuesday our story\\nstarts, there was nothing about the cloudy sky outside to suggest that\\nstrange and mysterious things would soon be happening all over the\\ncountry. Mr. Dursley hummed as he picked out his most boring tie for\\nwork, and Mrs. Dursley gossiped away happily as she wrestled a screaming\\nDudley into his high chair.\\nNone of them noticed a large, tawny owl flutter past the window.\\nAt half past eight, Mr. Dursley picked up his briefcase, pecked Mrs.\\nDursley on the cheek, and tried to kiss Dudley good-bye but missed,\\n2\\nbecause Dudley was now having a tantrum and throwing his cereal at the\\nwalls. \"Little tyke,\" chortled Mr. Dursley as he left the house. He got\\ninto his car and backed out of number four\\'s drive.\\nIt was on the corner of the street that he noticed the first sign of\\nsomething peculiar -- a cat reading a map. For a second, Mr. Dursley\\ndidn\\'t realize what he had seen -- then he jerked his head around to\\nlook again. There was a tabby cat standing on the corner of Privet\\nDrive, but there wasn\\'t a map in sight. What could he have been thinking\\nof? It must have been a trick of the light. Mr. Dursley blinked and\\nstared at the cat. It stared back. As Mr. Dursley drove around the\\ncorner and up the road, he watched the cat in his mirror. It was now\\nreading the sign that said Privet Drive -- no, looking at the sign; cats\\ncouldn\\'t read maps or signs. Mr. Dursley gave himself a little shake and\\nput the cat out of his mind. As he drove toward town he thought of\\nnothing except a large order of drills he was hoping to get that day.\\nBut on the edge of town, drills were driven out of his mind by something\\nelse. As he sat in the usual morning traffic jam, he couldn\\'t help\\nnoticing that there seemed to be a lot of strangely dressed people\\nabout. People in cloaks. Mr. Dursley couldn\\'t bear people who dressed in\\nfunny clothes -- the getups you saw on young people! He supposed this\\nwas some stupid new fashion. He drummed his fingers on the steering\\nwheel and his eyes fell on a huddle of these weirdos standing quite\\nclose by. They were whispering excitedly together. Mr. Dursley was\\nenraged to see that a couple of them weren\\'t young at all; why, that man\\nhad to be older than he was, and wearing an emerald-green cloak! The\\nnerve of him! But then it struck Mr. Dursley that this was probably some\\nsilly stunt -- these people were obviously collecting for something...\\nyes, that would be it. The traffic moved on and a few minutes later, Mr.\\nDursley arrived in the Grunnings parking lot, his mind back on drills.\\nMr. Dursley always sat with his back to the window in his office on the\\nninth floor. If he hadn\\'t, he might have found it harder to concentrate\\non drills that morning. He didn\\'t see the owls swoop ing past in broad\\ndaylight, though people down in the street did; they pointed and gazed\\nopen- mouthed as owl after owl sped overhead. Most of them had never\\nseen an owl even at nighttime. Mr. Dursley, however, had a perfectly\\nnormal, owl-free morning. He yelled at five different people. He made\\nseveral important telephone calls and shouted a bit more. He was in a\\nvery good mood until lunchtime, when he thought he\\'d stretch his legs\\nand walk across the road to buy himself a bun from the bakery.\\n3\\nHe\\'d forgotten all about the people in cloaks until he passed a group of\\nthem next to the baker\\'s. He eyed them angrily as he passed. He didn\\'t\\nknow why, but they made him uneasy. This bunch were whispering\\nexcitedly, too, and he couldn\\'t see a single collecting tin. It was on\\nhis way back past them, clutching a large doughnut in a bag, that he\\ncaught a few words of what they were saying.\\n\"The Potters, that\\'s right, that\\'s what I heard yes, their son, Harry\"\\nMr. Dursley stopped dead. Fear flooded him. He looked back at the\\nwhisperers as if he wanted to say something to them, but thought better\\nof it.\\nHe dashed back across the road, hurried up to his office, snapped at his\\nsecretary not to disturb him, seized his telephone, and had almost\\nfinished dialing his home number when he changed his mind. He put the\\nreceiver back down and stroked his mustache, thinking... no, he was\\nbeing stupid. Potter wasn\\'t such an unusual name. He was sure there were\\nlots of people called Potter who had a son called Harry. Come to think\\nof it, he wasn\\'t even sure his nephew was called Harry. He\\'d never even\\nseen the boy. It might have been Harvey. Or Harold. There was no point\\nin worrying Mrs. Dursley; she always got so upset at any mention of her\\nsister. He didn\\'t blame her -- if he\\'d had a sister like that... but all\\nthe same, those people in cloaks...\\nHe found it a lot harder to concentrate on drills that afternoon and\\nwhen he left the building at five o\\'clock, he was still so worried that\\nhe walked straight into someone just outside the door.\\n\"Sorry,\" he grunted, as the tiny old man stumbled and almost fell. It\\nwas a few seconds before Mr. Dursley realized that the man was wearing a\\nviolet cloak. He didn\\'t seem at all upset at being almost knocked to the\\nground. On the contrary, his face split into a wide smile and he said in\\na squeaky voice that made passersby stare, \"Don\\'t be sorry, my dear sir,\\nfor nothing could upset me today! Rejoice, for You-Know-Who has gone at\\nlast! Even Muggles like yourself should be celebrating, this happy,\\nhappy day!\"\\nAnd the old man hugged Mr. Dursley around the middle and walked off.\\nMr. Dursley stood rooted to the spot. He had been hugged by a complete\\nstranger. He also thought he had been called a Muggle, whatever that\\nwas. He was rattled. He hurried to his car and set off for home, hoping\\n4\\nhe was imagining things, which he had never hoped before, because he\\ndidn\\'t approve of imagination.\\nAs he pulled into the driveway of number four, the first thing he saw --\\nand it didn\\'t improve his mood -- was the tabby cat he\\'d spotted that\\nmorning. It was now sitting on his garden wall. He was sure it was the\\nsame one; it had the same markings around its eyes.\\n\"Shoo!\" said Mr. Dursley loudly. The cat didn\\'t move. It just gave him a\\nstern look. Was this normal cat behavior? Mr. Dursley wondered. Trying\\nto pull himself together, he let himself into the house. He was still\\ndetermined not to mention anything to his wife.\\nMrs. Dursley had had a nice, normal day. She told him over dinner all\\nabout Mrs. Next Door\\'s problems with her daughter and how Dudley had\\nlearned a new word (\"Won\\'t!\"). Mr. Dursley tried to act normally. When\\nDudley had been put to bed, he went into the living room in time to\\ncatch the last report on the evening news:\\n\"And finally, bird-watchers everywhere have reported that the nation\\'s\\nowls have been behaving very unusually today. Although owls normally\\nhunt at night and are hardly ever seen in daylight, there have been\\nhundreds of sightings of these birds flying in every direction since\\nsunrise. Experts are unable to explain why the owls have suddenly\\nchanged their sleeping pattern.\" The newscaster allowed himself a grin.\\n\"Most mysterious. And now, over to Jim McGuffin with the weather. Going\\nto be any more showers of owls tonight, Jim?\"\\n\"Well, Ted,\" said the weatherman, \"I don\\'t know about that, but it\\'s not\\nonly the owls that have been acting oddly today. Viewers as far apart as\\nKent, Yorkshire, and Dundee have been phoning in to tell me that instead\\nof the rain I promised yesterday, they\\'ve had a downpour of shooting\\nstars! Perhaps people have been celebrating Bonfire Night early -- it\\'s\\nnot until next week, folks! But I can promise a wet night tonight.\"\\nMr. Dursley sat frozen in his armchair. Shooting stars all over Britain?\\nOwls flying by daylight? Mysterious people in cloaks all over the place?\\nAnd a whisper, a whisper about the Potters...\\nMrs. Dursley came into the living room carrying two cups of tea. It was\\nno good. He\\'d have to say something to her. He cleared his throat\\nnervously. \"Er -- Petunia, dear -- you haven\\'t heard from your sister\\nlately, have you?\"\\n5\\nAs he had expected, Mrs. Dursley looked shocked and angry. After all,\\nthey normally pretended she didn\\'t have a sister.\\n\"No,\" she said sharply. \"Why?\"\\n\"Funny stuff on the news,\" Mr. Dursley mumbled. \"Owls... shooting\\nstars... and there were a lot of funny-looking people in town today...\"\\n\"So?\" snapped Mrs. Dursley.\\n\"Well, I just thought... maybe... it was something to do with... you\\nknow... her crowd.\"\\nMrs. Dursley sipped her tea through pursed lips. Mr. Dursley wondered\\nwhether he dared tell her he\\'d heard the name \"Potter.\" He decided he\\ndidn\\'t dare. Instead he said, as casually as he could, \"Their son --\\nhe\\'d be about Dudley\\'s age now, wouldn\\'t he?\"\\n\"I suppose so,\" said Mrs. Dursley stiffly.\\n\"What\\'s his name again? Howard, isn\\'t it?\"\\n\"Harry. Nasty, common name, if you ask me.\"\\n\"Oh, yes,\" said Mr. Dursley, his heart sinking horribly. \"Yes, I quite\\nagree.\"\\nHe didn\\'t say another word on the subject as they went upstairs to bed.\\nWhile Mrs. Dursley was in the bathroom, Mr. Dursley crept to the bedroom\\nwindow and peered down into the front garden. The cat was still there.\\nIt was staring down Privet Drive as though it were waiting for\\nsomething.\\nWas he imagining things? Could all this have anything to do with the\\nPotters? If it did... if it got out that they were related to a pair of\\n-- well, he didn\\'t think he could bear it.\\nThe Dursleys got into bed. Mrs. Dursley fell asleep quickly but Mr.\\nDursley lay awake, turning it all over in his mind. His last, comforting\\nthought before he fell asleep was that even if the Potters were\\ninvolved, there was no reason for them to come near him and Mrs.\\nDursley. The Potters knew very well what he and Petunia thought about\\n6\\nthem and their kind.... He couldn\\'t see how he and Petunia could get\\nmixed up in anything that might be going on -- he yawned and turned over\\n-- it couldn\\'t affect them....\\nHow very wrong he was.\\nMr. Dursley might have been drifting into an uneasy sleep, but the cat\\non the wall outside was showing no sign of sleepiness. It was sitting as\\nstill as a statue, its eyes fixed unblinkingly on the far corner of\\nPrivet Drive. It didn\\'t so much as quiver when a car door slammed on the\\nnext street, nor when two owls swooped overhead. In fact, it was nearly\\nmidnight before the cat moved at all.\\nA man appeared on the corner the cat had been watching, appeared so\\nsuddenly and silently you\\'d have thought he\\'d just popped out of the\\nground. The cat\\'s tail twitched and its eyes narrowed.\\nNothing like this man had ever been seen on Privet Drive. He was tall,\\nthin, and very old, judging by the silver of his hair and beard, which\\nwere both long enough to tuck into his belt. He was wearing long robes,\\na purple cloak that swept the ground, and high-heeled, buckled boots.\\nHis blue eyes were light, bright, and sparkling behind half-moon\\nspectacles and his nose was very long and crooked, as though it had been\\nbroken at least twice. This man\\'s name was Albus Dumbledore.\\nAlbus Dumbledore didn\\'t seem to realize that he had just arrived in a\\nstreet where everything from his name to his boots was unwelcome. He was\\nbusy rummaging in his cloak, looking for something. But he did seem to\\nrealize he was being watched, because he looked up suddenly at the cat,\\nwhich was still staring at him from the other end of the street. For\\nsome reason, the sight of the cat seemed to amuse him. He chuckled and\\nmuttered, \"I should have known.\"\\nHe found what he was looking for in his inside pocket. It seemed to be a\\nsilver cigarette lighter. He flicked it open, held it up in the air, and\\nclicked it. The nearest street lamp went out with a little pop. He\\nclicked it again -- the next lamp flickered into darkness. Twelve times\\nhe clicked the Put-Outer, until the only lights left on the whole street\\nwere two tiny pinpricks in the distance, which were the eyes of the cat\\nwatching him. If anyone looked out of their window now, even beady-eyed\\nMrs. Dursley, they wouldn\\'t be able to see anything that was happening\\ndown on the pavement. Dumbledore slipped the Put-Outer back inside his\\ncloak and set off down the street toward number four, where he sat down\\n7\\non the wall next to the cat. He didn\\'t look at it, but after a moment he\\nspoke to it.\\n\"Fancy seeing you here, Professor McGonagall.\"\\nHe turned to smile at the tabby, but it had gone. Instead he was smiling\\nat a rather severe-looking woman who was wearing square glasses exactly\\nthe shape of the markings the cat had had around its eyes. She, too, was\\nwearing a cloak, an emerald one. Her black hair was drawn into a tight\\nbun. She looked distinctly ruffled.\\n\"How did you know it was me?\" she asked.\\n\"My dear Professor, I \\'ve never seen a cat sit so stiffly.\"\\n\"You\\'d be stiff if you\\'d been sitting on a brick wall all day,\" said\\nProfessor McGonagall.\\n\"All day? When you could have been celebrating? I must have passed a\\ndozen feasts and parties on my way here.\"\\nProfessor McGonagall sniffed angrily.\\n\\n'},\n",
       "   {'role': 'assistant',\n",
       "    'content': 'assistant\\n\\nVoici un résumé en français de Harry Potter et la Pierre philosophale :\\n\\nLe premier chapitre nous présente les Dursleys, une famille ordinaire qui ne cache pas son mépris pour les choses étranges et mystérieuses. Mr. Dursley, le père, est un homme robuste et arrogant qui dirige une entreprise de fabrication de perceuses. Mrs. Dursley, la mère, est une femme mince et'}]}]"
      ]
     },
     "execution_count": 15,
     "metadata": {},
     "output_type": "execute_result"
    }
   ],
   "source": [
    "out_3"
   ]
  },
  {
   "cell_type": "markdown",
   "metadata": {},
   "source": [
    "## Trying with Gemma"
   ]
  },
  {
   "cell_type": "code",
   "execution_count": 1,
   "metadata": {},
   "outputs": [],
   "source": [
    "%load_ext autoreload\n",
    "%autoreload 2"
   ]
  },
  {
   "cell_type": "code",
   "execution_count": 2,
   "metadata": {},
   "outputs": [],
   "source": [
    "import os\n",
    "while \"examples\" in os.getcwd():\n",
    "    os.chdir(\"..\")\n",
    "\n",
    "# from pipeline import \n",
    "from transformers import pipeline\n",
    "from transformers.pipelines import PIPELINE_REGISTRY\n",
    "from transformers import AutoModelForCausalLM\n",
    "from transformers import AutoModel, AutoTokenizer, BitsAndBytesConfig\n",
    "\n",
    "from pipeline.pay_attention_pipeline import PayAttentionPipeline, AttentionLevels\n",
    "import torch\n",
    "\n",
    "import matplotlib.pyplot as plt"
   ]
  },
  {
   "cell_type": "code",
   "execution_count": 3,
   "metadata": {},
   "outputs": [
    {
     "data": {
      "application/vnd.jupyter.widget-view+json": {
       "model_id": "6eefc8a128c44e7f8358ec01073eb8af",
       "version_major": 2,
       "version_minor": 0
      },
      "text/plain": [
       "Loading checkpoint shards:   0%|          | 0/2 [00:00<?, ?it/s]"
      ]
     },
     "metadata": {},
     "output_type": "display_data"
    }
   ],
   "source": [
    "quantization_config = BitsAndBytesConfig(\n",
    "    load_in_4bit=True,\n",
    "    bnb_4bit_quant_type=\"nf4\",\n",
    "    bnb_4bit_use_double_quant=True,\n",
    "    bnb_4bit_compute_dtype=torch.bfloat16\n",
    ")\n",
    "\n",
    "\n",
    "tokenizer = AutoTokenizer.from_pretrained(\n",
    "    \n",
    "    \"google/gemma-2-2b-it\",\n",
    "    cache_dir = \"/Data\"    \n",
    ")\n",
    "\n",
    "base_model = AutoModelForCausalLM.from_pretrained(\n",
    "    \"google/gemma-2-2b-it\",\n",
    "    quantization_config = quantization_config,\n",
    "    device_map=\"auto\",\n",
    "    attn_implementation=\"eager\",\n",
    "    cache_dir = \"/Data\" \n",
    ")"
   ]
  },
  {
   "cell_type": "code",
   "execution_count": 4,
   "metadata": {},
   "outputs": [],
   "source": [
    "prompt= '''\n",
    "Brazil,[b] officially the Federative Republic of Brazil,[c] is the largest and easternmost country in South America and Latin America. It is the world's fifth-largest country by area and the seventh most populous. Its capital is Brasília, and its most populous city is São Paulo. Brazil is a federation composed of 26 states and a Federal District. It is the only country in the Americas where Portuguese is an official language.[12][13] Brazil is among the world's most multicultural and ethnically diverse nations, due to over a century of mass immigration from around the world.[14]\n",
    "\n",
    "Bounded by the Atlantic Ocean on the east, Brazil has a coastline of 7,491 kilometers (4,655 mi).[15] Covering roughly half of South America's land area, it borders all other countries and territories on the continent except Ecuador and Chile.[16] Brazil's Amazon basin includes a vast tropical forest home to diverse wildlife, a variety of ecological systems, and extensive natural resources spanning numerous protected habitats.[15] This unique environmental heritage positions Brazil at number one of 17 megadiverse countries. The country's natural richness is also the subject of significant global interest, as environmental degradation (through processes such as deforestation) has direct impacts on global issues such as climate change and biodiversity loss.\n",
    "\n",
    "The territory of present-day Brazil was inhabited by numerous tribal nations prior to the landing of explorer Pedro Álvares Cabral in 1500. Subsequently claimed by the Portuguese Empire, Brazil remained a Portuguese colony until 1808, when the capital of the empire was transferred from Lisbon to Rio de Janeiro. In 1815, the colony was elevated to the rank of kingdom upon the formation of the United Kingdom of Portugal, Brazil and the Algarves. Independence was achieved in 1822 with the creation of the Empire of Brazil, a unitary state governed under a constitutional monarchy and a parliamentary system. The ratification of the first constitution in 1824 led to the formation of a bicameral legislature, now called the National Congress. Slavery was abolished in 1888. The country became a presidential republic in 1889 following a military coup d'état. An authoritarian military dictatorship emerged in 1964 and ruled until 1985, after which civilian governance resumed. Brazil's current constitution, formulated in 1988, defines it as a democratic federal republic.[17] Due to its rich culture and history, the country ranks thirteenth in the world by number of UNESCO World Heritage Sites.[18]\n",
    "\n",
    "Brazil is a regional and middle power[19][20][21] that is an emerging power[22][23][24][25] and a major non-NATO ally of the United States.[26] Categorized as a developing country with a high Human Development Index,[27] Brazil is considered an advanced emerging economy,[28] having the eighth largest GDP in the world in both nominal and PPP terms—the largest in Latin America and the Southern Hemisphere.[8][29] Classified as an upper-middle income economy by the World Bank,[30] and a newly industrialized country by the IMF,[31] Brazil has the largest share of wealth and the most complex economy in South America. It is also one of the world's major breadbaskets, being the largest producer of coffee for the last 150 years.[32] Despite its growing economic and global profile, the country continues to face high levels of corruption, crime and social inequality. Brazil is a founding member of the United Nations, the G20, BRICS, G4, Mercosul, Organization of American States, Organization of Ibero-American States and the Community of Portuguese Language Countries. Brazil is also an observer state of the Arab League.[33]\n",
    "\n",
    "Etymology\n",
    "Main article: Name of Brazil\n",
    "The word Brazil probably comes from the Portuguese word for brazilwood, a tree that once grew plentifully along the Brazilian coast.[34] In Portuguese, brazilwood is called pau-brasil, with the word brasil commonly given the etymology \"red like an ember\", formed from brasa ('ember') and the suffix -il (from -iculum or -ilium).[35] It has alternatively been suggested that this is a folk etymology for a word for the plant related to an Arabic or Asian word for a red plant.[36] As brazilwood produces a deep red dye, it was highly valued by the European textile industry and was the earliest commercially exploited product from Brazil.[37] Throughout the 16th century, massive amounts of brazilwood were harvested by indigenous peoples (mostly Tupi) along the Brazilian coast, who sold the timber to European traders (mostly Portuguese, but also French) in return for assorted European consumer goods.[38]\n",
    "\n",
    "The official Portuguese name of the land, in original Portuguese records, was the \"Land of the Holy Cross\" (Terra da Santa Cruz),[39] but European sailors and merchants commonly called it the \"Land of Brazil\" (Terra do Brasil) because of the brazilwood trade.[40] The popular appellation eclipsed and eventually supplanted the official Portuguese name. Some early sailors called it the \"Land of Parrots\".[41]\n",
    "\n",
    "In the Guaraní language, an official language of Paraguay, Brazil is called \"Pindorama\", meaning 'land of the palm trees'.[42]\n",
    "\n",
    "History\n",
    "Main article: History of Brazil\n",
    "For a chronological guide, see Timeline of Brazilian history.\n",
    "Pre-Cabraline era\n",
    "Main article: Pre-Cabraline history of Brazil\n",
    "See also: Indigenous peoples in Brazil and Marajoara culture\n",
    "\n",
    "Rock art at Serra da Capivara National Park, one of the largest and oldest concentrations of prehistoric sites in the Americas[43]\n",
    "Some of the earliest human remains found in the Americas, Luzia Woman, were found in the area of Pedro Leopoldo, Minas Gerais and provide evidence of human habitation going back at least 11,000 years.[44][45] The earliest pottery ever found in the Western Hemisphere was excavated in the Amazon basin of Brazil and radiocarbon dated to 8,000 years ago (6000 BC). The pottery was found near Santarém and provides evidence that the region supported a complex prehistoric culture.[46] The Marajoara culture flourished on Marajó in the Amazon delta from AD 400 to 1400, developing sophisticated pottery, social stratification, large populations, mound building, and complex social formations such as chiefdoms.[47]\n",
    "\n",
    "Around the time of the Portuguese arrival, the territory of current day Brazil had an estimated indigenous population of 7 million people,[48] mostly semi-nomadic, who subsisted on hunting, fishing, gathering, and migrant agriculture. The population comprised several large indigenous ethnic groups (e.g., the Tupis, Guaranis, Gês, and Arawaks). The Tupi people were subdivided into the Tupiniquins and Tupinambás.[49]\n",
    "\n",
    "Before the arrival of the Europeans, the boundaries between these groups and their subgroups were marked by wars that arose from differences in culture, language and moral beliefs.[50] These wars also involved large-scale military actions on land and water, with cannibalistic rituals on prisoners of war.[51][52] While heredity had some weight, leadership was a status more won over time than assigned in succession ceremonies and conventions.[50] Slavery among the indigenous groups had a different meaning than it had for Europeans, since it originated from a diverse socioeconomic organization, in which asymmetries were translated into kinship relations.[53]\n",
    "\n",
    "Portuguese colonization\n",
    "Main articles: Colonial Brazil and Portuguese Empire\n",
    "See also: Slavery in Brazil, War of the Emboabas, and Minas Gerais Conspiracy\n",
    "\n",
    "Pedro Álvares Cabral landing in Porto Seguro in 1500, ushering in more than 300 years of Portuguese rule\n",
    "\n",
    "Ouro Preto, Minas Gerais, was the center of the Brazilian Gold Rush and was designated a World Heritage Site by UNESCO due to its Baroque colonial architecture.\n",
    "\n",
    "Execution of the Punishment of the Whip by Jean-Baptiste Debret. Nearly 5 million enslaved Africans were imported to Brazil during the Atlantic slave trade, more than any country.[54]\n",
    "Following the 1494 Treaty of Tordesillas, the land now called Brazil was claimed for the Portuguese Empire on 22 April 1500, with the arrival of the Portuguese fleet commanded by Pedro Álvares Cabral.[55] The Portuguese encountered indigenous peoples divided into several ethnic societies, most of whom spoke languages of the Tupi–Guarani family and fought among themselves.[56] Though the first settlement was founded in 1532, colonization effectively began in 1534, when King John III of Portugal divided the territory into the fifteen private and autonomous captaincies.[57][58]\n",
    "\n",
    "However, the decentralized and unorganized tendencies of the captaincies proved problematic, and in 1549 the Portuguese king restructured them into the Governorate General of Brazil in the city of Salvador, which became the capital of a single and centralized Portuguese colony in South America.[58][59] In the first two centuries of colonization, Indigenous and European groups lived in constant war, establishing opportunistic alliances in order to gain advantages against each other.[60][61][62][63]\n",
    "\n",
    "By the mid-16th century, cane sugar had become Brazil's most important export,[56][64] while slaves purchased in Sub-Saharan Africa in the slave market of Western Africa[65] (not only those from Portuguese allies of their colonies in Angola and Mozambique), had become its largest import,[66][67] to cope with sugarcane plantations, due to increasing international demand for Brazilian sugar.[68][69] Brazil received more than 2.8 million slaves from Africa between the years 1500 and 1800.[70]\n",
    "\n",
    "By the end of the 17th century, sugarcane exports began to decline[71] and the discovery of gold by bandeirantes in the 1690s would become the new backbone of the colony's economy, fostering a gold rush[72] which attracted thousands of new settlers to Brazil from Portugal and all Portuguese colonies around the world.[73] This increased level of immigration in turn caused some conflicts between newcomers and old settlers.[74]\n",
    "\n",
    "Portuguese expeditions known as bandeiras gradually expanded Brazil's original colonial frontiers in South America to its approximately current borders.[75][76] In this era other European powers tried to colonize parts of Brazil, in incursions that the Portuguese had to fight, notably the French in Rio during the 1560s, in Maranhão during the 1610s, and the Dutch in Bahia and Pernambuco, during the Dutch–Portuguese War, after the end of Iberian Union.[77]\n",
    "\n",
    "The Portuguese colonial administration in Brazil had two objectives that would ensure colonial order and the monopoly of Portugal's wealthiest and largest colony: to keep under control and eradicate all forms of slave rebellion and resistance, such as the Quilombo of Palmares,[78] and to repress all movements for autonomy or independence, such as the Minas Gerais Conspiracy.[79]\n",
    "\n",
    "Elevation to kingdom\n",
    "Main article: United Kingdom of Portugal, Brazil and the Algarves\n",
    "See also: Invasion of Portugal (1807) and Transfer of the Portuguese court to Brazil\n",
    "\n",
    "The Acclamation of King João VI of the United Kingdom of Portugal, Brazil and the Algarves in Rio de Janeiro, 6 February 1818\n",
    "In late 1807, Spanish and Napoleonic forces threatened the security of continental Portugal, causing Prince Regent John, in the name of Queen Maria I, to move the royal court from Lisbon to Rio de Janeiro.[80] There they established some of Brazil's first financial institutions, such as its local stock exchanges[81] and its National Bank, additionally ending the Portuguese monopoly on Brazilian trade and opening Brazil's ports to other nations. In 1809, in retaliation for being forced into exile, the Prince Regent ordered the conquest of French Guiana.[82]\n",
    "\n",
    "With the end of the Peninsular War in 1814, the courts of Europe demanded that Queen Maria I and Prince Regent John return to Portugal, deeming it unfit for the head of an ancient European monarchy to reside in a colony. In 1815, to justify continuing to live in Brazil, where the royal court had thrived for six years, the Crown established the United Kingdom of Portugal, Brazil and the Algarves, thus creating a pluricontinental transatlantic monarchic state.[83] However, the leadership in Portugal, resentful of the new status of its larger colony, continued to demand the return of the court to Lisbon (see Liberal Revolution of 1820). In 1821, acceding to the demands of revolutionaries who had taken the city of Porto,[84] John VI departed for Lisbon. There he swore an oath to the new constitution, leaving his son, Prince Pedro de Alcântara, as Regent of the Kingdom of Brazil.[85]\n",
    "\n",
    "Independent empire\n",
    "Main articles: Independence of Brazil and Empire of Brazil\n",
    "\n",
    "Declaration of the Brazilian independence by Pedro I on 7 September 1822\n",
    "Tensions between Portuguese and Brazilians increased and the Portuguese Cortes, guided by the new political regime imposed by the Liberal Revolution, tried to re-establish Brazil as a colony.[86] The Brazilians refused to yield, and Prince Pedro decided to stand with them, declaring the country's independence from Portugal on 7 September 1822.[87] A month later, Prince Pedro was declared the first Emperor of Brazil, with the royal title of Dom Pedro I, resulting in the founding of the Empire of Brazil.[88]\n",
    "\n",
    "The Brazilian War of Independence, which had already begun along this process, spread through the northern, northeastern regions and in the Cisplatina province.[89] The last Portuguese soldiers surrendered on 8 March 1824;[90] Portugal officially recognized Brazilian independence on 29 August 1825.[91]\n",
    "\n",
    "On 7 April 1831, worn down by years of administrative turmoil and political dissent with both liberal and conservative sides of politics, including an attempt of republican secession[92] and unreconciled to the way that absolutists in Portugal had given in the succession of King John VI, Pedro I departed for Portugal to reclaim his daughter's crown after abdicating the Brazilian throne in favor of his five-year-old son and heir (Dom Pedro II).[93]\n",
    "\n",
    "\n",
    "Pedro II, Emperor of Brazil between 1831 and 1889\n",
    "As the new Emperor could not exert his constitutional powers until he came of age, a regency was set up by the National Assembly.[94] In the absence of a charismatic figure who could represent a moderate face of power, during this period a series of localized rebellions took place, such as the Cabanagem in Grão-Pará, the Malê Revolt in Salvador, the Balaiada (Maranhão), the Sabinada (Bahia), and the Ragamuffin War, which began in Rio Grande do Sul and was supported by Giuseppe Garibaldi. These emerged from the provinces' dissatisfaction with the central power, coupled with old and latent social tensions peculiar to a vast, slaveholding and newly independent nation state.[95] This period of internal political and social upheaval, which included the Praieira revolt in Pernambuco, was overcome only at the end of the 1840s, years after the end of the regency, which occurred with the premature coronation of Pedro II in 1841.[96]\n",
    "'''"
   ]
  },
  {
   "cell_type": "code",
   "execution_count": 5,
   "metadata": {},
   "outputs": [
    {
     "data": {
      "text/plain": [
       "3328"
      ]
     },
     "execution_count": 5,
     "metadata": {},
     "output_type": "execute_result"
    }
   ],
   "source": [
    "len(tokenizer(prompt)['input_ids'])"
   ]
  },
  {
   "cell_type": "code",
   "execution_count": 6,
   "metadata": {},
   "outputs": [],
   "source": [
    "pipe= pipeline(\n",
    "    \"pay-attention\", \n",
    "    model = base_model,\n",
    "    tokenizer = tokenizer, \n",
    "    model_kwargs=dict(cache_dir = \"/Data\"),\n",
    "    # **dict(delta_mid = )\n",
    ")"
   ]
  },
  {
   "cell_type": "code",
   "execution_count": 7,
   "metadata": {},
   "outputs": [],
   "source": [
    "# pipe.guide_model.remove_hooks()"
   ]
  },
  {
   "cell_type": "code",
   "execution_count": null,
   "metadata": {},
   "outputs": [],
   "source": []
  },
  {
   "cell_type": "code",
   "execution_count": 8,
   "metadata": {},
   "outputs": [
    {
     "name": "stderr",
     "output_type": "stream",
     "text": [
      "Starting from v4.46, the `logits` model output will have the same type as the model (except at train time, where it will always be FP32)\n"
     ]
    }
   ],
   "source": [
    "message = [{'role': \"user\", \"content\": \"Summarize in French\" + prompt}]\n",
    "normal_output = pipe(message, max_new_tokens = 100)"
   ]
  },
  {
   "cell_type": "code",
   "execution_count": 52,
   "metadata": {},
   "outputs": [
    {
     "data": {
      "text/plain": [
       "[{'generated_text': [{'role': 'user',\n",
       "    'content': 'Summarize in French\\nBrazil,[b] officially the Federative Republic of Brazil,[c] is the largest and easternmost country in South America and Latin America. It is the world\\'s fifth-largest country by area and the seventh most populous. Its capital is Brasília, and its most populous city is São Paulo. Brazil is a federation composed of 26 states and a Federal District. It is the only country in the Americas where Portuguese is an official language.[12][13] Brazil is among the world\\'s most multicultural and ethnically diverse nations, due to over a century of mass immigration from around the world.[14]\\n\\nBounded by the Atlantic Ocean on the east, Brazil has a coastline of 7,491 kilometers (4,655 mi).[15] Covering roughly half of South America\\'s land area, it borders all other countries and territories on the continent except Ecuador and Chile.[16] Brazil\\'s Amazon basin includes a vast tropical forest home to diverse wildlife, a variety of ecological systems, and extensive natural resources spanning numerous protected habitats.[15] This unique environmental heritage positions Brazil at number one of 17 megadiverse countries. The country\\'s natural richness is also the subject of significant global interest, as environmental degradation (through processes such as deforestation) has direct impacts on global issues such as climate change and biodiversity loss.\\n\\nThe territory of present-day Brazil was inhabited by numerous tribal nations prior to the landing of explorer Pedro Álvares Cabral in 1500. Subsequently claimed by the Portuguese Empire, Brazil remained a Portuguese colony until 1808, when the capital of the empire was transferred from Lisbon to Rio de Janeiro. In 1815, the colony was elevated to the rank of kingdom upon the formation of the United Kingdom of Portugal, Brazil and the Algarves. Independence was achieved in 1822 with the creation of the Empire of Brazil, a unitary state governed under a constitutional monarchy and a parliamentary system. The ratification of the first constitution in 1824 led to the formation of a bicameral legislature, now called the National Congress. Slavery was abolished in 1888. The country became a presidential republic in 1889 following a military coup d\\'état. An authoritarian military dictatorship emerged in 1964 and ruled until 1985, after which civilian governance resumed. Brazil\\'s current constitution, formulated in 1988, defines it as a democratic federal republic.[17] Due to its rich culture and history, the country ranks thirteenth in the world by number of UNESCO World Heritage Sites.[18]\\n\\nBrazil is a regional and middle power[19][20][21] that is an emerging power[22][23][24][25] and a major non-NATO ally of the United States.[26] Categorized as a developing country with a high Human Development Index,[27] Brazil is considered an advanced emerging economy,[28] having the eighth largest GDP in the world in both nominal and PPP terms—the largest in Latin America and the Southern Hemisphere.[8][29] Classified as an upper-middle income economy by the World Bank,[30] and a newly industrialized country by the IMF,[31] Brazil has the largest share of wealth and the most complex economy in South America. It is also one of the world\\'s major breadbaskets, being the largest producer of coffee for the last 150 years.[32] Despite its growing economic and global profile, the country continues to face high levels of corruption, crime and social inequality. Brazil is a founding member of the United Nations, the G20, BRICS, G4, Mercosul, Organization of American States, Organization of Ibero-American States and the Community of Portuguese Language Countries. Brazil is also an observer state of the Arab League.[33]\\n\\nEtymology\\nMain article: Name of Brazil\\nThe word Brazil probably comes from the Portuguese word for brazilwood, a tree that once grew plentifully along the Brazilian coast.[34] In Portuguese, brazilwood is called pau-brasil, with the word brasil commonly given the etymology \"red like an ember\", formed from brasa (\\'ember\\') and the suffix -il (from -iculum or -ilium).[35] It has alternatively been suggested that this is a folk etymology for a word for the plant related to an Arabic or Asian word for a red plant.[36] As brazilwood produces a deep red dye, it was highly valued by the European textile industry and was the earliest commercially exploited product from Brazil.[37] Throughout the 16th century, massive amounts of brazilwood were harvested by indigenous peoples (mostly Tupi) along the Brazilian coast, who sold the timber to European traders (mostly Portuguese, but also French) in return for assorted European consumer goods.[38]\\n\\nThe official Portuguese name of the land, in original Portuguese records, was the \"Land of the Holy Cross\" (Terra da Santa Cruz),[39] but European sailors and merchants commonly called it the \"Land of Brazil\" (Terra do Brasil) because of the brazilwood trade.[40] The popular appellation eclipsed and eventually supplanted the official Portuguese name. Some early sailors called it the \"Land of Parrots\".[41]\\n\\nIn the Guaraní language, an official language of Paraguay, Brazil is called \"Pindorama\", meaning \\'land of the palm trees\\'.[42]\\n\\nHistory\\nMain article: History of Brazil\\nFor a chronological guide, see Timeline of Brazilian history.\\nPre-Cabraline era\\nMain article: Pre-Cabraline history of Brazil\\nSee also: Indigenous peoples in Brazil and Marajoara culture\\n\\nRock art at Serra da Capivara National Park, one of the largest and oldest concentrations of prehistoric sites in the Americas[43]\\nSome of the earliest human remains found in the Americas, Luzia Woman, were found in the area of Pedro Leopoldo, Minas Gerais and provide evidence of human habitation going back at least 11,000 years.[44][45] The earliest pottery ever found in the Western Hemisphere was excavated in the Amazon basin of Brazil and radiocarbon dated to 8,000 years ago (6000 BC). The pottery was found near Santarém and provides evidence that the region supported a complex prehistoric culture.[46] The Marajoara culture flourished on Marajó in the Amazon delta from AD 400 to 1400, developing sophisticated pottery, social stratification, large populations, mound building, and complex social formations such as chiefdoms.[47]\\n\\nAround the time of the Portuguese arrival, the territory of current day Brazil had an estimated indigenous population of 7 million people,[48] mostly semi-nomadic, who subsisted on hunting, fishing, gathering, and migrant agriculture. The population comprised several large indigenous ethnic groups (e.g., the Tupis, Guaranis, Gês, and Arawaks). The Tupi people were subdivided into the Tupiniquins and Tupinambás.[49]\\n\\nBefore the arrival of the Europeans, the boundaries between these groups and their subgroups were marked by wars that arose from differences in culture, language and moral beliefs.[50] These wars also involved large-scale military actions on land and water, with cannibalistic rituals on prisoners of war.[51][52] While heredity had some weight, leadership was a status more won over time than assigned in succession ceremonies and conventions.[50] Slavery among the indigenous groups had a different meaning than it had for Europeans, since it originated from a diverse socioeconomic organization, in which asymmetries were translated into kinship relations.[53]\\n\\nPortuguese colonization\\nMain articles: Colonial Brazil and Portuguese Empire\\nSee also: Slavery in Brazil, War of the Emboabas, and Minas Gerais Conspiracy\\n\\nPedro Álvares Cabral landing in Porto Seguro in 1500, ushering in more than 300 years of Portuguese rule\\n\\nOuro Preto, Minas Gerais, was the center of the Brazilian Gold Rush and was designated a World Heritage Site by UNESCO due to its Baroque colonial architecture.\\n\\nExecution of the Punishment of the Whip by Jean-Baptiste Debret. Nearly 5 million enslaved Africans were imported to Brazil during the Atlantic slave trade, more than any country.[54]\\nFollowing the 1494 Treaty of Tordesillas, the land now called Brazil was claimed for the Portuguese Empire on 22 April 1500, with the arrival of the Portuguese fleet commanded by Pedro Álvares Cabral.[55] The Portuguese encountered indigenous peoples divided into several ethnic societies, most of whom spoke languages of the Tupi–Guarani family and fought among themselves.[56] Though the first settlement was founded in 1532, colonization effectively began in 1534, when King John III of Portugal divided the territory into the fifteen private and autonomous captaincies.[57][58]\\n\\nHowever, the decentralized and unorganized tendencies of the captaincies proved problematic, and in 1549 the Portuguese king restructured them into the Governorate General of Brazil in the city of Salvador, which became the capital of a single and centralized Portuguese colony in South America.[58][59] In the first two centuries of colonization, Indigenous and European groups lived in constant war, establishing opportunistic alliances in order to gain advantages against each other.[60][61][62][63]\\n\\nBy the mid-16th century, cane sugar had become Brazil\\'s most important export,[56][64] while slaves purchased in Sub-Saharan Africa in the slave market of Western Africa[65] (not only those from Portuguese allies of their colonies in Angola and Mozambique), had become its largest import,[66][67] to cope with sugarcane plantations, due to increasing international demand for Brazilian sugar.[68][69] Brazil received more than 2.8 million slaves from Africa between the years 1500 and 1800.[70]\\n\\nBy the end of the 17th century, sugarcane exports began to decline[71] and the discovery of gold by bandeirantes in the 1690s would become the new backbone of the colony\\'s economy, fostering a gold rush[72] which attracted thousands of new settlers to Brazil from Portugal and all Portuguese colonies around the world.[73] This increased level of immigration in turn caused some conflicts between newcomers and old settlers.[74]\\n\\nPortuguese expeditions known as bandeiras gradually expanded Brazil\\'s original colonial frontiers in South America to its approximately current borders.[75][76] In this era other European powers tried to colonize parts of Brazil, in incursions that the Portuguese had to fight, notably the French in Rio during the 1560s, in Maranhão during the 1610s, and the Dutch in Bahia and Pernambuco, during the Dutch–Portuguese War, after the end of Iberian Union.[77]\\n\\nThe Portuguese colonial administration in Brazil had two objectives that would ensure colonial order and the monopoly of Portugal\\'s wealthiest and largest colony: to keep under control and eradicate all forms of slave rebellion and resistance, such as the Quilombo of Palmares,[78] and to repress all movements for autonomy or independence, such as the Minas Gerais Conspiracy.[79]\\n\\nElevation to kingdom\\nMain article: United Kingdom of Portugal, Brazil and the Algarves\\nSee also: Invasion of Portugal (1807) and Transfer of the Portuguese court to Brazil\\n\\nThe Acclamation of King João VI of the United Kingdom of Portugal, Brazil and the Algarves in Rio de Janeiro, 6 February 1818\\nIn late 1807, Spanish and Napoleonic forces threatened the security of continental Portugal, causing Prince Regent John, in the name of Queen Maria I, to move the royal court from Lisbon to Rio de Janeiro.[80] There they established some of Brazil\\'s first financial institutions, such as its local stock exchanges[81] and its National Bank, additionally ending the Portuguese monopoly on Brazilian trade and opening Brazil\\'s ports to other nations. In 1809, in retaliation for being forced into exile, the Prince Regent ordered the conquest of French Guiana.[82]\\n\\nWith the end of the Peninsular War in 1814, the courts of Europe demanded that Queen Maria I and Prince Regent John return to Portugal, deeming it unfit for the head of an ancient European monarchy to reside in a colony. In 1815, to justify continuing to live in Brazil, where the royal court had thrived for six years, the Crown established the United Kingdom of Portugal, Brazil and the Algarves, thus creating a pluricontinental transatlantic monarchic state.[83] However, the leadership in Portugal, resentful of the new status of its larger colony, continued to demand the return of the court to Lisbon (see Liberal Revolution of 1820). In 1821, acceding to the demands of revolutionaries who had taken the city of Porto,[84] John VI departed for Lisbon. There he swore an oath to the new constitution, leaving his son, Prince Pedro de Alcântara, as Regent of the Kingdom of Brazil.[85]\\n\\nIndependent empire\\nMain articles: Independence of Brazil and Empire of Brazil\\n\\nDeclaration of the Brazilian independence by Pedro I on 7 September 1822\\nTensions between Portuguese and Brazilians increased and the Portuguese Cortes, guided by the new political regime imposed by the Liberal Revolution, tried to re-establish Brazil as a colony.[86] The Brazilians refused to yield, and Prince Pedro decided to stand with them, declaring the country\\'s independence from Portugal on 7 September 1822.[87] A month later, Prince Pedro was declared the first Emperor of Brazil, with the royal title of Dom Pedro I, resulting in the founding of the Empire of Brazil.[88]\\n\\nThe Brazilian War of Independence, which had already begun along this process, spread through the northern, northeastern regions and in the Cisplatina province.[89] The last Portuguese soldiers surrendered on 8 March 1824;[90] Portugal officially recognized Brazilian independence on 29 August 1825.[91]\\n\\nOn 7 April 1831, worn down by years of administrative turmoil and political dissent with both liberal and conservative sides of politics, including an attempt of republican secession[92] and unreconciled to the way that absolutists in Portugal had given in the succession of King John VI, Pedro I departed for Portugal to reclaim his daughter\\'s crown after abdicating the Brazilian throne in favor of his five-year-old son and heir (Dom Pedro II).[93]\\n\\n\\nPedro II, Emperor of Brazil between 1831 and 1889\\nAs the new Emperor could not exert his constitutional powers until he came of age, a regency was set up by the National Assembly.[94] In the absence of a charismatic figure who could represent a moderate face of power, during this period a series of localized rebellions took place, such as the Cabanagem in Grão-Pará, the Malê Revolt in Salvador, the Balaiada (Maranhão), the Sabinada (Bahia), and the Ragamuffin War, which began in Rio Grande do Sul and was supported by Giuseppe Garibaldi. These emerged from the provinces\\' dissatisfaction with the central power, coupled with old and latent social tensions peculiar to a vast, slaveholding and newly independent nation state.[95] This period of internal political and social upheaval, which included the Praieira revolt in Pernambuco, was overcome only at the end of the 1840s, years after the end of the regency, which occurred with the premature coronation of Pedro II in 1841.[96]\\n'},\n",
       "   {'role': 'assistant',\n",
       "    'content': \"## Brazil: A Summary\\n\\n**Brazil, officially the Federative Republic of Brazil, is the largest country in South America and the seventh most populous.** It's a federation composed of 26 states and a Federal District, with Portuguese being the official language. \\n\\n**Here are some key points about Brazil:**\\n\\n* **History:**  Brazil was first claimed by Portugal in 1500, with a complex history marked by colonization, slavery, and independence. The country's\"}]}]"
      ]
     },
     "execution_count": 52,
     "metadata": {},
     "output_type": "execute_result"
    }
   ],
   "source": [
    "normal_output"
   ]
  },
  {
   "cell_type": "code",
   "execution_count": 9,
   "metadata": {},
   "outputs": [
    {
     "name": "stdout",
     "output_type": "stream",
     "text": [
      "Applying level 2 enhancement to the prompt. Delta = 1.0\n",
      "Inserting special attention on 'Summarize in French:'\n"
     ]
    }
   ],
   "source": [
    "message = [{'role': \"user\", \"content\":\" <!!-> Summarize in French: <-!!>\"  + prompt}]\n",
    "out1 = pipe(message, max_new_tokens = 100, do_sample = True)"
   ]
  },
  {
   "cell_type": "code",
   "execution_count": 10,
   "metadata": {},
   "outputs": [
    {
     "data": {
      "text/plain": [
       "[{'generated_text': [{'role': 'user',\n",
       "    'content': ' <!!-> Summarize in French: <-!!>\\nBrazil,[b] officially the Federative Republic of Brazil,[c] is the largest and easternmost country in South America and Latin America. It is the world\\'s fifth-largest country by area and the seventh most populous. Its capital is Brasília, and its most populous city is São Paulo. Brazil is a federation composed of 26 states and a Federal District. It is the only country in the Americas where Portuguese is an official language.[12][13] Brazil is among the world\\'s most multicultural and ethnically diverse nations, due to over a century of mass immigration from around the world.[14]\\n\\nBounded by the Atlantic Ocean on the east, Brazil has a coastline of 7,491 kilometers (4,655 mi).[15] Covering roughly half of South America\\'s land area, it borders all other countries and territories on the continent except Ecuador and Chile.[16] Brazil\\'s Amazon basin includes a vast tropical forest home to diverse wildlife, a variety of ecological systems, and extensive natural resources spanning numerous protected habitats.[15] This unique environmental heritage positions Brazil at number one of 17 megadiverse countries. The country\\'s natural richness is also the subject of significant global interest, as environmental degradation (through processes such as deforestation) has direct impacts on global issues such as climate change and biodiversity loss.\\n\\nThe territory of present-day Brazil was inhabited by numerous tribal nations prior to the landing of explorer Pedro Álvares Cabral in 1500. Subsequently claimed by the Portuguese Empire, Brazil remained a Portuguese colony until 1808, when the capital of the empire was transferred from Lisbon to Rio de Janeiro. In 1815, the colony was elevated to the rank of kingdom upon the formation of the United Kingdom of Portugal, Brazil and the Algarves. Independence was achieved in 1822 with the creation of the Empire of Brazil, a unitary state governed under a constitutional monarchy and a parliamentary system. The ratification of the first constitution in 1824 led to the formation of a bicameral legislature, now called the National Congress. Slavery was abolished in 1888. The country became a presidential republic in 1889 following a military coup d\\'état. An authoritarian military dictatorship emerged in 1964 and ruled until 1985, after which civilian governance resumed. Brazil\\'s current constitution, formulated in 1988, defines it as a democratic federal republic.[17] Due to its rich culture and history, the country ranks thirteenth in the world by number of UNESCO World Heritage Sites.[18]\\n\\nBrazil is a regional and middle power[19][20][21] that is an emerging power[22][23][24][25] and a major non-NATO ally of the United States.[26] Categorized as a developing country with a high Human Development Index,[27] Brazil is considered an advanced emerging economy,[28] having the eighth largest GDP in the world in both nominal and PPP terms—the largest in Latin America and the Southern Hemisphere.[8][29] Classified as an upper-middle income economy by the World Bank,[30] and a newly industrialized country by the IMF,[31] Brazil has the largest share of wealth and the most complex economy in South America. It is also one of the world\\'s major breadbaskets, being the largest producer of coffee for the last 150 years.[32] Despite its growing economic and global profile, the country continues to face high levels of corruption, crime and social inequality. Brazil is a founding member of the United Nations, the G20, BRICS, G4, Mercosul, Organization of American States, Organization of Ibero-American States and the Community of Portuguese Language Countries. Brazil is also an observer state of the Arab League.[33]\\n\\nEtymology\\nMain article: Name of Brazil\\nThe word Brazil probably comes from the Portuguese word for brazilwood, a tree that once grew plentifully along the Brazilian coast.[34] In Portuguese, brazilwood is called pau-brasil, with the word brasil commonly given the etymology \"red like an ember\", formed from brasa (\\'ember\\') and the suffix -il (from -iculum or -ilium).[35] It has alternatively been suggested that this is a folk etymology for a word for the plant related to an Arabic or Asian word for a red plant.[36] As brazilwood produces a deep red dye, it was highly valued by the European textile industry and was the earliest commercially exploited product from Brazil.[37] Throughout the 16th century, massive amounts of brazilwood were harvested by indigenous peoples (mostly Tupi) along the Brazilian coast, who sold the timber to European traders (mostly Portuguese, but also French) in return for assorted European consumer goods.[38]\\n\\nThe official Portuguese name of the land, in original Portuguese records, was the \"Land of the Holy Cross\" (Terra da Santa Cruz),[39] but European sailors and merchants commonly called it the \"Land of Brazil\" (Terra do Brasil) because of the brazilwood trade.[40] The popular appellation eclipsed and eventually supplanted the official Portuguese name. Some early sailors called it the \"Land of Parrots\".[41]\\n\\nIn the Guaraní language, an official language of Paraguay, Brazil is called \"Pindorama\", meaning \\'land of the palm trees\\'.[42]\\n\\nHistory\\nMain article: History of Brazil\\nFor a chronological guide, see Timeline of Brazilian history.\\nPre-Cabraline era\\nMain article: Pre-Cabraline history of Brazil\\nSee also: Indigenous peoples in Brazil and Marajoara culture\\n\\nRock art at Serra da Capivara National Park, one of the largest and oldest concentrations of prehistoric sites in the Americas[43]\\nSome of the earliest human remains found in the Americas, Luzia Woman, were found in the area of Pedro Leopoldo, Minas Gerais and provide evidence of human habitation going back at least 11,000 years.[44][45] The earliest pottery ever found in the Western Hemisphere was excavated in the Amazon basin of Brazil and radiocarbon dated to 8,000 years ago (6000 BC). The pottery was found near Santarém and provides evidence that the region supported a complex prehistoric culture.[46] The Marajoara culture flourished on Marajó in the Amazon delta from AD 400 to 1400, developing sophisticated pottery, social stratification, large populations, mound building, and complex social formations such as chiefdoms.[47]\\n\\nAround the time of the Portuguese arrival, the territory of current day Brazil had an estimated indigenous population of 7 million people,[48] mostly semi-nomadic, who subsisted on hunting, fishing, gathering, and migrant agriculture. The population comprised several large indigenous ethnic groups (e.g., the Tupis, Guaranis, Gês, and Arawaks). The Tupi people were subdivided into the Tupiniquins and Tupinambás.[49]\\n\\nBefore the arrival of the Europeans, the boundaries between these groups and their subgroups were marked by wars that arose from differences in culture, language and moral beliefs.[50] These wars also involved large-scale military actions on land and water, with cannibalistic rituals on prisoners of war.[51][52] While heredity had some weight, leadership was a status more won over time than assigned in succession ceremonies and conventions.[50] Slavery among the indigenous groups had a different meaning than it had for Europeans, since it originated from a diverse socioeconomic organization, in which asymmetries were translated into kinship relations.[53]\\n\\nPortuguese colonization\\nMain articles: Colonial Brazil and Portuguese Empire\\nSee also: Slavery in Brazil, War of the Emboabas, and Minas Gerais Conspiracy\\n\\nPedro Álvares Cabral landing in Porto Seguro in 1500, ushering in more than 300 years of Portuguese rule\\n\\nOuro Preto, Minas Gerais, was the center of the Brazilian Gold Rush and was designated a World Heritage Site by UNESCO due to its Baroque colonial architecture.\\n\\nExecution of the Punishment of the Whip by Jean-Baptiste Debret. Nearly 5 million enslaved Africans were imported to Brazil during the Atlantic slave trade, more than any country.[54]\\nFollowing the 1494 Treaty of Tordesillas, the land now called Brazil was claimed for the Portuguese Empire on 22 April 1500, with the arrival of the Portuguese fleet commanded by Pedro Álvares Cabral.[55] The Portuguese encountered indigenous peoples divided into several ethnic societies, most of whom spoke languages of the Tupi–Guarani family and fought among themselves.[56] Though the first settlement was founded in 1532, colonization effectively began in 1534, when King John III of Portugal divided the territory into the fifteen private and autonomous captaincies.[57][58]\\n\\nHowever, the decentralized and unorganized tendencies of the captaincies proved problematic, and in 1549 the Portuguese king restructured them into the Governorate General of Brazil in the city of Salvador, which became the capital of a single and centralized Portuguese colony in South America.[58][59] In the first two centuries of colonization, Indigenous and European groups lived in constant war, establishing opportunistic alliances in order to gain advantages against each other.[60][61][62][63]\\n\\nBy the mid-16th century, cane sugar had become Brazil\\'s most important export,[56][64] while slaves purchased in Sub-Saharan Africa in the slave market of Western Africa[65] (not only those from Portuguese allies of their colonies in Angola and Mozambique), had become its largest import,[66][67] to cope with sugarcane plantations, due to increasing international demand for Brazilian sugar.[68][69] Brazil received more than 2.8 million slaves from Africa between the years 1500 and 1800.[70]\\n\\nBy the end of the 17th century, sugarcane exports began to decline[71] and the discovery of gold by bandeirantes in the 1690s would become the new backbone of the colony\\'s economy, fostering a gold rush[72] which attracted thousands of new settlers to Brazil from Portugal and all Portuguese colonies around the world.[73] This increased level of immigration in turn caused some conflicts between newcomers and old settlers.[74]\\n\\nPortuguese expeditions known as bandeiras gradually expanded Brazil\\'s original colonial frontiers in South America to its approximately current borders.[75][76] In this era other European powers tried to colonize parts of Brazil, in incursions that the Portuguese had to fight, notably the French in Rio during the 1560s, in Maranhão during the 1610s, and the Dutch in Bahia and Pernambuco, during the Dutch–Portuguese War, after the end of Iberian Union.[77]\\n\\nThe Portuguese colonial administration in Brazil had two objectives that would ensure colonial order and the monopoly of Portugal\\'s wealthiest and largest colony: to keep under control and eradicate all forms of slave rebellion and resistance, such as the Quilombo of Palmares,[78] and to repress all movements for autonomy or independence, such as the Minas Gerais Conspiracy.[79]\\n\\nElevation to kingdom\\nMain article: United Kingdom of Portugal, Brazil and the Algarves\\nSee also: Invasion of Portugal (1807) and Transfer of the Portuguese court to Brazil\\n\\nThe Acclamation of King João VI of the United Kingdom of Portugal, Brazil and the Algarves in Rio de Janeiro, 6 February 1818\\nIn late 1807, Spanish and Napoleonic forces threatened the security of continental Portugal, causing Prince Regent John, in the name of Queen Maria I, to move the royal court from Lisbon to Rio de Janeiro.[80] There they established some of Brazil\\'s first financial institutions, such as its local stock exchanges[81] and its National Bank, additionally ending the Portuguese monopoly on Brazilian trade and opening Brazil\\'s ports to other nations. In 1809, in retaliation for being forced into exile, the Prince Regent ordered the conquest of French Guiana.[82]\\n\\nWith the end of the Peninsular War in 1814, the courts of Europe demanded that Queen Maria I and Prince Regent John return to Portugal, deeming it unfit for the head of an ancient European monarchy to reside in a colony. In 1815, to justify continuing to live in Brazil, where the royal court had thrived for six years, the Crown established the United Kingdom of Portugal, Brazil and the Algarves, thus creating a pluricontinental transatlantic monarchic state.[83] However, the leadership in Portugal, resentful of the new status of its larger colony, continued to demand the return of the court to Lisbon (see Liberal Revolution of 1820). In 1821, acceding to the demands of revolutionaries who had taken the city of Porto,[84] John VI departed for Lisbon. There he swore an oath to the new constitution, leaving his son, Prince Pedro de Alcântara, as Regent of the Kingdom of Brazil.[85]\\n\\nIndependent empire\\nMain articles: Independence of Brazil and Empire of Brazil\\n\\nDeclaration of the Brazilian independence by Pedro I on 7 September 1822\\nTensions between Portuguese and Brazilians increased and the Portuguese Cortes, guided by the new political regime imposed by the Liberal Revolution, tried to re-establish Brazil as a colony.[86] The Brazilians refused to yield, and Prince Pedro decided to stand with them, declaring the country\\'s independence from Portugal on 7 September 1822.[87] A month later, Prince Pedro was declared the first Emperor of Brazil, with the royal title of Dom Pedro I, resulting in the founding of the Empire of Brazil.[88]\\n\\nThe Brazilian War of Independence, which had already begun along this process, spread through the northern, northeastern regions and in the Cisplatina province.[89] The last Portuguese soldiers surrendered on 8 March 1824;[90] Portugal officially recognized Brazilian independence on 29 August 1825.[91]\\n\\nOn 7 April 1831, worn down by years of administrative turmoil and political dissent with both liberal and conservative sides of politics, including an attempt of republican secession[92] and unreconciled to the way that absolutists in Portugal had given in the succession of King John VI, Pedro I departed for Portugal to reclaim his daughter\\'s crown after abdicating the Brazilian throne in favor of his five-year-old son and heir (Dom Pedro II).[93]\\n\\n\\nPedro II, Emperor of Brazil between 1831 and 1889\\nAs the new Emperor could not exert his constitutional powers until he came of age, a regency was set up by the National Assembly.[94] In the absence of a charismatic figure who could represent a moderate face of power, during this period a series of localized rebellions took place, such as the Cabanagem in Grão-Pará, the Malê Revolt in Salvador, the Balaiada (Maranhão), the Sabinada (Bahia), and the Ragamuffin War, which began in Rio Grande do Sul and was supported by Giuseppe Garibaldi. These emerged from the provinces\\' dissatisfaction with the central power, coupled with old and latent social tensions peculiar to a vast, slaveholding and newly independent nation state.[95] This period of internal political and social upheaval, which included the Praieira revolt in Pernambuco, was overcome only at the end of the 1840s, years after the end of the regency, which occurred with the premature coronation of Pedro II in 1841.[96]\\n'},\n",
       "   {'role': 'assistant',\n",
       "    'content': \"##  Breve résumé de la géographie et de l'histoire du Brésil : \\n \\nCe document explore les origines, l'expansion et la diversification d'une des nations riches du continent. \\n\\n**Géographie:** Le Brésil est un pays vaste de 1/3ème de la surface de l'Amérique du Sud, avec une côte longue et une flore exceptionnelle. Elle abrite un haut nombre de ressources naturelles d'une grande importance, faisant d'elle un pays de culture\"}]}]"
      ]
     },
     "execution_count": 10,
     "metadata": {},
     "output_type": "execute_result"
    }
   ],
   "source": [
    "out1"
   ]
  },
  {
   "cell_type": "code",
   "execution_count": null,
   "metadata": {},
   "outputs": [],
   "source": []
  }
 ],
 "metadata": {
  "kernelspec": {
   "display_name": "Python 3",
   "language": "python",
   "name": "python3"
  },
  "language_info": {
   "codemirror_mode": {
    "name": "ipython",
    "version": 3
   },
   "file_extension": ".py",
   "mimetype": "text/x-python",
   "name": "python",
   "nbconvert_exporter": "python",
   "pygments_lexer": "ipython3",
   "version": "3.11.9"
  }
 },
 "nbformat": 4,
 "nbformat_minor": 2
}
